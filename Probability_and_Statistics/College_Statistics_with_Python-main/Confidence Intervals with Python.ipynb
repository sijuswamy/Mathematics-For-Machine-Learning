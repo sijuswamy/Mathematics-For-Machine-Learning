{
 "cells": [
  {
   "cell_type": "markdown",
   "id": "exceptional-vertical",
   "metadata": {},
   "source": [
    "# Introduction\n",
    "In a series of weekly articles, I will be covering some important topics of statistics with a twist.\n",
    "\n",
    "The goal is to use Python to help us get intuition on complex concepts, empirically test theoretical proofs, or build algorithms from scratch. In this series, you will find articles covering topics such as random variables, sampling distributions, confidence intervals, significance tests, and more.\n",
    "\n",
    "At the end of each article, you can find exercises to test your knowledge. The solutions will be shared in the article of the following week.\n",
    "\n",
    "Articles published so far:\n",
    "- [Bernoulli and Binomial Random Variables with Python](https://towardsdatascience.com/bernoulli-and-binomial-random-variables-d0698288dd36)\n",
    "- [From Binomial to Geometric and Poisson Random Variables with Python](https://towardsdatascience.com/geometric-and-poisson-random-variables-with-python-e5dcb63d6b55)\n",
    "- [Sampling Distribution of a Sample Proportion with Python](https://towardsdatascience.com/sampling-distributions-with-python-f5a5f268f636)\n",
    "\n",
    "As usual the code is available on my [GitHub](https://github.com/luisroque/College_Statistics_with_Python)."
   ]
  },
  {
   "cell_type": "markdown",
   "id": "varying-dakota",
   "metadata": {},
   "source": [
    "# Confidence Intervals and Margin of Error"
   ]
  },
  {
   "cell_type": "markdown",
   "id": "liquid-brazil",
   "metadata": {},
   "source": [
    "A group of students was trying to understand which character of *friends* was the funniest and they narrowed it down to Chandler Bing or Ross Geller. They were interested in the likelihood of Ross actually winning, since he has a very awkward sense of humor compared to the sarcastic and witty sense of humor of Chandler. They decided to setup a poll in their school. Ideally, they would ask the entire population, but shortly they understood that it would not be feasible to ask the 5,000 students their preference. Instead they decided to take random samples of 40 students and calculate the sample proportion that supported Ross. The first value that they arrived at was $\\hat p=0.61$.\n",
    "\n",
    "Notice that to continue with their study, the group of students needs to make sure that the conditions to calculate a valid confidence interval for a proportion are met. There are 3 conditions:\n",
    "* The sample has to be random\n",
    "* The sampling distribution of the sample proportions can be approximated by a normal distribution. The rule of thumb is that you need to have at least 10 successes and 10 failures\n",
    "* The samples are required to be independent. The rule of thumb is that if you are sampling without replacement your sample size should be less than 10% the population size"
   ]
  },
  {
   "cell_type": "code",
   "execution_count": 1,
   "id": "animated-outdoors",
   "metadata": {},
   "outputs": [],
   "source": [
    "import numpy as np\n",
    "import seaborn as sns\n",
    "import math\n",
    "from scipy.stats import bernoulli, norm, t, skewnorm\n",
    "import matplotlib.pyplot as plt"
   ]
  },
  {
   "cell_type": "code",
   "execution_count": 2,
   "id": "attractive-beatles",
   "metadata": {},
   "outputs": [],
   "source": [
    "p_hat = 0.61\n",
    "n = 40"
   ]
  },
  {
   "cell_type": "code",
   "execution_count": 3,
   "id": "distinguished-character",
   "metadata": {},
   "outputs": [
    {
     "name": "stdout",
     "output_type": "stream",
     "text": [
      "Normal conditions:\n",
      "successes >= 10: True\n",
      "failures >= 10 : True\n",
      "--\n",
      "Independence condition:\n",
      "True\n"
     ]
    }
   ],
   "source": [
    "print('Normal conditions:')\n",
    "print('successes >= 10: ' + str(n*p_hat >= 10))\n",
    "print('failures >= 10 : ' + str(n*(1-p_hat) >= 10))\n",
    "print('--')\n",
    "print('Independence condition:')\n",
    "print(40/5000 < 0.1)"
   ]
  },
  {
   "cell_type": "markdown",
   "id": "atomic-norwegian",
   "metadata": {},
   "source": [
    "All the conditions are met, the group of students could now focus on building the sampling distribution of the sample proportions; from this distribution they calculated the possible sample proportions they could get and their likelihoods. \n",
    "\n",
    "We already saw that the mean of the sampling distribution is the actual population proportion $p$ and the standard deviation of the sample proportions $\\sigma_{\\hat p}=\\sqrt{\\frac{p(1-p)}{n}}$.\n",
    "\n",
    "Let's start to connect these concepts with the concept of confidence intervals. What is the probability that $\\hat p = 0.61$ is within $2\\sigma_{\\hat p}$ of $p$? For a normal distribution this is approximately 95%. This is equivalent to say that there is a 95% probability that $p$ is within $2\\sigma_{\\hat p}$ of $\\hat p$. And this is the fundamental idea for a confidence interval.\n",
    "\n",
    "Now, we have a problem. We do not know $p$, so we need to use an estimate. The best estimate that we have is naturally $\\hat p$. Thus, instead of using $\\sigma_{\\hat p}$ we use the Standard Error $\\text{SE}_{\\hat p} =\\sqrt{\\frac{\\hat p(1- \\hat p)}{n}}$ to compute our confidence intervals."
   ]
  },
  {
   "cell_type": "code",
   "execution_count": 4,
   "id": "athletic-literature",
   "metadata": {},
   "outputs": [
    {
     "name": "stdout",
     "output_type": "stream",
     "text": [
      "With 95% confidence between 0.46 and 0.76 of students prefer the awkward humor of Ross.\n"
     ]
    }
   ],
   "source": [
    "SE_hat_p = np.sqrt(p_hat*(1-p_hat)/n)\n",
    "print(f'With 95% confidence between {np.round(p_hat - 2*SE_hat_p, 2)} and {np.round(p_hat + 2*SE_hat_p, 2)} of students prefer the awkward humor of Ross.')"
   ]
  },
  {
   "cell_type": "markdown",
   "id": "short-banking",
   "metadata": {},
   "source": [
    "Notice that our confidence interval calculated above can change based on what sample proportion we actually choose. If the group of students sample again 40 new students it could happen that the new sample proportion is now 0.55."
   ]
  },
  {
   "cell_type": "code",
   "execution_count": 5,
   "id": "suburban-newcastle",
   "metadata": {},
   "outputs": [
    {
     "name": "stdout",
     "output_type": "stream",
     "text": [
      "With 95% confidence between 0.39 and 0.71 of students prefer the awkward humor of Ross.\n"
     ]
    }
   ],
   "source": [
    "p_hat = 0.55\n",
    "n = 40\n",
    "SE_hat_p = np.sqrt(p_hat*(1-p_hat)/n)\n",
    "print(f'With 95% confidence between {np.round(p_hat - 2*SE_hat_p, 2)} and {np.round(p_hat + 2*SE_hat_p, 2)} of students prefer the awkward humor of Ross.')"
   ]
  },
  {
   "cell_type": "markdown",
   "id": "daily-billy",
   "metadata": {},
   "source": [
    "We can connect this concept with margin of error. The margin of error for our first trial (knowing that we are interested in getting 95% confidence) is 2 times our $\\text{SE}_{\\hat p}$.\n",
    "\n",
    "An interesting question that often arises is \"what can you do to reduce the margin of error\"? Notice that the margin of error is dependent on $\\text{SE}_{\\hat p}$, which is inversely proportional to the sample size. So, one possible way to reduce the margin of error is to increase the sample size."
   ]
  },
  {
   "cell_type": "code",
   "execution_count": 6,
   "id": "magnetic-survey",
   "metadata": {},
   "outputs": [
    {
     "name": "stdout",
     "output_type": "stream",
     "text": [
      "Margin of error = 0.15732132722552272\n"
     ]
    }
   ],
   "source": [
    "print(f'Margin of error = {2*SE_hat_p}')"
   ]
  },
  {
   "cell_type": "markdown",
   "id": "comfortable-demographic",
   "metadata": {},
   "source": [
    "Again, the same reasoning applies. Depending on what our sample proportion is, our margin of error could have a different value.\n",
    "\n",
    "##### The idea is that if we use this method of computing confidence intervals over and over again, it is going to produce different intervals each time (depending on the sample proportion) that include the true proportion 95% of the time."
   ]
  },
  {
   "cell_type": "code",
   "execution_count": 7,
   "id": "collaborative-refund",
   "metadata": {},
   "outputs": [],
   "source": [
    "confidence_interval=0.95\n",
    "p = 0.61\n",
    "n = 50\n",
    "number_trials = 25\n",
    "\n",
    "p_hat_list = []\n",
    "SE_hat_p_list = []\n",
    "\n",
    "for i in range(number_trials):\n",
    "    s_ = bernoulli.rvs(p=p, size=n)\n",
    "    p_hat = s_[s_==1].shape[0] / s_.shape[0]\n",
    "    p_hat_list.append(p_hat)\n",
    "    SE_hat_p_list.append(2*np.sqrt(p_hat*(1-p_hat)/n))"
   ]
  },
  {
   "cell_type": "code",
   "execution_count": 8,
   "id": "solar-observation",
   "metadata": {},
   "outputs": [
    {
     "data": {
      "image/png": "[encoded data removed]",
      "text/plain": [
       "<Figure size 432x576 with 1 Axes>"
      ]
     },
     "metadata": {
      "needs_background": "light"
     },
     "output_type": "display_data"
    },
    {
     "name": "stdout",
     "output_type": "stream",
     "text": [
      "24/25=0.96\n"
     ]
    }
   ],
   "source": [
    "j=0\n",
    "_, ax = plt.subplots(1, 1, figsize=(6, 8))\n",
    "for i in range(len(p_hat_list)):\n",
    "    if (p>p_hat_list[i]-SE_hat_p_list[i]) & (p<p_hat_list[i]+SE_hat_p_list[i]):\n",
    "        # interval contains p\n",
    "        ax.errorbar(p_hat_list[i], np.arange(len(p_hat_list))[i],lolims=True, xerr=SE_hat_p_list[i], yerr=0.0, linestyle='', c='black')\n",
    "        j +=1\n",
    "    else:\n",
    "        # interval does not contain p\n",
    "        ax.errorbar(p_hat_list[i], np.arange(len(p_hat_list))[i],lolims=True, xerr=SE_hat_p_list[i], yerr=0.0, linestyle='', c='red')\n",
    "ax.axvline(0.61, color='darkorange')\n",
    "plt.xlim(0,1)\n",
    "plt.show()\n",
    "print(f'{j}/{number_trials}={np.round(j/number_trials,2)}')"
   ]
  },
  {
   "cell_type": "markdown",
   "id": "super-footwear",
   "metadata": {},
   "source": [
    "We are plotting the sample proportion $\\hat p$ and the interval $ \\hat p \\pm 2 \\cdot SE_{\\hat p}$. Notice that about 92% of our samples intervals contain the true proportion $p$. This number will converge to 95% as the number of samples increase."
   ]
  },
  {
   "cell_type": "code",
   "execution_count": 9,
   "id": "distant-swift",
   "metadata": {},
   "outputs": [
    {
     "name": "stdout",
     "output_type": "stream",
     "text": [
      "1877/2000=0.94\n"
     ]
    }
   ],
   "source": [
    "number_trials = 2000\n",
    "\n",
    "j=0\n",
    "for i in range(number_trials):\n",
    "    p_hat = bernoulli.rvs(p=p, size=n)\n",
    "    p_hat = p_hat[p_hat==1].shape[0] / p_hat.shape[0]\n",
    "    SE_hat_p = 2*np.sqrt(p_hat*(1-p_hat)/n)\n",
    "    if (p>p_hat-SE_hat_p) & (p<p_hat+SE_hat_p):\n",
    "        # interval contains p\n",
    "        j +=1\n",
    "\n",
    "print(f'{j}/{number_trials}={np.round(j/number_trials,2)}')"
   ]
  },
  {
   "cell_type": "markdown",
   "id": "traditional-forge",
   "metadata": {},
   "source": [
    "What if we were interested in the 99% Confidence Interval? We need to calculate the critical value, also known as $z^*$, for that specific confidence level. The critical value is nothing else than the number of standard deviations below and above the mean that we need to get to capture the desired confidence level (99%). Notice that using a z-table or when using the `norm.ppf` from `scipy`, remember that the values that you get are for a single tail confidence interval. This is not what we want, so we need to get the value for 99.5% instead (leaving 0.5% on each tail of the distribution gives the 99% of confidence)."
   ]
  },
  {
   "cell_type": "code",
   "execution_count": 10,
   "id": "demonstrated-millennium",
   "metadata": {},
   "outputs": [
    {
     "data": {
      "text/plain": [
       "2.5758293035489004"
      ]
     },
     "execution_count": 10,
     "metadata": {},
     "output_type": "execute_result"
    }
   ],
   "source": [
    "CI = 0.99\n",
    "critical_value = norm.ppf(CI+(1-CI)/2) # we want the critical value for a two-tail distribution\n",
    "critical_value"
   ]
  },
  {
   "cell_type": "markdown",
   "id": "future-definition",
   "metadata": {},
   "source": [
    "There is a 99% chance that $p$ is within $2.58 \\cdot \\sigma_{\\hat p}$ of $\\hat p$."
   ]
  },
  {
   "cell_type": "code",
   "execution_count": 11,
   "id": "disabled-connection",
   "metadata": {},
   "outputs": [
    {
     "name": "stdout",
     "output_type": "stream",
     "text": [
      "994/1000=0.99\n"
     ]
    }
   ],
   "source": [
    "number_trials = 1000\n",
    "\n",
    "j=0\n",
    "for i in range(number_trials):\n",
    "    p_hat = bernoulli.rvs(p=p, size=n)\n",
    "    p_hat = p_hat[p_hat==1].shape[0] / p_hat.shape[0]\n",
    "    SE_hat_p = critical_value*np.sqrt(p_hat*(1-p_hat)/n)\n",
    "    if (p>p_hat-SE_hat_p) & (p<p_hat+SE_hat_p):\n",
    "        # interval contains p\n",
    "        j +=1\n",
    "\n",
    "print(f'{j}/{number_trials}={np.round(j/number_trials,2)}')"
   ]
  },
  {
   "cell_type": "markdown",
   "id": "subject-cannon",
   "metadata": {},
   "source": [
    "# Conditions for Valid Confidence Intervals for a Proportion\n",
    "\n",
    "Let's start by recalling the conditions for valid intervals for a proportion:\n",
    "\n",
    "* The sample has to be random\n",
    "* The sampling distribution of the sample proportions can be approximated by a normal distribution. The rule of thumb is that you need to have at least 10 successes and 10 failures\n",
    "* The samples are required to be independent. The rule of thumb is that if you are sampling without replacement your sample size should be less than 10% the population size\n",
    "\n",
    "To help us understand the implications, we are going to exemplify what happens when one of the conditions is not met. First, let's create a function to compute the confidence intervals and plot the last 50 samples."
   ]
  },
  {
   "cell_type": "code",
   "execution_count": 12,
   "id": "automotive-tuning",
   "metadata": {},
   "outputs": [],
   "source": [
    "def confidence_interval(p, n, number_trials, N, ci=0.95, sample='random'):\n",
    "    p_ = bernoulli.rvs(p=p, size=N)\n",
    "    p_hat_list = []\n",
    "    SE_hat_p_list = []\n",
    "    \n",
    "    if sample!='random':\n",
    "        # Inducing bias on the sampling\n",
    "        p_.sort()\n",
    "        p_ = p_[:-int(0.2*N)]\n",
    "        np.random.shuffle(p_)\n",
    "    \n",
    "    for i in range(number_trials):\n",
    "        s_ = np.random.choice(p_, n, replace=False)\n",
    "        p_hat = s_[s_==1].shape[0] / s_.shape[0]\n",
    "        p_hat_list.append(p_hat)\n",
    "        SE_hat_p_list.append(2*np.sqrt(p_hat*(1-p_hat)/n))\n",
    "\n",
    "    j=0\n",
    "    _, ax = plt.subplots(1, 1, figsize=(6, 8))\n",
    "    for i in range(len(p_hat_list)):\n",
    "        if (p>p_hat_list[i]-SE_hat_p_list[i]) & (p<p_hat_list[i]+SE_hat_p_list[i]):\n",
    "            # interval contains p\n",
    "            if i > len(p_hat_list)-50:\n",
    "                ax.errorbar(p_hat_list[i], np.arange(len(p_hat_list))[i],lolims=True, xerr=SE_hat_p_list[i], yerr=0.0, linestyle='', c='black')\n",
    "            j +=1\n",
    "        else:\n",
    "            # interval does not contain p\n",
    "            if i > len(p_hat_list)-50:    \n",
    "                ax.errorbar(p_hat_list[i], np.arange(len(p_hat_list))[i],lolims=True, xerr=SE_hat_p_list[i], yerr=0.0, linestyle='', c='red')\n",
    "    ax.axvline(0.61, color='darkorange')\n",
    "    plt.xlim(0,1)\n",
    "    plt.show()\n",
    "    print(f'{j}/{number_trials}={np.round(j/number_trials,2)}')"
   ]
  },
  {
   "cell_type": "markdown",
   "id": "purple-finger",
   "metadata": {},
   "source": [
    "The first example is the case where our sample is not random, i.e. there is some bias that we are introducing by the way that we are sampling from the population. Referring to our context, this could mean that our group of students is surveying people outside of the school's Comedy Club, with whom the Chandler jokes land more effectively. Our confidence suddenly drops to less than 90%."
   ]
  },
  {
   "cell_type": "code",
   "execution_count": 13,
   "id": "cooked-morris",
   "metadata": {},
   "outputs": [
    {
     "data": {
      "image/png": "[encoded data removed]",
      "text/plain": [
       "<Figure size 432x576 with 1 Axes>"
      ]
     },
     "metadata": {
      "needs_background": "light"
     },
     "output_type": "display_data"
    },
    {
     "name": "stdout",
     "output_type": "stream",
     "text": [
      "884/1000=0.88\n"
     ]
    }
   ],
   "source": [
    "confidence_interval(p=0.61, n=35, number_trials=1000, N=500, sample='not_random')"
   ]
  },
  {
   "cell_type": "markdown",
   "id": "stone-denmark",
   "metadata": {},
   "source": [
    "The second case is the fact that we can not assume that our sampling distribution is normal. Notice that our sampling size is 10, which does not guarantee the more than 10 successes and failures. Once again, despite the fact that we are calculating the 95% confidence interval, the percentage of times where the true proportion $p$ is inside the calculated interval is around 90%."
   ]
  },
  {
   "cell_type": "code",
   "execution_count": 14,
   "id": "collectible-county",
   "metadata": {},
   "outputs": [
    {
     "name": "stdout",
     "output_type": "stream",
     "text": [
      "Normal conditions:\n",
      "successes >= 10: False\n",
      "failures >= 10 : False\n"
     ]
    }
   ],
   "source": [
    "n = 10\n",
    "print('Normal conditions:')\n",
    "print('successes >= 10: ' + str(n*p_hat >= 10))\n",
    "print('failures >= 10 : ' + str(n*(1-p_hat) >= 10))"
   ]
  },
  {
   "cell_type": "code",
   "execution_count": 15,
   "id": "arbitrary-missile",
   "metadata": {},
   "outputs": [
    {
     "data": {
      "image/png": "[encoded data removed]",
      "text/plain": [
       "<Figure size 432x576 with 1 Axes>"
      ]
     },
     "metadata": {
      "needs_background": "light"
     },
     "output_type": "display_data"
    },
    {
     "name": "stdout",
     "output_type": "stream",
     "text": [
      "897/1000=0.9\n"
     ]
    }
   ],
   "source": [
    "confidence_interval(p=0.61, n=10, number_trials=1000, N=500)"
   ]
  },
  {
   "cell_type": "markdown",
   "id": "victorian-harmony",
   "metadata": {},
   "source": [
    "Finally, the last condition is the independence between samples. If the rule of thumb of the 10% is not met we can not assume independence. Once again, our confidence drops to close to 90%."
   ]
  },
  {
   "cell_type": "code",
   "execution_count": 45,
   "id": "advanced-glance",
   "metadata": {},
   "outputs": [
    {
     "name": "stdout",
     "output_type": "stream",
     "text": [
      "Independence condition:\n",
      "False\n"
     ]
    }
   ],
   "source": [
    "n = 150\n",
    "N=600\n",
    "print('Independence condition:')\n",
    "print(n/N < 0.1)"
   ]
  },
  {
   "cell_type": "code",
   "execution_count": 46,
   "id": "usual-personal",
   "metadata": {},
   "outputs": [
    {
     "data": {
      "image/png": "[encoded data removed]",
      "text/plain": [
       "<Figure size 432x576 with 1 Axes>"
      ]
     },
     "metadata": {
      "needs_background": "light"
     },
     "output_type": "display_data"
    },
    {
     "name": "stdout",
     "output_type": "stream",
     "text": [
      "904/1000=0.9\n"
     ]
    }
   ],
   "source": [
    "confidence_interval(p=0.61, n=n, number_trials=1000, N=N)"
   ]
  },
  {
   "cell_type": "markdown",
   "id": "applied-knowing",
   "metadata": {},
   "source": [
    "Now, that we saw all cases where the conditions are not met, let's create one that passes all 3 tests."
   ]
  },
  {
   "cell_type": "code",
   "execution_count": 18,
   "id": "independent-draft",
   "metadata": {},
   "outputs": [
    {
     "data": {
      "image/png": "[encoded data removed]",
      "text/plain": [
       "<Figure size 432x576 with 1 Axes>"
      ]
     },
     "metadata": {
      "needs_background": "light"
     },
     "output_type": "display_data"
    },
    {
     "name": "stdout",
     "output_type": "stream",
     "text": [
      "947/1000=0.95\n"
     ]
    }
   ],
   "source": [
    "confidence_interval(p=0.61, n=35, number_trials=1000, N=500)"
   ]
  },
  {
   "cell_type": "markdown",
   "id": "original-liverpool",
   "metadata": {},
   "source": [
    " Our confidence converges effectively to 95%. We can feel confident about our confidence."
   ]
  },
  {
   "cell_type": "markdown",
   "id": "guilty-twelve",
   "metadata": {},
   "source": [
    "# Estimating the Population Mean\n",
    "\n",
    "We have been solving the problem of estimating the population proportion, which percentage of the population prefers Ross's humor over Chandler's. A different problem is the estimation of the mean of a population. Let's see the main differences. When we estimated the confidence interval for the population proportion we defined:\n",
    "\n",
    "$$\\hat p \\pm z^* \\cdot \\sqrt{\\frac{\\hat p (1-\\hat p)}{n}}$$\n",
    "\n",
    "Following the same principle, we would define the population mean as,\n",
    "\n",
    "$$\\bar x \\pm z^* \\cdot \\frac{s}{\\sqrt{n}}$$\n",
    "\n",
    "Notice that we do not know our population standard deviation, so we use our best estimate, the sample standard deviation. Unfortunately, if we were to use this approach to calculate our confidence interval, we would be underestimating the actual interval. To achieve the 95% confidence we need to use a different critical value based on a t-distribution.\n",
    "\n",
    "\n",
    "$$\\bar x \\pm t^* \\cdot \\frac{s}{\\sqrt{n}}$$\n",
    "\n",
    "Let's do a couple of experiments to prove our point. First, we define the confidence interval for the mean based on the sample standard deviation but calculating the critical value from a normal distribution."
   ]
  },
  {
   "cell_type": "code",
   "execution_count": 19,
   "id": "finnish-approval",
   "metadata": {},
   "outputs": [],
   "source": [
    "def confidence_interval_mean(μ, σ, n, number_trials, N, ci=0.95, sample='random'):\n",
    "    x_ = norm.rvs(loc=μ, scale=σ, size=N)\n",
    "    x_hat_list = []\n",
    "    SE_hat_x_list = []\n",
    "    \n",
    "    if sample!='random':\n",
    "        # Inducing bias on the sampling\n",
    "        x_.sort()\n",
    "        x_ = x_[:-int(0.2*N)]\n",
    "        np.random.shuffle(x_)\n",
    "    \n",
    "    for i in range(number_trials):\n",
    "        s_ = np.random.choice(x_, n, replace=False)\n",
    "        x_hat = np.mean(s_)\n",
    "        x_hat_list.append(x_hat)\n",
    "        SE_hat_x_list.append(norm.ppf(ci+(1-ci)/2)*np.std(s_)/np.sqrt(n))\n",
    "\n",
    "    j=0\n",
    "    _, ax = plt.subplots(1, 1, figsize=(6, 8))\n",
    "    for i in range(len(x_hat_list)):\n",
    "        if (μ>x_hat_list[i]-SE_hat_x_list[i]) & (μ<x_hat_list[i]+SE_hat_x_list[i]):\n",
    "            # interval contains p\n",
    "            if i > len(x_hat_list)-50:\n",
    "                ax.errorbar(x_hat_list[i], np.arange(len(x_hat_list))[i],lolims=True, xerr=SE_hat_x_list[i], yerr=0.0, linestyle='', c='black')\n",
    "            j +=1\n",
    "        else:\n",
    "            # interval does not contain p\n",
    "            if i > len(x_hat_list)-50:    \n",
    "                ax.errorbar(x_hat_list[i], np.arange(len(x_hat_list))[i],lolims=True, xerr=SE_hat_x_list[i], yerr=0.0, linestyle='', c='red')\n",
    "    ax.axvline(μ, color='darkorange')\n",
    "    #plt.xlim(0,1)\n",
    "    plt.show()\n",
    "    print(f'{j}/{number_trials}={np.round(j/number_trials,2)}')"
   ]
  },
  {
   "cell_type": "code",
   "execution_count": 20,
   "id": "jewish-heart",
   "metadata": {},
   "outputs": [
    {
     "data": {
      "image/png": "[encoded data removed]",
      "text/plain": [
       "<Figure size 432x576 with 1 Axes>"
      ]
     },
     "metadata": {
      "needs_background": "light"
     },
     "output_type": "display_data"
    },
    {
     "name": "stdout",
     "output_type": "stream",
     "text": [
      "1837/2000=0.92\n"
     ]
    }
   ],
   "source": [
    "confidence_interval_mean(2, 0.5, 12, 2000, 1000)"
   ]
  },
  {
   "cell_type": "markdown",
   "id": "pacific-occasion",
   "metadata": {},
   "source": [
    "What we were expecting happened, as the true mean is only contained in our confidence intervals 92% of the time. This is not the intended, as we are calculating the 95% confidence intervals for the mean. \n",
    "\n",
    "In the second experiment, the critical value used is now calculated from a t-distribution."
   ]
  },
  {
   "cell_type": "code",
   "execution_count": 21,
   "id": "integrated-montgomery",
   "metadata": {},
   "outputs": [],
   "source": [
    "def confidence_interval_mean_t(μ, σ, n, number_trials, N, ci=0.95, sample='random'):\n",
    "    x_ = norm.rvs(loc=μ, scale=σ, size=N)\n",
    "    x_hat_list = []\n",
    "    SE_hat_x_list = []\n",
    "    \n",
    "    if sample!='random':\n",
    "        # Inducing bias on the sampling\n",
    "        x_.sort()\n",
    "        x_ = x_[:-int(0.2*N)]\n",
    "        np.random.shuffle(x_)\n",
    "    \n",
    "    for i in range(number_trials):\n",
    "        s_ = np.random.choice(x_, n, replace=False)\n",
    "        x_hat = np.mean(s_)\n",
    "        x_hat_list.append(x_hat)\n",
    "        SE_hat_x_list.append(t.ppf(ci+(1-ci)/2, df=n-1)*np.std(s_)/np.sqrt(n))\n",
    "\n",
    "    j=0\n",
    "    _, ax = plt.subplots(1, 1, figsize=(6, 8))\n",
    "    for i in range(len(x_hat_list)):\n",
    "        if (μ>x_hat_list[i]-SE_hat_x_list[i]) & (μ<x_hat_list[i]+SE_hat_x_list[i]):\n",
    "            # interval contains p\n",
    "            if i > len(x_hat_list)-50:\n",
    "                ax.errorbar(x_hat_list[i], np.arange(len(x_hat_list))[i],lolims=True, xerr=SE_hat_x_list[i], yerr=0.0, linestyle='', c='black')\n",
    "            j +=1\n",
    "        else:\n",
    "            # interval does not contain p\n",
    "            if i > len(x_hat_list)-50:    \n",
    "                ax.errorbar(x_hat_list[i], np.arange(len(x_hat_list))[i],lolims=True, xerr=SE_hat_x_list[i], yerr=0.0, linestyle='', c='red')\n",
    "    ax.axvline(μ, color='darkorange')\n",
    "    #plt.xlim(0,1)\n",
    "    plt.show()\n",
    "    print(f'{j}/{number_trials}={np.round(j/number_trials,2)}')"
   ]
  },
  {
   "cell_type": "code",
   "execution_count": 49,
   "id": "lucky-malpractice",
   "metadata": {},
   "outputs": [
    {
     "data": {
      "image/png": "[encoded data removed]",
      "text/plain": [
       "<Figure size 432x576 with 1 Axes>"
      ]
     },
     "metadata": {
      "needs_background": "light"
     },
     "output_type": "display_data"
    },
    {
     "name": "stdout",
     "output_type": "stream",
     "text": [
      "1892/2000=0.95\n"
     ]
    }
   ],
   "source": [
    "confidence_interval_mean_t(2, 0.5, 12, 2000, 1000)"
   ]
  },
  {
   "cell_type": "markdown",
   "id": "stone-captain",
   "metadata": {},
   "source": [
    "Our confidence converges effectively to 95%. Once again, we can feel confident about our confidence."
   ]
  },
  {
   "cell_type": "markdown",
   "id": "stainless-sellers",
   "metadata": {},
   "source": [
    "# Conditions for valid t intervals"
   ]
  },
  {
   "cell_type": "markdown",
   "id": "advised-installation",
   "metadata": {},
   "source": [
    "We already saw the conditions for valid intervals for a proportion. In the case of t intervals, the same rules apply. The difference is on how to validate if our distribution can be considered normal. :\n",
    "\n",
    "* The sample has to be random\n",
    "* The sampling distribution of the sample mean can be approximated by a normal distribution. There are three ways to achieve it: sample size is bigger than 30 (central limit theorem applies), original distribution is normal or the original distribution is symmetric.\n",
    "* The samples are required to be independent. The rule of thumb is that if you are sampling without replacement your sample size should be less than 10% the population size\n",
    "\n",
    "We leave the experiments to prove that the bullets presented as an exercise for this week."
   ]
  },
  {
   "cell_type": "markdown",
   "id": "innovative-infection",
   "metadata": {},
   "source": [
    "# Exercises\n",
    "\n",
    "You will get the solutions on next week's article."
   ]
  },
  {
   "cell_type": "markdown",
   "id": "authorized-pattern",
   "metadata": {},
   "source": [
    "1. Change the function `confidence_interval_mean_t` and build 5 different experiments to calculate a 95% interval for a sample mean, 3 of them where the conditions for a t interval are not met and 2 where they are. For the 3 where the conditions are not met define the following scenarios: sampling not random, original distribution not approximately normal and independence not met. For the 2 cases where conditions are met define: one case where the original distribution is normal and another where the original distribution is skewed but the sampling mean is normally distributed. For these last two cases, the true population mean should be contained in the calculated confidence intervals 95% of the time. \n",
    "\n",
    "*Hint: you might find useful to use the function `skewnorm` from `scipy`. Below, you have a modified version of a normal distribution skewed by a skewness parameter, mean and standard deviation.*"
   ]
  },
  {
   "cell_type": "code",
   "execution_count": 23,
   "id": "outside-transaction",
   "metadata": {},
   "outputs": [
    {
     "name": "stdout",
     "output_type": "stream",
     "text": [
      "target mean=2.0000 actual mean=2.0000\n",
      "target stdev=0.5000 actual stdev=0.5000\n"
     ]
    }
   ],
   "source": [
    "# code adapted from https://stackoverflow.com/questions/49367436/scipy-skewnorm-mean-not-matching-theory\n",
    "\n",
    "skew = 4.0\n",
    "mean = 2\n",
    "stdev = 0.5\n",
    "\n",
    "delta = skew / math.sqrt(1. + math.pow(skew, 2.))\n",
    "adjStdev = math.sqrt(math.pow(stdev, 2.) / (1. - 2. * math.pow(delta, 2.) / math.pi))\n",
    "adjMean = mean - adjStdev * math.sqrt(2. / math.pi) * delta\n",
    "\n",
    "print('target mean={:.4f} actual mean={:.4f}'.format(mean, float(skewnorm.stats(skew, loc=adjMean, scale=adjStdev, moments='mvsk')[0])))\n",
    "print('target stdev={:.4f} actual stdev={:.4f}'.format(stdev, math.sqrt(float(skewnorm.stats(skew, loc=adjMean, scale=adjStdev, moments='mvsk')[1]))))"
   ]
  },
  {
   "cell_type": "code",
   "execution_count": 24,
   "id": "plain-revolution",
   "metadata": {},
   "outputs": [
    {
     "data": {
      "image/png": "[encoded data removed]",
      "text/plain": [
       "<Figure size 432x288 with 1 Axes>"
      ]
     },
     "metadata": {
      "needs_background": "light"
     },
     "output_type": "display_data"
    }
   ],
   "source": [
    "# Original skewed distribution\n",
    "\n",
    "plt.hist(skewnorm.rvs(a = skew, loc=adjMean, scale=adjStdev, size=2000), bins=50);"
   ]
  },
  {
   "cell_type": "code",
   "execution_count": 25,
   "id": "surrounded-frontier",
   "metadata": {},
   "outputs": [
    {
     "data": {
      "image/png": "[encoded data removed]",
      "text/plain": [
       "<Figure size 432x288 with 1 Axes>"
      ]
     },
     "metadata": {
      "needs_background": "light"
     },
     "output_type": "display_data"
    }
   ],
   "source": [
    "# Approximately normal distribution of the sample mean because sample \n",
    "# size is bigger than 30 (CTL applies)\n",
    "\n",
    "plt.hist(np.mean([skewnorm.rvs(a = skew, loc=adjMean, scale=adjStdev, size=35) for _ in range(2000)], axis=1), bins=50);"
   ]
  },
  {
   "cell_type": "markdown",
   "id": "floating-malawi",
   "metadata": {},
   "source": [
    "### Answers from last week"
   ]
  },
  {
   "cell_type": "markdown",
   "id": "sized-singapore",
   "metadata": {},
   "source": [
    "1. Rick takes an SRS of 75 citizens in a distant planet to see what proportion of citizens sampled are satisfied with their standard of living. Suppose that 60% of the 1,000,000,000 citizens that live in the planet are satisfied with their standard of living.\n",
    "What are the mean and standard deviation of the sampling distribution of the proportion of citizens who are satisfied with their standard of living?"
   ]
  },
  {
   "cell_type": "code",
   "execution_count": 26,
   "id": "extra-stroke",
   "metadata": {},
   "outputs": [
    {
     "name": "stdout",
     "output_type": "stream",
     "text": [
      "0.6\n",
      "0.0565685424949238\n"
     ]
    }
   ],
   "source": [
    "mu_hat_p = 0.6\n",
    "print(mu_hat_p)\n",
    "\n",
    "sigma_p_hat = np.sqrt(0.6*(1-0.6)/75)\n",
    "print(sigma_p_hat)"
   ]
  },
  {
   "cell_type": "markdown",
   "id": "impaired-disposition",
   "metadata": {},
   "source": [
    "2. A certain planet with over 1,000,000 households has a mean household income of \\\\$1,000,000 with a standard deviation of \\\\$150,000. Rick plans to take random samples of 700 households and calculate the sample mean income. Calculate the mean and standard deviation of the sampling distribution of $\\bar x$."
   ]
  },
  {
   "cell_type": "code",
   "execution_count": 27,
   "id": "yellow-hacker",
   "metadata": {},
   "outputs": [
    {
     "name": "stdout",
     "output_type": "stream",
     "text": [
      "μ_x_bar = 1000000\n",
      "σ_x_bar = 5669.467095138409\n"
     ]
    }
   ],
   "source": [
    "μ = 1000000\n",
    "σ = 150000\n",
    "n = 700\n",
    "\n",
    "print(f'μ_x_bar = {μ}')\n",
    "print(f'σ_x_bar = {σ/n**(1/2)}')"
   ]
  },
  {
   "cell_type": "markdown",
   "id": "basic-composer",
   "metadata": {},
   "source": [
    "3. Rick is performing quality control tests on different portal guns since there is some variability in the manufactoring process. A certain gun has a target thickness of 5mm. The distribution of thicknesses is skewed to the right with a mean of 5mm and a standard deviation of 1mm. A quality control check on this part involves taking a random sample of 35 points and calculating the mean thickness of those points. What is the shape of the sampling distribution of the sample mean thickness? What is the probability that the mean thickness in the sample is within 0.2mm of the target value?"
   ]
  },
  {
   "cell_type": "code",
   "execution_count": 28,
   "id": "diverse-dependence",
   "metadata": {},
   "outputs": [],
   "source": [
    "# Since n = 35 >= 30, the central limit theorem applies.\n",
    "# Even though the population is skewed to the right, the sample means\n",
    "# are normally distributed due to the sample size."
   ]
  },
  {
   "cell_type": "code",
   "execution_count": 29,
   "id": "normal-clarity",
   "metadata": {},
   "outputs": [],
   "source": [
    "μ = 5\n",
    "σ = 1\n",
    "n = 100"
   ]
  },
  {
   "cell_type": "code",
   "execution_count": 30,
   "id": "strong-romania",
   "metadata": {},
   "outputs": [
    {
     "data": {
      "text/plain": [
       "0.9544997361036418"
      ]
     },
     "execution_count": 30,
     "metadata": {},
     "output_type": "execute_result"
    }
   ],
   "source": [
    "norm.cdf(5.2, μ, σ/n**(1/2)) - norm.cdf(4.8, μ, σ/n**(1/2))"
   ]
  }
 ],
 "metadata": {
  "kernelspec": {
   "display_name": "Python 3",
   "language": "python",
   "name": "python3"
  },
  "language_info": {
   "codemirror_mode": {
    "name": "ipython",
    "version": 3
   },
   "file_extension": ".py",
   "mimetype": "text/x-python",
   "name": "python",
   "nbconvert_exporter": "python",
   "pygments_lexer": "ipython3",
   "version": "3.8.5"
  }
 },
 "nbformat": 4,
 "nbformat_minor": 5
}
