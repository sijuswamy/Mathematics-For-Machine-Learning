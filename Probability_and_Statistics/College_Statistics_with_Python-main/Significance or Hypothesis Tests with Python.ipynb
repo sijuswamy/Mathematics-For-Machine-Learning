{
 "cells": [
  {
   "cell_type": "markdown",
   "id": "smooth-harvey",
   "metadata": {},
   "source": [
    "# Introduction\n",
    "In a series of weekly articles, I will be covering some important topics of statistics with a twist.\n",
    "\n",
    "The goal is to use Python to help us get intuition on complex concepts, empirically test theoretical proofs, or build algorithms from scratch. In this series, you will find articles covering topics such as random variables, sampling distributions, confidence intervals, significance tests, and more.\n",
    "\n",
    "At the end of each article, you can find exercises to test your knowledge. The solutions will be shared in the article of the following week.\n",
    "\n",
    "Articles published so far:\n",
    "- [Bernoulli and Binomial Random Variables with Python](https://towardsdatascience.com/bernoulli-and-binomial-random-variables-d0698288dd36)\n",
    "- [From Binomial to Geometric and Poisson Random Variables with Python](https://towardsdatascience.com/geometric-and-poisson-random-variables-with-python-e5dcb63d6b55)\n",
    "- [Sampling Distribution of a Sample Proportion with Python](https://towardsdatascience.com/sampling-distributions-with-python-f5a5f268f636)\n",
    "- [Confidence Intervals with Python](https://towardsdatascience.com/confidence-intervals-with-python-bfa28ebb81c)\n",
    "- Significance Tests with Python\n",
    "\n",
    "As usual the code is available on my [GitHub](https://github.com/luisroque/College_Statistics_with_Python)."
   ]
  },
  {
   "cell_type": "markdown",
   "id": "impressive-monday",
   "metadata": {},
   "source": [
    "# Introduction to Hypothesis Tests"
   ]
  },
  {
   "cell_type": "markdown",
   "id": "perceived-phoenix",
   "metadata": {},
   "source": [
    "António was on a 30-day holiday with a group of 4 friends and they wanted to decide who would cook dinner each night. António proposed that they could write their names down and store them in a bowl. Then, he would randomly pick a name from a bowl and the name that came up had to cook dinner that night. Now, let's say that after 4 rounds of randomly selecting names, António's name never came up. The remaining friends started to suspect that something was going on. Let's compute that probability."
   ]
  },
  {
   "cell_type": "code",
   "execution_count": 154,
   "id": "fundamental-ukraine",
   "metadata": {},
   "outputs": [
    {
     "data": {
      "text/plain": [
       "0.4096000000000001"
      ]
     },
     "execution_count": 154,
     "metadata": {},
     "output_type": "execute_result"
    }
   ],
   "source": [
    "0.80**4"
   ]
  },
  {
   "cell_type": "markdown",
   "id": "worth-bones",
   "metadata": {},
   "source": [
    "We can see that this scenario has close to 41% of probability of happening. It is a very significant probability, so the group of friends should probably trust António. Now, image that after 15 rounds, António still does not get picked."
   ]
  },
  {
   "cell_type": "code",
   "execution_count": 155,
   "id": "pregnant-arkansas",
   "metadata": {},
   "outputs": [
    {
     "data": {
      "text/plain": [
       "0.03518437208883203"
      ]
     },
     "execution_count": 155,
     "metadata": {},
     "output_type": "execute_result"
    }
   ],
   "source": [
    "0.8**15"
   ]
  },
  {
   "cell_type": "markdown",
   "id": "cognitive-provision",
   "metadata": {},
   "source": [
    "Assuming that the process is completely random, the probability that he would not be picked 15 rounds in a row is about 3.5%. If his friends used the often defined threshold of 5%, they would not expect that an event that happened purely by chance had a probability less than 5%. Then they would probably reject the hypothesis that this was a truly random process, which would mean that António was cheating."
   ]
  },
  {
   "cell_type": "markdown",
   "id": "surgical-prize",
   "metadata": {},
   "source": [
    "# Hypothesis test about a Population Proportion\n",
    "\n",
    "One day, at the beach, António read an article in a magazine that stated that only 30% of people use sunscreen at the beach. António thought that the number was too low for the beach area where they were spending their holiday. He told his friends and they decide to random sample 35 people from the nearby beaches, where, that day, they estimated that at least 400 people were enjoying the beach. From the 35 people, 14 were using sunscreen."
   ]
  },
  {
   "cell_type": "code",
   "execution_count": 298,
   "id": "developmental-librarian",
   "metadata": {},
   "outputs": [
    {
     "data": {
      "text/plain": [
       "0.4"
      ]
     },
     "execution_count": 298,
     "metadata": {},
     "output_type": "execute_result"
    }
   ],
   "source": [
    "14/35"
   ]
  },
  {
   "cell_type": "markdown",
   "id": "hungry-intro",
   "metadata": {},
   "source": [
    "Let's define our hypothesis test more formally:\n",
    "\n",
    "$$\\begin{align}H_0: p=0.3 \\\\\n",
    "H_a: p>0.3\n",
    "\\end{align}$$\n",
    "\n",
    "The null hypothesis shows the expected outcome, the assumption that only 30% of people uses sunscreen at the beach. On the other hand, the alternative hypothesis states what António was suspecting: that more than 30% of people were actually using sunscreen.\n",
    "\n",
    "To see how likely a sample like the one above was to happen by random chance, let's perform a simulation. We simulate 40 samples of sample size equal to 30 where 40% of the people were using sunscreen."
   ]
  },
  {
   "cell_type": "code",
   "execution_count": 414,
   "id": "intended-summary",
   "metadata": {},
   "outputs": [],
   "source": [
    "from scipy.stats import bernoulli, norm, t\n",
    "import matplotlib.pyplot as plt\n",
    "import numpy as np\n",
    "import seaborn as sns"
   ]
  },
  {
   "cell_type": "code",
   "execution_count": 316,
   "id": "contained-performer",
   "metadata": {},
   "outputs": [],
   "source": [
    "x = np.zeros((40, 35))\n",
    "for i in range(40):    \n",
    "    x[i] = bernoulli.rvs(p=0.3, size=35)"
   ]
  },
  {
   "cell_type": "markdown",
   "id": "czech-generator",
   "metadata": {},
   "source": [
    "We can plot our simulations using a histogram."
   ]
  },
  {
   "cell_type": "code",
   "execution_count": 317,
   "id": "patient-conflict",
   "metadata": {},
   "outputs": [
    {
     "data": {
      "image/png": "[encoded data removed]",
      "text/plain": [
       "<Figure size 432x288 with 1 Axes>"
      ]
     },
     "metadata": {
      "needs_background": "light"
     },
     "output_type": "display_data"
    }
   ],
   "source": [
    "sns.histplot(np.mean(x, axis=1));"
   ]
  },
  {
   "cell_type": "code",
   "execution_count": 318,
   "id": "surprised-england",
   "metadata": {},
   "outputs": [],
   "source": [
    "p = np.mean(x, axis=1)"
   ]
  },
  {
   "cell_type": "markdown",
   "id": "irish-peripheral",
   "metadata": {},
   "source": [
    "With this information we are able to compute our p-value. It can be defined as the probability of $\\hat p$ being greater or equal to the sampled proportion of 0.4, conditioned on $H_0$ being true:\n",
    "\n",
    "$$\\text{p-value}= P(\\hat p \\geq 0.4 | H_0 \\text{True})$$\n",
    "\n",
    "We can easily compute the p-value."
   ]
  },
  {
   "cell_type": "code",
   "execution_count": 319,
   "id": "electronic-greenhouse",
   "metadata": {},
   "outputs": [
    {
     "data": {
      "text/plain": [
       "0.125"
      ]
     },
     "execution_count": 319,
     "metadata": {},
     "output_type": "execute_result"
    }
   ],
   "source": [
    "p[p>=0.40].shape[0]/p.shape[0]"
   ]
  },
  {
   "cell_type": "markdown",
   "id": "actual-surface",
   "metadata": {},
   "source": [
    "If António uses the significance level of $\\alpha=0.05$, he would not reject $H_0$. It means that with a $\\hat p = 0.4$, they don't have enough evidence to reject the possibility that only 30% of the people are using suncreen and the statistic they got of 40% was a result of  random chance alone."
   ]
  },
  {
   "cell_type": "code",
   "execution_count": 320,
   "id": "cathedral-privilege",
   "metadata": {},
   "outputs": [
    {
     "name": "stdout",
     "output_type": "stream",
     "text": [
      "Do not reject H_0\n"
     ]
    }
   ],
   "source": [
    "if (p[p>=0.4].shape[0]/p.shape[0]<0.05):\n",
    "    print('Reject H_0')\n",
    "else:\n",
    "    print('Do not reject H_0')"
   ]
  },
  {
   "cell_type": "markdown",
   "id": "smaller-involvement",
   "metadata": {},
   "source": [
    "# Conditions for a Z Test about a Proportion\n",
    "\n",
    "We saw in previous articles the conditions to perform a z test. The 3 conditions are:\n",
    "* The sample has to\n",
    "be random.\n",
    "* A normal distribution can approximate the sampling distribution of the sample proportions. The rule of thumb is that you need to have at least 10 successes and 10 failures.\n",
    "* The samples are required to be independent. The rule of thumb is that if you are sampling without replacement, your sample size should be less than 10% of the population size.\n",
    "\n",
    "Let's work through our previous example and test for each of the conditions. Starting with the random sampling, we were told that the group of friends selected the people to ask randomly. With that information we are going to assume that their process was truly random. The normal condition tells us that the expected number of successes and failures need to be at least equal to 10. We were also able to meet the criteria (see the calculations below). Finally, we have the independence condition. In our case, the population size was the people in the beach area, which was about 400. The sample size used was 35, so we were also able to meet the condition to perform a z test."
   ]
  },
  {
   "cell_type": "code",
   "execution_count": 321,
   "id": "academic-slope",
   "metadata": {},
   "outputs": [
    {
     "name": "stdout",
     "output_type": "stream",
     "text": [
      "np = 10.5\n",
      "n(1-p) = 24.5\n"
     ]
    }
   ],
   "source": [
    "n = 35\n",
    "p = 0.3\n",
    "\n",
    "print('np = '+ str(n*p))\n",
    "print('n(1-p) = '+ str(n*(1-p)))"
   ]
  },
  {
   "cell_type": "markdown",
   "id": "compliant-agenda",
   "metadata": {},
   "source": [
    "# Calculating a z statistic in a test about a proportion"
   ]
  },
  {
   "cell_type": "markdown",
   "id": "golden-cotton",
   "metadata": {},
   "source": [
    "We will continue to use our sunscreen problem. In the previous section we checked that all conditions for inference have been met. In that case, we are going to perform a z test.\n",
    "\n",
    "Before continuing let's recall our goal. From the entire population of the beach area, António and his friends took a sample of 35 people and calculated a sample statistic $\\hat p = 40\\%$. Now, assuming that the null hypothesis is true, what is the probability of getting a result this far away or further from the assumed population proportion $p=30\\%$.\n",
    "\n",
    "One way to calculate this probability is by calculating how many standard deviations away is the sampled proportion from the true proportion (remember that we always assume that $H_0$ is true, so we consider that the true proportion).\n",
    "\n",
    "$$Z =\\frac{\\hat p - p_0}{\\sqrt{\\frac{p_0 \\cdot (1-p_0)}{n}}}$$"
   ]
  },
  {
   "cell_type": "code",
   "execution_count": 327,
   "id": "greater-double",
   "metadata": {},
   "outputs": [
    {
     "data": {
      "text/plain": [
       "1.290994448735806"
      ]
     },
     "execution_count": 327,
     "metadata": {},
     "output_type": "execute_result"
    }
   ],
   "source": [
    "p_0 = 0.3\n",
    "p_hat = 0.4\n",
    "\n",
    "Z = (0.4-0.3)/np.sqrt((0.3*(1-0.3)/n))\n",
    "Z"
   ]
  },
  {
   "cell_type": "markdown",
   "id": "pressed-complement",
   "metadata": {},
   "source": [
    "Our p-value can then be defined as by:\n",
    "\n",
    "$$P(Z \\geq 1.29)$$"
   ]
  },
  {
   "cell_type": "code",
   "execution_count": 328,
   "id": "decent-reflection",
   "metadata": {},
   "outputs": [
    {
     "data": {
      "text/plain": [
       "0.09835280122947343"
      ]
     },
     "execution_count": 328,
     "metadata": {},
     "output_type": "execute_result"
    }
   ],
   "source": [
    "1-norm.cdf(Z)"
   ]
  },
  {
   "cell_type": "markdown",
   "id": "knowing-shoot",
   "metadata": {},
   "source": [
    "Comparing this probability that we got against the significance level of $\\alpha=0.05$, we see, once again, that we can not reject $H_0$."
   ]
  },
  {
   "cell_type": "markdown",
   "id": "harmful-summer",
   "metadata": {},
   "source": [
    "# Hypothesis Test about a Population Mean"
   ]
  },
  {
   "cell_type": "markdown",
   "id": "portable-connectivity",
   "metadata": {},
   "source": [
    "One night, António was checking his phone and start wondering how many messages he and his friends were exchanging in a WhatsApp group chat, that they had setup 3 months before going on holiday. He suspected that, on average, they would send each other 180 messages a day but one of his friends argued that they exchanged more than 180 messages. They decided to test the theory.\n",
    "\n",
    "Let's define our significance test:\n",
    "\n",
    "$$\\begin{align}\n",
    "H_0&: \\mu = 180 \\\\\n",
    "H_a&: \\mu > 180\n",
    "\\end{align}$$\n",
    "\n",
    "They took a random sample of 8 days from the chat history and recorded how many messages were sent on those days. The sample data was approximately symmetric with a mean of 215 messages and a standard deviation of approximately 36 messages. They want to test their hypothesis with a significance level of 5%.\n",
    "\n",
    "As we saw previously, in this case we will be performing a t test and not a z test. The reason is the fact that we do not know the standard deviation of the sampling distribution of the sample mean $\\sigma_{\\bar x}$. We can only estimate it using the sampling standard deviation $s_x$. We can then write our test as:\n",
    "\n",
    "$$t = \\frac{\\bar x - \\mu_0}{\\frac{s_{x}}{\\sqrt{n}}}$$"
   ]
  },
  {
   "cell_type": "code",
   "execution_count": 426,
   "id": "functional-activation",
   "metadata": {},
   "outputs": [
    {
     "data": {
      "image/png": "[encoded data removed]",
      "text/plain": [
       "<Figure size 432x288 with 1 Axes>"
      ]
     },
     "metadata": {
      "needs_background": "light"
     },
     "output_type": "display_data"
    }
   ],
   "source": [
    "x = [266, 190, 161, 191, 241, 180, 240, 251]\n",
    "x = np.asarray(x)\n",
    "sns.histplot(x, bins=10);"
   ]
  },
  {
   "cell_type": "code",
   "execution_count": 420,
   "id": "expanded-national",
   "metadata": {},
   "outputs": [
    {
     "name": "stdout",
     "output_type": "stream",
     "text": [
      "215.0\n",
      "36.29738282576307\n"
     ]
    }
   ],
   "source": [
    "print(x.mean())\n",
    "print(x.std())"
   ]
  },
  {
   "cell_type": "code",
   "execution_count": 423,
   "id": "committed-input",
   "metadata": {},
   "outputs": [
    {
     "data": {
      "text/plain": [
       "2.727330227672841"
      ]
     },
     "execution_count": 423,
     "metadata": {},
     "output_type": "execute_result"
    }
   ],
   "source": [
    "μ = 180\n",
    "n = 8\n",
    "\n",
    "t_star = (x.mean()-μ)/(x.std()/np.sqrt(n))\n",
    "t_star"
   ]
  },
  {
   "cell_type": "code",
   "execution_count": 424,
   "id": "digital-going",
   "metadata": {},
   "outputs": [
    {
     "data": {
      "text/plain": [
       "0.01472601649385541"
      ]
     },
     "execution_count": 424,
     "metadata": {},
     "output_type": "execute_result"
    }
   ],
   "source": [
    "1-t.cdf(t_star, df=n-1)"
   ]
  },
  {
   "cell_type": "markdown",
   "id": "aboriginal-lender",
   "metadata": {},
   "source": [
    "Our p-value is approximately 0.015, which is smaller than our significance level. This means that we can reject $H_0$, raised by António and accept the alternative hypothesis. There is enough evidence to accept the hypothesis of António's friend that the group sent more than 180 messages a day."
   ]
  },
  {
   "cell_type": "markdown",
   "id": "enormous-roads",
   "metadata": {},
   "source": [
    "# Conditions for a t Test about a Population Mean\n",
    "\n",
    "We saw in previous articles the conditions to perform a t test. The 3 conditions are:\n",
    "* The sample has to be random.\n",
    "* The sampling distribution of the sample mean can be approximated by a normal distribution. There are three ways to achieve it: sample size is bigger than 30 (central limit theorem applies), original distribution is normal, or the sampling distribution is symmetric and does not show outliers.\n",
    "* The samples are required to be independent. The rule of thumb is that if you are sampling without replacement, your sample size should be less than 10% of the population size.\n",
    "\n",
    "Once again, let's test our previous solved problem for each of the conditions. This will make us much more confident that the results are not biased in some way. We were told that António and his friend selected the days randomly, which meets the first criteria. Secondly, our sample distribution is roughly symmetric, so we can consider that the normal condition is also met. Finally, António and his friend used a sample size of 8. We were told that they had setup the WhatsApp group chat 3 months before going on holiday. The sample size represents less than 10%, so even if they sampled without replacement it is safe to assume independence between sampled days."
   ]
  },
  {
   "cell_type": "markdown",
   "id": "parliamentary-recovery",
   "metadata": {},
   "source": [
    "# Type I and Type II errors"
   ]
  },
  {
   "cell_type": "markdown",
   "id": "immediate-saying",
   "metadata": {},
   "source": [
    "We already saw that if the p-value is less than a significance level $\\alpha$ we should reject $H_0$. Conversely, if the p-value is greater than $\\alpha$ we should fail to reject $H_0$. When we perform these comparisons, there is always a probability that we are making an error. Let's draw a table to make it more clear.\n",
    "\n",
    "|  | $H_0$ True   | $H_0$ False |\n",
    "|------|------|------|\n",
    "|   Reject $H_0$  | Type I error|  Correct  |\n",
    "|   Fail to Reject $H_0$  | Correct |  Type II error  |\n",
    "\n",
    "Notice that the probability of getting a Type I error is equal to the significance level. Imagine that you define a significance level of 5%. This means that 5% of the time, even if your null hypothesis is true, you going to get a statistic that is going to make you reject the null hypothesis.\n",
    "\n",
    "What would be Type I and Type II errors in the example given before? Let's write down our hypothesis test again for the proportion people that use sunscreen:\n",
    "\n",
    "$$\\begin{align}H_0: p=0.3 \\\\\n",
    "H_a: p>0.3\n",
    "\\end{align}$$\n",
    "\n",
    "A Type I error would happen if the group of friends concludes that the people's proportion that use sunscreen is not equal to 0.3 when it actually is. On the other hand, a Type II error would be the case where the people's proportion is not equal to 0.3 but they fail to reject it.\n",
    "\n",
    "Another important concept to define is the power of significance tests. It is the probability that you are rejecting the null hypothesis when it is not true.\n",
    "\n",
    "$$\\begin{align}\n",
    "\\text{Power} &= P(\\text{reject} \\; H_0 | H_0 \\; \\text{false}) \\\\\n",
    "& = 1 - P(\\text{not rejecting} \\; H_0 | H_0 \\; \\text{false} )\n",
    "\\end{align}$$\n",
    "\n",
    "Notice that the $P(\\text{not rejecting} \\; H_0 | H_0 \\; \\text{false} )$ is actually the probability of making a Type II error, so you can think of the power of a significance test as the probability of $\\textbf{not}$ making a Type II error. \n",
    "\n",
    "Let's see what we can do to increase the power of our hypothesis tests:\n",
    "\n",
    "* Increase the significance level (but notice that this will also increase the probability of a Type I error).\n",
    "* Increase the sample size.\n",
    "* Less variability in the data.\n",
    "* If true parameter is far from the null hypothesis."
   ]
  },
  {
   "cell_type": "markdown",
   "id": "verified-asian",
   "metadata": {},
   "source": [
    "# Conclusion\n",
    "\n",
    "In this article, we covered significance or hypothesis tests. These are extremely useful for using sampled data to evaluate the likelihood of a claim about a population value. The value to be tested could be a proportion or the mean of a population. We calculated p-values for both cases, using a z test and a t test, respectively.\n",
    "\n",
    "We also addressed the errors that might happen when performing these tests. The Type I error has the same probability of happening as the defined significance level and translates the rejection of a null hypothesis which is actually true. When we fail to reject a null hypothesis and it is in fact false, we are producing a Type II error. Finally, we defined the power of a significance test as the probability of not making a Type II error, and saw ways to increase it."
   ]
  },
  {
   "cell_type": "markdown",
   "id": "optical-certification",
   "metadata": {},
   "source": [
    "# Exercises\n",
    "\n",
    "You will get the solutions on next week's article."
   ]
  },
  {
   "cell_type": "markdown",
   "id": "fallen-broadway",
   "metadata": {},
   "source": [
    "1. According to a large poll from last year, about 85% of houses in Porto have access to high-speed internet. Marco wondered if the proportion had changed and took a random sample of 80 houses and found that 75 had access to high-speed internet. He wants to use this sample data to test if the proportion actually changed. Assuming that the conditions for inference were met, what would you conclude about the proportion of houses with high-speed internet considering a significance level of 1%?"
   ]
  },
  {
   "cell_type": "markdown",
   "id": "cardiac-performance",
   "metadata": {},
   "source": [
    "2. Marta owns a fruit store and receives watermelons weekly. The supplier states that they are supposed to weigh 1kg. Marta decides to weigh a random sample of 100 watermelons and finds a mean weight of 850g and a standard deviation of 200g. She wants to use this sample data to test if the mean is smaller than the one claimed by the supplier and, if this is the case, renegotiate their contract. Assuming that the conditions for inference were met, what should Marta do (consider a significance level of 5%)?"
   ]
  },
  {
   "cell_type": "markdown",
   "id": "floating-malawi",
   "metadata": {},
   "source": [
    "### Answers from last week"
   ]
  },
  {
   "cell_type": "markdown",
   "id": "authorized-pattern",
   "metadata": {},
   "source": [
    "1. Change the function `confidence_interval_mean_t` and build 5 different experiments to calculate a 95% interval for a sample mean, 3 of them where the conditions for a t interval are not met and 2 where they are. For the 3 where the conditions are not met define the following scenarios: sampling not random, original distribution not approximately normal and independence not met. For the 2 cases where conditions are met define: one case where the original distribution is normal and another where the original distribution is skewed but the sampling mean is normally distributed. For these last two cases, the true population mean should be contained in the calculated confidence intervals 95% of the time. \n",
    "\n",
    "*Hint: you might find useful to use the function `skewnorm` from `scipy`. Below, you have a modified version of a normal distribution skewed by a skewness parameter, mean and standard deviation.*"
   ]
  },
  {
   "cell_type": "code",
   "execution_count": 23,
   "id": "outside-transaction",
   "metadata": {},
   "outputs": [
    {
     "name": "stdout",
     "output_type": "stream",
     "text": [
      "target mean=2.0000 actual mean=2.0000\n",
      "target stdev=0.5000 actual stdev=0.5000\n"
     ]
    }
   ],
   "source": [
    "# code adapted from https://stackoverflow.com/questions/49367436/scipy-skewnorm-mean-not-matching-theory\n",
    "\n",
    "skew = 4.0\n",
    "mean = 2\n",
    "stdev = 0.5\n",
    "\n",
    "delta = skew / math.sqrt(1. + math.pow(skew, 2.))\n",
    "adjStdev = math.sqrt(math.pow(stdev, 2.) / (1. - 2. * math.pow(delta, 2.) / math.pi))\n",
    "adjMean = mean - adjStdev * math.sqrt(2. / math.pi) * delta\n",
    "\n",
    "print('target mean={:.4f} actual mean={:.4f}'.format(mean, float(skewnorm.stats(skew, loc=adjMean, scale=adjStdev, moments='mvsk')[0])))\n",
    "print('target stdev={:.4f} actual stdev={:.4f}'.format(stdev, math.sqrt(float(skewnorm.stats(skew, loc=adjMean, scale=adjStdev, moments='mvsk')[1]))))"
   ]
  },
  {
   "cell_type": "code",
   "execution_count": 24,
   "id": "plain-revolution",
   "metadata": {},
   "outputs": [
    {
     "data": {
      "image/png": "[encoded data removed]",
      "text/plain": [
       "<Figure size 432x288 with 1 Axes>"
      ]
     },
     "metadata": {
      "needs_background": "light"
     },
     "output_type": "display_data"
    }
   ],
   "source": [
    "# Original skewed distribution\n",
    "\n",
    "plt.hist(skewnorm.rvs(a = skew, loc=adjMean, scale=adjStdev, size=2000), bins=50);"
   ]
  },
  {
   "cell_type": "code",
   "execution_count": 25,
   "id": "surrounded-frontier",
   "metadata": {},
   "outputs": [
    {
     "data": {
      "image/png": "[encoded data removed]",
      "text/plain": [
       "<Figure size 432x288 with 1 Axes>"
      ]
     },
     "metadata": {
      "needs_background": "light"
     },
     "output_type": "display_data"
    }
   ],
   "source": [
    "# Approximately normal distribution of the sample mean because sample \n",
    "# size is bigger than 30 (CTL applies)\n",
    "\n",
    "plt.hist(np.mean([skewnorm.rvs(a = skew, loc=adjMean, scale=adjStdev, size=35) for _ in range(2000)], axis=1), bins=50);"
   ]
  },
  {
   "cell_type": "code",
   "execution_count": 26,
   "id": "fifty-prefix",
   "metadata": {},
   "outputs": [],
   "source": [
    "def confidence_interval_mean_t(μ, σ, n, number_trials, N, ci=0.95, sample='random', dist='normal'):\n",
    "    \n",
    "    skew = 4.0\n",
    "    mean = μ\n",
    "    stdev = σ\n",
    "\n",
    "    delta = skew / math.sqrt(1. + math.pow(skew, 2.))\n",
    "    adjStdev = math.sqrt(math.pow(stdev, 2.) / (1. - 2. * math.pow(delta, 2.) / math.pi))\n",
    "    adjMean = mean - adjStdev * math.sqrt(2. / math.pi) * delta\n",
    "    \n",
    "    if dist!='normal':\n",
    "        x_ = skewnorm.rvs(a = 4, loc=adjMean, scale=adjStdev, size=N)\n",
    "    else:\n",
    "        x_ = norm.rvs(loc=μ, scale=σ, size=N)\n",
    "\n",
    "    x_hat_list = []\n",
    "    SE_hat_x_list = []\n",
    "    \n",
    "    if sample!='random':\n",
    "        # Inducing bias on the sampling\n",
    "        x_.sort()\n",
    "        x_ = x_[:-int(0.2*N)]\n",
    "        np.random.shuffle(x_)\n",
    "    \n",
    "    for i in range(number_trials):\n",
    "        s_ = np.random.choice(x_, n, replace=False)\n",
    "        x_hat = np.mean(s_)\n",
    "        x_hat_list.append(x_hat)\n",
    "        SE_hat_x_list.append(t.ppf(ci+(1-ci)/2, df=n-1)*np.std(s_)/np.sqrt(n))\n",
    "    \n",
    "    plt.hist(x_hat_list, bins=50)\n",
    "\n",
    "    j=0\n",
    "    _, ax = plt.subplots(1, 1, figsize=(6, 8))\n",
    "    for i in range(len(x_hat_list)):\n",
    "        if (μ>x_hat_list[i]-SE_hat_x_list[i]) & (μ<x_hat_list[i]+SE_hat_x_list[i]):\n",
    "            # interval contains p\n",
    "            if i > len(x_hat_list)-50:\n",
    "                ax.errorbar(x_hat_list[i], np.arange(len(x_hat_list))[i],lolims=True, xerr=SE_hat_x_list[i], yerr=0.0, linestyle='', c='black')\n",
    "            j +=1\n",
    "        else:\n",
    "            # interval does not contain p\n",
    "            if i > len(x_hat_list)-50:    \n",
    "                ax.errorbar(x_hat_list[i], np.arange(len(x_hat_list))[i],lolims=True, xerr=SE_hat_x_list[i], yerr=0.0, linestyle='', c='red')\n",
    "    ax.axvline(μ, color='darkorange')\n",
    "    #plt.xlim(0,1)\n",
    "    plt.show()\n",
    "    print(f'{j}/{number_trials}={np.round(j/number_trials,2)}')"
   ]
  },
  {
   "cell_type": "code",
   "execution_count": 27,
   "id": "buried-storage",
   "metadata": {},
   "outputs": [
    {
     "data": {
      "image/png": "[encoded data removed]",
      "text/plain": [
       "<Figure size 432x288 with 1 Axes>"
      ]
     },
     "metadata": {
      "needs_background": "light"
     },
     "output_type": "display_data"
    },
    {
     "data": {
      "image/png": "[encoded data removed]",
      "text/plain": [
       "<Figure size 432x576 with 1 Axes>"
      ]
     },
     "metadata": {
      "needs_background": "light"
     },
     "output_type": "display_data"
    },
    {
     "name": "stdout",
     "output_type": "stream",
     "text": [
      "191/1000=0.19\n"
     ]
    }
   ],
   "source": [
    "# Not random sampling\n",
    "confidence_interval_mean_t(μ=2, σ=0.5, n=35, number_trials=1000, N=500, sample='not_random')"
   ]
  },
  {
   "cell_type": "code",
   "execution_count": 28,
   "id": "sized-spread",
   "metadata": {},
   "outputs": [
    {
     "data": {
      "image/png": "[encoded data removed]",
      "text/plain": [
       "<Figure size 432x288 with 1 Axes>"
      ]
     },
     "metadata": {
      "needs_background": "light"
     },
     "output_type": "display_data"
    },
    {
     "data": {
      "image/png": "[encoded data removed]",
      "text/plain": [
       "<Figure size 432x576 with 1 Axes>"
      ]
     },
     "metadata": {
      "needs_background": "light"
     },
     "output_type": "display_data"
    },
    {
     "name": "stdout",
     "output_type": "stream",
     "text": [
      "944/1000=0.94\n"
     ]
    }
   ],
   "source": [
    "# not approximately normal dist\n",
    "confidence_interval_mean_t(μ=2, σ=0.5, n=15, number_trials=1000, N=500, dist='not normal')"
   ]
  },
  {
   "cell_type": "code",
   "execution_count": 29,
   "id": "charitable-modem",
   "metadata": {},
   "outputs": [
    {
     "data": {
      "image/png": "[encoded data removed]",
      "text/plain": [
       "<Figure size 432x288 with 1 Axes>"
      ]
     },
     "metadata": {
      "needs_background": "light"
     },
     "output_type": "display_data"
    },
    {
     "data": {
      "image/png": "[encoded data removed]",
      "text/plain": [
       "<Figure size 432x576 with 1 Axes>"
      ]
     },
     "metadata": {
      "needs_background": "light"
     },
     "output_type": "display_data"
    },
    {
     "name": "stdout",
     "output_type": "stream",
     "text": [
      "973/1000=0.97\n"
     ]
    }
   ],
   "source": [
    "# not independent samples\n",
    "confidence_interval_mean_t(μ=2, σ=0.5, n=150, number_trials=1000, N=600, dist='not normal')"
   ]
  },
  {
   "cell_type": "code",
   "execution_count": 30,
   "id": "smart-hotel",
   "metadata": {},
   "outputs": [
    {
     "data": {
      "image/png": "[encoded data removed]",
      "text/plain": [
       "<Figure size 432x288 with 1 Axes>"
      ]
     },
     "metadata": {
      "needs_background": "light"
     },
     "output_type": "display_data"
    },
    {
     "data": {
      "image/png": "[encoded data removed]",
      "text/plain": [
       "<Figure size 432x576 with 1 Axes>"
      ]
     },
     "metadata": {
      "needs_background": "light"
     },
     "output_type": "display_data"
    },
    {
     "name": "stdout",
     "output_type": "stream",
     "text": [
      "947/1000=0.95\n"
     ]
    }
   ],
   "source": [
    "# Not normal distribution but n >= 30, so CTL applies; all other conditions are met\n",
    "confidence_interval_mean_t(μ=2, σ=0.5, n=35, number_trials=1000, N=500, dist='not normal')"
   ]
  },
  {
   "cell_type": "code",
   "execution_count": 31,
   "id": "interior-numbers",
   "metadata": {},
   "outputs": [
    {
     "data": {
      "image/png": "[encoded data removed]",
      "text/plain": [
       "<Figure size 432x288 with 1 Axes>"
      ]
     },
     "metadata": {
      "needs_background": "light"
     },
     "output_type": "display_data"
    },
    {
     "data": {
      "image/png": "[encoded data removed]",
      "text/plain": [
       "<Figure size 432x576 with 1 Axes>"
      ]
     },
     "metadata": {
      "needs_background": "light"
     },
     "output_type": "display_data"
    },
    {
     "name": "stdout",
     "output_type": "stream",
     "text": [
      "930/1000=0.93\n"
     ]
    }
   ],
   "source": [
    "# Original distribution is normal; all other conditions are met\n",
    "confidence_interval_mean_t(μ=2, σ=0.5, n=35, number_trials=1000, N=500)"
   ]
  }
 ],
 "metadata": {
  "kernelspec": {
   "display_name": "Python 3",
   "language": "python",
   "name": "python3"
  },
  "language_info": {
   "codemirror_mode": {
    "name": "ipython",
    "version": 3
   },
   "file_extension": ".py",
   "mimetype": "text/x-python",
   "name": "python",
   "nbconvert_exporter": "python",
   "pygments_lexer": "ipython3",
   "version": "3.8.5"
  }
 },
 "nbformat": 4,
 "nbformat_minor": 5
}
