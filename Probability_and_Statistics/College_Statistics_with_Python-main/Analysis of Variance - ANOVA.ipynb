{
 "cells": [
  {
   "cell_type": "markdown",
   "id": "smooth-harvey",
   "metadata": {},
   "source": [
    "# Introduction\n",
    "In a series of weekly articles, I will be covering some important topics of statistics with a twist.\n",
    "\n",
    "The goal is to use Python to help us get intuition on complex concepts, empirically test theoretical proofs, or build algorithms from scratch. In this series, you will find articles covering topics such as random variables, sampling distributions, confidence intervals, significance tests, and more.\n",
    "\n",
    "At the end of each article, you can find exercises to test your knowledge. The solutions will be shared in the article of the following week.\n",
    "\n",
    "Articles published so far:\n",
    "- [Bernoulli and Binomial Random Variables with Python](https://towardsdatascience.com/bernoulli-and-binomial-random-variables-d0698288dd36)\n",
    "- [From Binomial to Geometric and Poisson Random Variables with Python](https://towardsdatascience.com/geometric-and-poisson-random-variables-with-python-e5dcb63d6b55)\n",
    "- [Sampling Distribution of a Sample Proportion with Python](https://towardsdatascience.com/sampling-distributions-with-python-f5a5f268f636)\n",
    "- [Confidence Intervals with Python](https://towardsdatascience.com/confidence-intervals-with-python-bfa28ebb81c)\n",
    "- [Significance Tests with Python](https://towardsdatascience.com/significance-or-hypothesis-tests-with-python-7ed35e9ac9b6)\n",
    "- [Two-sample Inference for the Difference Between Groups with Python](https://towardsdatascience.com/two-sample-inference-for-the-difference-between-groups-with-python-de91fbee32f9)\n",
    "- [Inference for Categorical Data](https://towardsdatascience.com/inference-for-categorical-data-9f3c6034aa57)\n",
    "- [Advanced Regression](https://towardsdatascience.com/advanced-regression-f74090014f3)\n",
    "- Analysis of Variance - ANOVA\n",
    "\n",
    "As usual the code is available on my [GitHub](https://github.com/luisroque/College_Statistics_with_Python)."
   ]
  },
  {
   "cell_type": "markdown",
   "id": "announced-population",
   "metadata": {},
   "source": [
    "# Analysis of Variance step by step"
   ]
  },
  {
   "cell_type": "markdown",
   "id": "apparent-definition",
   "metadata": {},
   "source": [
    "Once again we are working with the salaries of Data Scientists. In this case, we are not interested in predicting the salary based on some independent feature. We are focused on understanding if there are differences between 3 groups of Data Scientists with distinct backgrounds: the first are samples from graduates from Computer Science, the second from Economics and the third from Informatics Engineering (notice that the salary unit is 10,000€)."
   ]
  },
  {
   "cell_type": "code",
   "execution_count": 15,
   "id": "defined-horizontal",
   "metadata": {},
   "outputs": [],
   "source": [
    "import pandas as pd\n",
    "import numpy as np\n",
    "from scipy.stats import f"
   ]
  },
  {
   "cell_type": "code",
   "execution_count": 79,
   "id": "binding-chance",
   "metadata": {},
   "outputs": [
    {
     "data": {
      "text/html": [
       "<div>\n",
       "<style scoped>\n",
       "    .dataframe tbody tr th:only-of-type {\n",
       "        vertical-align: middle;\n",
       "    }\n",
       "\n",
       "    .dataframe tbody tr th {\n",
       "        vertical-align: top;\n",
       "    }\n",
       "\n",
       "    .dataframe thead th {\n",
       "        text-align: right;\n",
       "    }\n",
       "</style>\n",
       "<table border=\"1\" class=\"dataframe\">\n",
       "  <thead>\n",
       "    <tr style=\"text-align: right;\">\n",
       "      <th></th>\n",
       "      <th>g1</th>\n",
       "      <th>g2</th>\n",
       "      <th>g3</th>\n",
       "    </tr>\n",
       "  </thead>\n",
       "  <tbody>\n",
       "    <tr>\n",
       "      <th>0</th>\n",
       "      <td>5</td>\n",
       "      <td>5</td>\n",
       "      <td>9</td>\n",
       "    </tr>\n",
       "    <tr>\n",
       "      <th>1</th>\n",
       "      <td>9</td>\n",
       "      <td>4</td>\n",
       "      <td>8</td>\n",
       "    </tr>\n",
       "    <tr>\n",
       "      <th>2</th>\n",
       "      <td>10</td>\n",
       "      <td>4</td>\n",
       "      <td>5</td>\n",
       "    </tr>\n",
       "    <tr>\n",
       "      <th>3</th>\n",
       "      <td>12</td>\n",
       "      <td>5</td>\n",
       "      <td>6</td>\n",
       "    </tr>\n",
       "    <tr>\n",
       "      <th>4</th>\n",
       "      <td>8</td>\n",
       "      <td>5</td>\n",
       "      <td>7</td>\n",
       "    </tr>\n",
       "    <tr>\n",
       "      <th>5</th>\n",
       "      <td>8</td>\n",
       "      <td>4</td>\n",
       "      <td>7</td>\n",
       "    </tr>\n",
       "    <tr>\n",
       "      <th>6</th>\n",
       "      <td>9</td>\n",
       "      <td>8</td>\n",
       "      <td>6</td>\n",
       "    </tr>\n",
       "  </tbody>\n",
       "</table>\n",
       "</div>"
      ],
      "text/plain": [
       "   g1  g2  g3\n",
       "0   5   5   9\n",
       "1   9   4   8\n",
       "2  10   4   5\n",
       "3  12   5   6\n",
       "4   8   5   7\n",
       "5   8   4   7\n",
       "6   9   8   6"
      ]
     },
     "execution_count": 79,
     "metadata": {},
     "output_type": "execute_result"
    }
   ],
   "source": [
    "df = pd.DataFrame.from_dict({'g1': [5,9,10,12,8,8,9], \n",
    "                        'g2': [5,4, 4, 5,5,4,8], \n",
    "                        'g3': [9,8, 5, 6,7,7,6]})\n",
    "\n",
    "df"
   ]
  },
  {
   "cell_type": "markdown",
   "id": "unavailable-country",
   "metadata": {},
   "source": [
    "The first step to perform an ANOVA test is to calculate the SST (total sum of squares), the SSW (total sum of squares within), and the SSB (total sum of squares between), and the corresponding degrees of freedom. They calculated as following:\n",
    "* SST is the sum of the squared distance between each data point and the mean of the dataset. The degrees of freedom in this case is the number of groups $m$ times the number of data points $n$ in each group and then we subtract 1, i.e. $m\\cdot n -1$.\n",
    "* SSW is the sum of the squared distance between each data point and the respective group mean. The degrees of freedom is the number of groups times the number of data points minus 1, i.e. $m\\cdot (n -1)$.\n",
    "* SSB is the sum of the squared distance between each group mean and the mean of the dataset for each data point. The degrees of freedom is the number of groups minus 1, i.e. $m -1$."
   ]
  },
  {
   "cell_type": "code",
   "execution_count": 80,
   "id": "similar-configuration",
   "metadata": {},
   "outputs": [],
   "source": [
    "m = df.shape[1]\n",
    "n = df.shape[0]"
   ]
  },
  {
   "cell_type": "code",
   "execution_count": 81,
   "id": "acting-municipality",
   "metadata": {},
   "outputs": [
    {
     "data": {
      "text/plain": [
       "98.57142857142858"
      ]
     },
     "execution_count": 81,
     "metadata": {},
     "output_type": "execute_result"
    }
   ],
   "source": [
    "SST = np.sum(np.sum((df - np.mean(np.mean(df)))**2))\n",
    "SST"
   ]
  },
  {
   "cell_type": "code",
   "execution_count": 82,
   "id": "thermal-straight",
   "metadata": {},
   "outputs": [
    {
     "data": {
      "text/plain": [
       "20"
      ]
     },
     "execution_count": 82,
     "metadata": {},
     "output_type": "execute_result"
    }
   ],
   "source": [
    "df_sst = m*n-1\n",
    "df_sst"
   ]
  },
  {
   "cell_type": "code",
   "execution_count": 83,
   "id": "active-potter",
   "metadata": {},
   "outputs": [
    {
     "data": {
      "text/plain": [
       "50.28571428571429"
      ]
     },
     "execution_count": 83,
     "metadata": {},
     "output_type": "execute_result"
    }
   ],
   "source": [
    "SSW = np.sum(np.sum((df - np.mean(df))**2))\n",
    "SSW"
   ]
  },
  {
   "cell_type": "code",
   "execution_count": 84,
   "id": "fitted-filing",
   "metadata": {},
   "outputs": [
    {
     "data": {
      "text/plain": [
       "18"
      ]
     },
     "execution_count": 84,
     "metadata": {},
     "output_type": "execute_result"
    }
   ],
   "source": [
    "df_ssw = m*(n-1)\n",
    "df_ssw"
   ]
  },
  {
   "cell_type": "code",
   "execution_count": 85,
   "id": "separated-lawyer",
   "metadata": {},
   "outputs": [
    {
     "data": {
      "text/plain": [
       "20.6938775510204"
      ]
     },
     "execution_count": 85,
     "metadata": {},
     "output_type": "execute_result"
    }
   ],
   "source": [
    "SSB = np.sum(np.sum((np.tile(np.mean(df), (3,1)) - np.mean(np.mean(df)))**2))\n",
    "SSB"
   ]
  },
  {
   "cell_type": "code",
   "execution_count": 86,
   "id": "accessory-dressing",
   "metadata": {},
   "outputs": [
    {
     "data": {
      "text/plain": [
       "2"
      ]
     },
     "execution_count": 86,
     "metadata": {},
     "output_type": "execute_result"
    }
   ],
   "source": [
    "df_ssb = m-1\n",
    "df_ssb"
   ]
  },
  {
   "cell_type": "markdown",
   "id": "color-hampshire",
   "metadata": {},
   "source": [
    "# Hypothesis Test"
   ]
  },
  {
   "cell_type": "markdown",
   "id": "prompt-evanescence",
   "metadata": {},
   "source": [
    "Let's define our hypothesis test. Our null hypothesis is the scenario where the background does not make a difference, while our alternative hypothesis states that background makes a difference on the salary of a Data Scientist.\n",
    "\n",
    "$$\\begin{align}\n",
    "H_0: \\mu_1 = \\mu_2 = \\mu_3 \\\\\n",
    "H_1: \\mu_1 \\neq \\mu_2 \\neq \\mu_3 \n",
    "\\end{align}$$\n",
    "\n",
    "As usual, we are going to assume that our null hypothesis is true and figure out the probability of getting a statistic as extreme or more extreme than the one we get from the data observed. For that we will use an F-statistic, which is basically a ratio of two chi-square statistics. It is actually the ratio of two of the metrics calculated above divided by their respective degrees of freedom:\n",
    "\n",
    "$$\\begin{align}\n",
    "\\text{F-statistic} = \\frac{\\frac{SSB}{m-1}}{\\frac{SSW}{m(n-1)}}\n",
    "\\end{align}$$\n",
    "\n",
    "The idea is that if the numerator is significantly larger than the denominator, this should make us believe that there is a difference between the true populations means. Conversely, if the the denominator is significantly larger, it means that the variation within each sample is a bigger percentage of the total variation when compared with the variation between the samples. Thus, any difference that we could observe in the means is probably just a result of random chance."
   ]
  },
  {
   "cell_type": "code",
   "execution_count": 87,
   "id": "satellite-marine",
   "metadata": {},
   "outputs": [
    {
     "data": {
      "text/plain": [
       "3.703733766233764"
      ]
     },
     "execution_count": 87,
     "metadata": {},
     "output_type": "execute_result"
    }
   ],
   "source": [
    "F = (SSB/df_ssb)/(SSW/df_ssw)\n",
    "F"
   ]
  },
  {
   "cell_type": "code",
   "execution_count": 91,
   "id": "about-boring",
   "metadata": {},
   "outputs": [
    {
     "data": {
      "text/plain": [
       "3.554557145661787"
      ]
     },
     "execution_count": 91,
     "metadata": {},
     "output_type": "execute_result"
    }
   ],
   "source": [
    "f.ppf(0.95, dfn=df_ssb, dfd=df_ssw)"
   ]
  },
  {
   "cell_type": "markdown",
   "id": "domestic-independence",
   "metadata": {},
   "source": [
    "Now, we can calculate our p-value. Let's use a significance level of 0.1."
   ]
  },
  {
   "cell_type": "code",
   "execution_count": 94,
   "id": "afraid-concern",
   "metadata": {},
   "outputs": [
    {
     "data": {
      "text/plain": [
       "0.08991458167840971"
      ]
     },
     "execution_count": 94,
     "metadata": {},
     "output_type": "execute_result"
    }
   ],
   "source": [
    "p_value = (1 - f.cdf(F, dfn=df_ssb, dfd=df_ssw))*2\n",
    "p_value"
   ]
  },
  {
   "cell_type": "code",
   "execution_count": 97,
   "id": "legendary-pharmacology",
   "metadata": {},
   "outputs": [
    {
     "name": "stdout",
     "output_type": "stream",
     "text": [
      "Reject H_0\n"
     ]
    }
   ],
   "source": [
    "if p_value<0.1:\n",
    "    print('Reject H_0')\n",
    "else:\n",
    "    print('Accept H_0')"
   ]
  },
  {
   "cell_type": "markdown",
   "id": "superior-torture",
   "metadata": {},
   "source": [
    "We see that the p-value is smaller than the significance level, which makes us reject the null hypothesis. There is enough evidence to accept that there is a difference between the populations means that does not come from chance alone nor from the variance within each group. With that said, we can conclude that the salary of a Data Scientist is difference depending on the graduation background."
   ]
  },
  {
   "cell_type": "markdown",
   "id": "short-parliament",
   "metadata": {},
   "source": [
    "# Conclusion\n",
    "\n",
    "This article covered analysis of variance (ANOVA), which is a collection of methods for comparing multiple means across different groups. We also introduced a new statistic, called F-statistic, which we used to conduct a hypothesis test on the difference of means of our groups.\n",
    "\n",
    "This is the final article of this first series on \"College Statistics with Python\". Hope that you enjoyed it!"
   ]
  },
  {
   "cell_type": "markdown",
   "id": "floating-malawi",
   "metadata": {},
   "source": [
    "### Answers from last week"
   ]
  },
  {
   "cell_type": "markdown",
   "id": "tamil-vegetarian",
   "metadata": {},
   "source": [
    "1. Márcia collected data on the battery life and price of a random sample of Portable Computers. Based on the data presented below, what is the test statistic for the null hypothesis that the population slope is 0? "
   ]
  },
  {
   "cell_type": "code",
   "execution_count": 10,
   "id": "structured-player",
   "metadata": {},
   "outputs": [],
   "source": [
    "data = {'Intercept': [200.312, 92.618],\n",
    "             'Battery': [7.546,4.798]}"
   ]
  },
  {
   "cell_type": "code",
   "execution_count": 11,
   "id": "industrial-bedroom",
   "metadata": {},
   "outputs": [
    {
     "data": {
      "text/html": [
       "<div>\n",
       "<style scoped>\n",
       "    .dataframe tbody tr th:only-of-type {\n",
       "        vertical-align: middle;\n",
       "    }\n",
       "\n",
       "    .dataframe tbody tr th {\n",
       "        vertical-align: top;\n",
       "    }\n",
       "\n",
       "    .dataframe thead th {\n",
       "        text-align: right;\n",
       "    }\n",
       "</style>\n",
       "<table border=\"1\" class=\"dataframe\">\n",
       "  <thead>\n",
       "    <tr style=\"text-align: right;\">\n",
       "      <th></th>\n",
       "      <th>Coef</th>\n",
       "      <th>SE Coef</th>\n",
       "    </tr>\n",
       "  </thead>\n",
       "  <tbody>\n",
       "    <tr>\n",
       "      <th>Intercept</th>\n",
       "      <td>200.312</td>\n",
       "      <td>92.618</td>\n",
       "    </tr>\n",
       "    <tr>\n",
       "      <th>Battery</th>\n",
       "      <td>7.546</td>\n",
       "      <td>4.798</td>\n",
       "    </tr>\n",
       "  </tbody>\n",
       "</table>\n",
       "</div>"
      ],
      "text/plain": [
       "              Coef  SE Coef\n",
       "Intercept  200.312   92.618\n",
       "Battery      7.546    4.798"
      ]
     },
     "execution_count": 11,
     "metadata": {},
     "output_type": "execute_result"
    }
   ],
   "source": [
    "df = pd.DataFrame.from_dict(data, columns=['Coef', 'SE Coef'], orient='index')\n",
    "df"
   ]
  },
  {
   "cell_type": "code",
   "execution_count": 12,
   "id": "clean-mistress",
   "metadata": {},
   "outputs": [
    {
     "data": {
      "text/plain": [
       "1.5727386411004585"
      ]
     },
     "execution_count": 12,
     "metadata": {},
     "output_type": "execute_result"
    }
   ],
   "source": [
    "t = (df['Coef'][1]-0)/df['SE Coef'][1]\n",
    "t"
   ]
  },
  {
   "cell_type": "markdown",
   "id": "smart-museum",
   "metadata": {},
   "source": [
    "2. Rui obtained a random sample of colleagues at work and noticed a positive linear relationship between their ages and the number of kilometers they said they walked yesterday. A 95%, percent confidence interval for the slope of the regression line was (15.4, 155.2). Rui wants to use this interval to test $H_0: \\beta=0$ vs. $H_1: \\beta \\neq 0$ at the 5% level of significance. Assume that all conditions for inference have been met. What should Rui conclude?"
   ]
  },
  {
   "cell_type": "markdown",
   "id": "prospective-sustainability",
   "metadata": {},
   "source": [
    "Rui should reject $H_0$, i.e. the data suggests that there is a linear relationship between age and number of kilometers walked yesterday."
   ]
  }
 ],
 "metadata": {
  "kernelspec": {
   "display_name": "Python 3",
   "language": "python",
   "name": "python3"
  },
  "language_info": {
   "codemirror_mode": {
    "name": "ipython",
    "version": 3
   },
   "file_extension": ".py",
   "mimetype": "text/x-python",
   "name": "python",
   "nbconvert_exporter": "python",
   "pygments_lexer": "ipython3",
   "version": "3.8.5"
  }
 },
 "nbformat": 4,
 "nbformat_minor": 5
}
