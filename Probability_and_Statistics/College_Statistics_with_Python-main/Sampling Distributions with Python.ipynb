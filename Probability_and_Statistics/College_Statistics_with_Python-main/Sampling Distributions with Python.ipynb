{
 "cells": [
  {
   "cell_type": "markdown",
   "id": "intended-berry",
   "metadata": {},
   "source": [
    "# Introduction\n",
    "In a series of weekly articles, I will be covering some important topics of statistics with a twist.\n",
    "\n",
    "The goal is to use Python to help us get intuition on complex concepts, empirically test theoretical proofs, or build algorithms from scratch. In this series, you will find articles covering topics such as random variables, sampling distributions, confidence intervals, significance tests, and more.\n",
    "\n",
    "At the end of each article, you can find exercises to test your knowledge. The solutions will be shared in the article of the following week.\n",
    "\n",
     ]
  },
  {
   "cell_type": "markdown",
   "id": "legal-sharing",
   "metadata": {},
   "source": [
    "# Sampling Distribution"
   ]
  },
  {
   "cell_type": "markdown",
   "id": "partial-nudist",
   "metadata": {},
   "source": [
    "We often find ourselves wanting to estimate a parameter for a population, for instance, its mean or standard deviation. Usually we cannot collect data from the overall population. In this case, the only way for us to estimate the parameters of our population is by random sampling from it. We define the size of the sample $n$ and calculate a statistic for each sample. This statistic is what we use to calculate the parameter of the overall population. Notice that because it is a random sample, the statistic that we calculate for each random sample could be far from the population value. That is why we perform this process a series of times, which we can call trials.\n",
    "\n",
    "Let's define a very simple example. We have a population of 100 athletes with numbered shirts with distinct values from 0 to 99. First we calculate the parameters for our population, $\\mu$ and $\\sigma$."
   ]
  },
  {
   "cell_type": "code",
   "execution_count": 1,
   "id": "prime-queensland",
   "metadata": {},
   "outputs": [],
   "source": [
    "import numpy as np\n",
    "import matplotlib.pyplot as plt\n",
    "from scipy.stats import bernoulli, norm, poisson\n",
    "from scipy import stats\n",
    "from scipy.stats import kurtosis, skew\n",
    "import seaborn as sns"
   ]
  },
  {
   "cell_type": "code",
   "execution_count": 2,
   "id": "liked-breed",
   "metadata": {},
   "outputs": [
    {
     "name": "stdout",
     "output_type": "stream",
     "text": [
      "μ=49.5\n",
      "σ=28.86607004772212\n"
     ]
    }
   ],
   "source": [
    "X = np.random.choice(np.arange(0, 100), 100, replace=False)\n",
    "print(f'μ={X.mean()}')\n",
    "print(f'σ={X.std()}')"
   ]
  },
  {
   "cell_type": "markdown",
   "id": "operating-soviet",
   "metadata": {},
   "source": [
    "We take 100 random samples of size 5."
   ]
  },
  {
   "cell_type": "code",
   "execution_count": 3,
   "id": "cosmetic-magnitude",
   "metadata": {},
   "outputs": [],
   "source": [
    "rs = []\n",
    "for i in range(100):\n",
    "    rs.append(np.random.choice(X, 5))\n",
    "rs = np.array(rs)"
   ]
  },
  {
   "cell_type": "code",
   "execution_count": 4,
   "id": "furnished-selection",
   "metadata": {},
   "outputs": [
    {
     "data": {
      "text/plain": [
       "array([[87, 73, 61, 91, 99],\n",
       "       [10,  5, 46, 72, 92],\n",
       "       [ 1,  3,  7, 59, 88],\n",
       "       [ 1, 42, 87, 21, 42],\n",
       "       [65,  9, 54, 88, 67]])"
      ]
     },
     "execution_count": 4,
     "metadata": {},
     "output_type": "execute_result"
    }
   ],
   "source": [
    "# 5 examples of our random samples\n",
    "\n",
    "rs[:5]"
   ]
  },
  {
   "cell_type": "markdown",
   "id": "legitimate-verification",
   "metadata": {},
   "source": [
    "For each one we calculate some statistic, in this case would be the sample mean $\\bar x$. $\\bar x$ is an array of 100 values (the mean value of each sample). Let's print the first 5 values and then plot an histogram to have a better idea of the shape of the sampling distribution. In fact, this is the **sampling distribution of the sample mean for sample size equal to 5**."
   ]
  },
  {
   "cell_type": "code",
   "execution_count": 5,
   "id": "functioning-california",
   "metadata": {},
   "outputs": [
    {
     "name": "stdout",
     "output_type": "stream",
     "text": [
      "[82.2 45.  31.6 38.6 56.6]\n"
     ]
    },
    {
     "data": {
      "image/png": "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\n",
      "text/plain": [
       "<Figure size 432x288 with 1 Axes>"
      ]
     },
     "metadata": {
      "needs_background": "light"
     },
     "output_type": "display_data"
    }
   ],
   "source": [
    "x_bar = rs.mean(axis=1)\n",
    "print(x_bar[:5])\n",
    "plt.hist(x_bar, bins=100);"
   ]
  },
  {
   "cell_type": "markdown",
   "id": "smooth-shoot",
   "metadata": {},
   "source": [
    "# Sampling Distribution of Sample Proportion\n",
    "\n",
    "We are going to start this section by creating two Random Variables (RV), a Bernoulli RV and Binomial RV (if you are unfamiliar with the details please see my previous articles from this series). \n",
    "\n",
    "The problem at hand is the following, there are 20,000 distinct universes where Rick and Morty live and we want to calculate the proportion of Mortys that we can find if we visit one random universe. Let $X$ be the following Bernoulli RV: \n",
    "\n",
    "$$ X=   \\left\\{\n",
    "\\begin{array}{ll}\n",
    "      1, \\quad \\text{if we find Morty} \\\\\n",
    "      0, \\quad \\text{if we don't find Morty} \\\\\n",
    "\\end{array} \n",
    "\\right.  $$\n",
    "\n",
    "We already saw in a past article that $\\mu_X = p$ and $\\sigma_X=\\sqrt{p \\cdot (1-p)}$.\n",
    "\n",
    "Now, let's define a new RV, which is equal to the sum of 10 independent trials of $X$. This is a Binomial RV with $\\mu_Y=n \\cdot p$ and $\\sigma_Y = \\sqrt{n \\cdot p \\cdot(1-p)}$.\n",
    "\n",
    "Now it is time randomly visit some universes and look for Morty there. Imagine that we visit 10 universes each time, which are indeed samples that we are taking from the overall population of universes. Notice that we can consider these samples independent even if we choose distinct universes for the sample of 10. This is due to very small number of samples compared to the population. There is in fact a 10% rule to assume independence in a random sampling without replacement from a population of certain size.\n",
    "\n",
    "Time to look for Morty."
   ]
  },
  {
   "cell_type": "code",
   "execution_count": 6,
   "id": "approved-proxy",
   "metadata": {},
   "outputs": [],
   "source": [
    "p = 0.6\n",
    "n = 10\n",
    "X = bernoulli(p)\n",
    "Y = [X.rvs(n) for i in range(10000)]"
   ]
  },
  {
   "cell_type": "code",
   "execution_count": 7,
   "id": "italic-federation",
   "metadata": {},
   "outputs": [
    {
     "data": {
      "image/png": "iVBORw0KGgoAAAANSUhEUgAAAX0AAAD4CAYAAAAAczaOAAAAOXRFWHRTb2Z0d2FyZQBNYXRwbG90bGliIHZlcnNpb24zLjMuNCwgaHR0cHM6Ly9tYXRwbG90bGliLm9yZy8QVMy6AAAACXBIWXMAAAsTAAALEwEAmpwYAAAPaElEQVR4nO3df6jd9X3H8eerSedsO5mS6NKbsOtKtjUK1XnJsgnDzTGzOhb7hyPCNAwhRdLVjsKI/adlEMigtWthCml1RmZ1wVoMU9u6rFAKTnu10hhTMdTM3CYzt+u2ZvvDLvG9P+437JAcc3+fY+7n+YDD+Z73+X6+3/eXhNf93s/5nu9NVSFJasO7ht2AJGlwDH1JaoihL0kNMfQlqSGGviQ1ZPmwG5jOihUranR0dNhtSNJ55fnnn/9xVa08s/6OD/3R0VHGx8eH3YYknVeS/Gu/utM7ktQQQ1+SGmLoS1JDDH1JaoihL0kNMfQlqSGGviQ1xNCXpIYY+pLUkHf8N3IlnW10+xND2e/hnTcOZb9aONOe6SdZk+RbSQ4mOZDkzq7+mSQ/SvJi9/hwz5i7khxK8kqSG3rq1yTZ3733xSRZnMOSJPUzkzP9k8Anq+qFJL8APJ/k6e69z1fVZ3tXTrIO2AxcAbwf+Kckv1pVp4B7ga3AvwBPAhuBpxbmUCRJ05n2TL+qjlXVC93yCeAgMHKOIZuAR6rqzap6DTgErE+yCrioqp6pqT/M+yBw03wPQJI0c7P6IDfJKHA18GxX+liS7ye5P8nFXW0EONIzbKKrjXTLZ9b77WdrkvEk45OTk7NpUZJ0DjMO/STvA74KfKKqfsrUVM0HgKuAY8DnTq/aZ3ido352sWpXVY1V1djKlWfdDlqSNEczCv0k72Yq8B+qqscAquqNqjpVVW8BXwLWd6tPAGt6hq8Gjnb11X3qkqQBmcnVOwHuAw5W1d099VU9q30EeKlb3gtsTnJBksuBtcBzVXUMOJFkQ7fN24DHF+g4JEkzMJOrd64FbgX2J3mxq30KuCXJVUxN0RwGPgpQVQeS7AFeZurKn23dlTsAdwAPABcyddWOV+5I0gBNG/pV9R36z8c/eY4xO4AdferjwJWzaVCStHC8DYMkNcTQl6SGGPqS1BBDX5IaYuhLUkMMfUlqiKEvSQ0x9CWpIYa+JDXE0Jekhhj6ktQQQ1+SGmLoS1JDDH1JaoihL0kNMfQlqSGGviQ1xNCXpIYY+pLUEENfkhpi6EtSQwx9SWqIoS9JDTH0Jakhhr4kNcTQl6SGGPqS1BBDX5IaYuhLUkMMfUlqiKEvSQ1ZPuwGpPPV6PYnht2CNGvThn6SNcCDwC8BbwG7quoLSS4B/gEYBQ4Df1JV/9GNuQu4HTgFfLyqvtHVrwEeAC4EngTurKpa2EOStFiG9YPu8M4bh7LfpWgm0zsngU9W1QeBDcC2JOuA7cC+qloL7Ote0723GbgC2Ajck2RZt617ga3A2u6xcQGPRZI0jWlDv6qOVdUL3fIJ4CAwAmwCdner7QZu6pY3AY9U1ZtV9RpwCFifZBVwUVU9053dP9gzRpI0ALP6IDfJKHA18CxwWVUdg6kfDMCl3WojwJGeYRNdbaRbPrPebz9bk4wnGZ+cnJxNi5Kkc5hx6Cd5H/BV4BNV9dNzrdqnVueon12s2lVVY1U1tnLlypm2KEmaxoxCP8m7mQr8h6rqsa78RjdlQ/d8vKtPAGt6hq8Gjnb11X3qkqQBmTb0kwS4DzhYVXf3vLUX2NItbwEe76lvTnJBksuZ+sD2uW4K6ESSDd02b+sZI0kagJlcp38tcCuwP8mLXe1TwE5gT5LbgdeBmwGq6kCSPcDLTF35s62qTnXj7uD/L9l8qntIkgZk2tCvqu/Qfz4e4Pq3GbMD2NGnPg5cOZsGJUkLx9swSFJDDH1JaoihL0kNMfQlqSGGviQ1xNCXpIYY+pLUEENfkhpi6EtSQwx9SWqIoS9JDTH0Jakhhr4kNcTQl6SGGPqS1BBDX5IaYuhLUkMMfUlqiKEvSQ0x9CWpIYa+JDXE0Jekhhj6ktQQQ1+SGmLoS1JDDH1JaoihL0kNMfQlqSGGviQ1xNCXpIYY+pLUkGlDP8n9SY4neamn9pkkP0ryYvf4cM97dyU5lOSVJDf01K9Jsr9774tJsvCHI0k6l5mc6T8AbOxT/3xVXdU9ngRIsg7YDFzRjbknybJu/XuBrcDa7tFvm5KkRTRt6FfVt4GfzHB7m4BHqurNqnoNOASsT7IKuKiqnqmqAh4Ebppjz5KkOZrPnP7Hkny/m/65uKuNAEd61pnoaiPd8pn1vpJsTTKeZHxycnIeLUqSes019O8FPgBcBRwDPtfV+83T1znqfVXVrqoaq6qxlStXzrFFSdKZ5hT6VfVGVZ2qqreALwHru7cmgDU9q64Gjnb11X3qkqQBmlPod3P0p30EOH1lz15gc5ILklzO1Ae2z1XVMeBEkg3dVTu3AY/Po29J0hwsn26FJA8D1wErkkwAnwauS3IVU1M0h4GPAlTVgSR7gJeBk8C2qjrVbeoOpq4EuhB4qntIkgZo2tCvqlv6lO87x/o7gB196uPAlbPqTpK0oPxGriQ1xNCXpIYY+pLUEENfkhpi6EtSQwx9SWqIoS9JDTH0Jakhhr4kNcTQl6SGGPqS1BBDX5IaYuhLUkMMfUlqiKEvSQ0x9CWpIYa+JDXE0Jekhhj6ktQQQ1+SGjLtH0aXpGEb3f7E0PZ9eOeNQ9v3YvBMX5Ia4pm+znvDPAuUzjee6UtSQwx9SWqIoS9JDTH0Jakhhr4kNcTQl6SGGPqS1BBDX5IaYuhLUkOmDf0k9yc5nuSlntolSZ5O8mr3fHHPe3clOZTklSQ39NSvSbK/e++LSbLwhyNJOpeZnOk/AGw8o7Yd2FdVa4F93WuSrAM2A1d0Y+5Jsqwbcy+wFVjbPc7cpiRpkU0b+lX1beAnZ5Q3Abu75d3ATT31R6rqzap6DTgErE+yCrioqp6pqgIe7BkjSRqQuc7pX1ZVxwC650u7+ghwpGe9ia420i2fWe8rydYk40nGJycn59iiJOlMC/1Bbr95+jpHva+q2lVVY1U1tnLlygVrTpJaN9fQf6ObsqF7Pt7VJ4A1PeutBo529dV96pKkAZpr6O8FtnTLW4DHe+qbk1yQ5HKmPrB9rpsCOpFkQ3fVzm09YyRJAzLtH1FJ8jBwHbAiyQTwaWAnsCfJ7cDrwM0AVXUgyR7gZeAksK2qTnWbuoOpK4EuBJ7qHpKkAZo29Kvqlrd56/q3WX8HsKNPfRy4clbdSZIWlN/IlaSGGPqS1BBDX5IaYuhLUkMMfUlqiKEvSQ0x9CWpIYa+JDXE0Jekhhj6ktQQQ1+SGmLoS1JDDH1JaoihL0kNMfQlqSGGviQ1xNCXpIYY+pLUEENfkhpi6EtSQwx9SWqIoS9JDTH0Jakhhr4kNcTQl6SGGPqS1BBDX5IaYuhLUkMMfUlqiKEvSQ0x9CWpIfMK/SSHk+xP8mKS8a52SZKnk7zaPV/cs/5dSQ4leSXJDfNtXpI0Owtxpv+7VXVVVY11r7cD+6pqLbCve02SdcBm4ApgI3BPkmULsH9J0gwtxvTOJmB3t7wbuKmn/khVvVlVrwGHgPWLsH9J0tuYb+gX8M0kzyfZ2tUuq6pjAN3zpV19BDjSM3aiq50lydYk40nGJycn59miJOm05fMcf21VHU1yKfB0kh+cY930qVW/FatqF7ALYGxsrO86kqTZm9eZflUd7Z6PA19jarrmjSSrALrn493qE8CanuGrgaPz2b8kaXbmfKaf5L3Au6rqRLf8B8BfAXuBLcDO7vnxbshe4CtJ7gbeD6wFnptH75K06Ea3PzGU/R7eeeOibHc+0zuXAV9Lcno7X6mqryf5LrAnye3A68DNAFV1IMke4GXgJLCtqk7Nq3tJ0qzMOfSr6ofAh/rU/x24/m3G7AB2zHWfkqT58Ru5ktQQQ1+SGjLfSzYlYHgfdkmaHc/0Jakhhr4kNcTQl6SGGPqS1BBDX5IaYuhLUkMMfUlqiKEvSQ0x9CWpIYa+JDXE0Jekhhj6ktQQQ1+SGmLoS1JDDH1JaoihL0kNMfQlqSGGviQ1xNCXpIYY+pLUEENfkhpi6EtSQwx9SWrI8mE3oIU1uv2JYbcg6R3MM31JaoihL0kNMfQlqSGGviQ1xNCXpIYMPPSTbEzySpJDSbYPev+S1LKBhn6SZcDfAn8IrANuSbJukD1IUssGfZ3+euBQVf0QIMkjwCbg5QH3sai8Vl7SO9WgQ38EONLzegL4zTNXSrIV2Nq9/O8kr8xxfyuAH89x7PnKY25Da8fc2vGSv573Mf9yv+KgQz99anVWoWoXsGveO0vGq2psvts5n3jMbWjtmFs7Xli8Yx70B7kTwJqe16uBowPuQZKaNejQ/y6wNsnlSX4O2AzsHXAPktSsgU7vVNXJJB8DvgEsA+6vqgOLuMt5TxGdhzzmNrR2zK0dLyzSMafqrCl1SdIS5TdyJakhhr4kNWRJhn5rt3pIsibJt5IcTHIgyZ3D7mlQkixL8r0k/zjsXgYhyS8meTTJD7p/798adk+LLclfdP+vX0rycJKfH3ZPCy3J/UmOJ3mpp3ZJkqeTvNo9X7wQ+1pyod/orR5OAp+sqg8CG4BtDRzzaXcCB4fdxAB9Afh6Vf068CGW+LEnGQE+DoxV1ZVMXQCyebhdLYoHgI1n1LYD+6pqLbCvez1vSy706bnVQ1X9DDh9q4clq6qOVdUL3fIJpoJgZLhdLb4kq4EbgS8Pu5dBSHIR8DvAfQBV9bOq+s+hNjUYy4ELkywH3sMS/G5PVX0b+MkZ5U3A7m55N3DTQuxrKYZ+v1s9LPkAPC3JKHA18OyQWxmEvwH+EnhryH0Myq8Ak8DfdVNaX07y3mE3tZiq6kfAZ4HXgWPAf1XVN4fb1cBcVlXHYOrEDrh0ITa6FEN/Rrd6WIqSvA/4KvCJqvrpsPtZTEn+CDheVc8Pu5cBWg78BnBvVV0N/A8L9Cv/O1U3j70JuBx4P/DeJH863K7Ob0sx9Ju81UOSdzMV+A9V1WPD7mcArgX+OMlhpqbwfi/J3w+3pUU3AUxU1enf4h5l6ofAUvb7wGtVNVlV/ws8Bvz2kHsalDeSrALono8vxEaXYug3d6uHJGFqnvdgVd097H4GoaruqqrVVTXK1L/xP1fVkj4DrKp/A44k+bWudD1L7LbkfbwObEjynu7/+fUs8Q+ve+wFtnTLW4DHF2Kjg77L5qIbwq0e3gmuBW4F9id5sat9qqqeHF5LWiR/DjzUndD8EPizIfezqKrq2SSPAi8wdZXa91iCt2RI8jBwHbAiyQTwaWAnsCfJ7Uz98Lt5QfblbRgkqR1LcXpHkvQ2DH1JaoihL0kNMfQlqSGGviQ1xNCXpIYY+pLUkP8Dhff+sRq4fXkAAAAASUVORK5CYII=\n",
      "text/plain": [
       "<Figure size 432x288 with 1 Axes>"
      ]
     },
     "metadata": {
      "needs_background": "light"
     },
     "output_type": "display_data"
    }
   ],
   "source": [
    "plt.hist(np.sum(Y, axis=1));"
   ]
  },
  {
   "cell_type": "markdown",
   "id": "changing-hughes",
   "metadata": {},
   "source": [
    "And there you go, this is the sampling distribution of the sampling proportion. How can we calculate its mean and standard deviation? The expected value for your sample proportion is the proportion of Mortys that we find in our visits, which shows that it is a unbised estimation for the population parameter. In the same way, the standard deviation of the sample proportion is the standard deviation of our binomial random variable $Y$ divided by $n$.\n",
    "\n",
    "$$\\begin{align}\n",
    "\\mu_{\\hat p}&=\\frac{\\mu_Y}{n} = p \\\\\n",
    "\\sigma_{\\hat p} &=\\frac{\\sigma_Y}{n} = \\frac{\\sqrt{n \\cdot p \\cdot (1-p)}}{n} = \\sqrt{\\frac{p \\cdot (1-p)}{n}}\n",
    "\\end{align}$$"
   ]
  },
  {
   "cell_type": "code",
   "execution_count": 8,
   "id": "protective-morrison",
   "metadata": {},
   "outputs": [
    {
     "name": "stdout",
     "output_type": "stream",
     "text": [
      "Empirically calculated expected value: 0.5977399999999999\n",
      "Theoretical expected value: 0.6\n"
     ]
    }
   ],
   "source": [
    "print('Empirically calculated expected value: {}'.format(np.mean(np.mean(Y, axis=1))))\n",
    "print('Theoretical expected value: {}'.format(p))"
   ]
  },
  {
   "cell_type": "code",
   "execution_count": 9,
   "id": "julian-spouse",
   "metadata": {},
   "outputs": [
    {
     "name": "stdout",
     "output_type": "stream",
     "text": [
      "Empirically calculated standard deviation: 0.15472844728749785\n",
      "Theoretical standard deviation: 0.15491933384829668\n"
     ]
    }
   ],
   "source": [
    "print('Empirically calculated standard deviation: {}'.format(np.std(np.mean(Y, axis=1))))\n",
    "print('Theoretical standard deviation: {}'.format(np.sqrt(p*(1-p)/n)))"
   ]
  },
  {
   "cell_type": "markdown",
   "id": "agricultural-sample",
   "metadata": {},
   "source": [
    "There you go, we just arrive to very similar values. First, by performing a big number of trials of 10 visit tours to random universes. Secondly, by computing the theoretical values for this sampling distribution. In this article we will understand exactly why these two approaches yield similar results."
   ]
  },
  {
   "cell_type": "markdown",
   "id": "adjusted-dover",
   "metadata": {},
   "source": [
    "# Normality of the Sampling Distribution of Sample Proportion\n",
    "\n",
    "There are two conditions to consider a sampling distribution approximately normal in its shape.\n",
    "\n",
    "$$\\begin{align}\n",
    "n \\cdot p \\geq 10 \\\\\n",
    "n \\cdot(1-p) \\geq 10\n",
    "\\end{align}$$\n",
    "\n",
    "Let's try an example. You ran a music store and receive 100 new CDs every week (consider these to be a random sample). Your supplier states that they are delivering approximately 10% of Rock CDs. You calculate the weekly proportion of Rock CDs in the weekly sample."
   ]
  },
  {
   "cell_type": "code",
   "execution_count": 90,
   "id": "blank-region",
   "metadata": {},
   "outputs": [
    {
     "name": "stdout",
     "output_type": "stream",
     "text": [
      "10.0\n",
      "90.0\n"
     ]
    }
   ],
   "source": [
    "n = 100\n",
    "p = 0.1\n",
    "print(n*p)\n",
    "print(n*(1-p))"
   ]
  },
  {
   "cell_type": "markdown",
   "id": "supported-resident",
   "metadata": {},
   "source": [
    "The conditions are met. Let's plot it and look at the resulting distribution."
   ]
  },
  {
   "cell_type": "code",
   "execution_count": 91,
   "id": "italic-white",
   "metadata": {},
   "outputs": [],
   "source": [
    "X = bernoulli(p)\n",
    "Y = [X.rvs(100) for i in range(10000)]"
   ]
  },
  {
   "cell_type": "code",
   "execution_count": 92,
   "id": "entitled-partnership",
   "metadata": {},
   "outputs": [
    {
     "data": {
      "image/png": "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\n",
      "text/plain": [
       "<Figure size 432x288 with 1 Axes>"
      ]
     },
     "metadata": {
      "needs_background": "light"
     },
     "output_type": "display_data"
    }
   ],
   "source": [
    "normal = np.random.normal(p*n, np.sqrt(n*p*(1-p)), (1000, ))\n",
    "density = stats.gaussian_kde(normal)\n",
    "n_, x, _ = plt.hist(normal, bins=np.linspace(0, 20, 50), \n",
    "                   histtype=u'step', density=True) \n",
    "plt.close()\n",
    "\n",
    "plt.hist(np.sum(Y, axis=1), density=True)\n",
    "plt.plot(x, density(x));"
   ]
  },
  {
   "cell_type": "markdown",
   "id": "noble-marina",
   "metadata": {},
   "source": [
    "Looks good and approximately normal. What if instead of a 10% probability of receiving Rock CDs we were informed that it changed to 3%?"
   ]
  },
  {
   "cell_type": "code",
   "execution_count": 93,
   "id": "floppy-berkeley",
   "metadata": {},
   "outputs": [
    {
     "name": "stdout",
     "output_type": "stream",
     "text": [
      "3.0\n",
      "97.0\n"
     ]
    }
   ],
   "source": [
    "n = 100\n",
    "p_ = 0.03\n",
    "print(n*p_)\n",
    "print(n*(1-p_))"
   ]
  },
  {
   "cell_type": "markdown",
   "id": "respective-fishing",
   "metadata": {},
   "source": [
    "The first condition is not met."
   ]
  },
  {
   "cell_type": "code",
   "execution_count": 94,
   "id": "employed-auckland",
   "metadata": {},
   "outputs": [],
   "source": [
    "X = bernoulli(p_)\n",
    "Y_ = [X.rvs(100) for i in range(10000)]"
   ]
  },
  {
   "cell_type": "code",
   "execution_count": 96,
   "id": "southeast-expense",
   "metadata": {},
   "outputs": [
    {
     "data": {
      "image/png": "iVBORw0KGgoAAAANSUhEUgAAAYAAAAD4CAYAAADlwTGnAAAAOXRFWHRTb2Z0d2FyZQBNYXRwbG90bGliIHZlcnNpb24zLjMuNCwgaHR0cHM6Ly9tYXRwbG90bGliLm9yZy8QVMy6AAAACXBIWXMAAAsTAAALEwEAmpwYAAAns0lEQVR4nO3df5xU9X3v8ddnlh+KKD9kBWRZFhcUMQoiRTAxVQlGTComaSrcVL2NDXKVa0ya3HKbNLFJ21ivJm1aI8XGVq2NPxqtNNKiEq0/MazIb0SWFWT5say/WBX5sTuf+8c5S8dxdvfM7sycnZn38/HYx8w553vO+cxhOJ853/P9fo+5OyIiUn4ScQcgIiLxUAIQESlTSgAiImVKCUBEpEwpAYiIlKk+cQeQjWHDhnlNTU3cYYiIFJWXX375TXevTJ9fVAmgpqaGurq6uMMQESkqZrYj03xVAYmIlCklABGRMqUEICJSppQARETKlBKAiEiZUgIQESlTSgAiImVKCaCYaOhuEckhJYBicbAF7jgP7v0ivN8cdzQiUgKUAIrFsm9D86uw43n4+/Nhx4txRyQiRU4JoBisexDW3Q+//cfwh09C32Phnz4HL/ytqoVEpNuUAHq7t1+HX30TRk+H878FI86E+U/DhM/B49+FB34fPnw37ihFpAgpAfRmba3w8NfAEvClO6EiHLvvmEHwe/fAZ38Er/0nLLkA9q6PNVQRKT5FNRpo2fmvm6FxFXzp5zC4+qPLzGDGdTDqHHjof8Iv5sHX10KiAoCaRY/lLIztN38uZ9sSkd5DVwC91fbn4JlbYfJX4Mzf7bhc9blwyY9g/07Y9lTh4hORohcpAZjZJWa2xczqzWxRhuVfMbN14d8LZjapq3XNbKiZPWFmW8PXIbn5SCXgw3fg4fkw9BSYfUvX5U+7FAacCKvvzn9sIlIyukwAZlYB3A7MBiYC88xsYlqx14HfdvezgB8CSyKsuwhY4e7jgRXhtLjDv38d3m+CL/0D9B/Y9Tp9+sGkebBlmfoIiEhkUa4ApgH17t7g7oeB+4E5qQXc/QV3fyecXAlURVh3DtD+k/Vu4PJuf4pSsmUZbHoULvwOjJoSfb0pV0GyFdb+In+xiUhJiZIARgE7U6Ybw3kduQb4jwjrDnf3PQDh60mZNmZm882szszqmptL/NftkYOw/E+g8nQ474bs1q08LWgquvoe9Q0QkUiiJADLMC/jGcbMLiRIAH+c7bodcfcl7j7V3adWVn7smcalZeXt8M724KZuRTcaaE25Ct7aCm+ol7CIdC1KAmgERqdMVwG70wuZ2VnAPwBz3P2tCOs2mdnIcN2RwL7sQi8xLbvhmdtgwueh9sLubeOMy6H/CcFVgIhIF6IkgFXAeDMba2b9gLnA0tQCZlYNPAxc6e6vRVx3KXB1+P5q4NHuf4wS8ORNQR3+xX/e/W30Oy5oMrrx3ziBD3IWmoiUpi4TgLu3AguB5cBm4EF332hmC8xsQVjse8CJwM/MbI2Z1XW2brjOzcAsM9sKzAqny9PO38C6B+C8hTB0bM+2NeUqaP2QyypeyE1sIlKyzIvohuHUqVO9rq4u7jByK5mEf7gI3tsLC+uiNfvsjDv8/fms3/0ev3P4L3MSonoCixQ3M3vZ3aemz1dP4Lit/RfY/QrM+kHPT/4QDBEx5WrOTGznDHu959sTkZKlBBCngy3w5J9B1TQ488u52+6Zv8tB78vcCg0NISIdUwKI0zO3wAfNMPuvgl/uuXLsEB5Lnsuciuc5hkO5266IlBQlgLhsewpWLoazv5Jdj9+IHmi9kBPsQy5NvJTzbYtIaVACKLSDLcFYP/deDkPGwMzv52U3v/EJNCRHcEWfp/OyfREpfkoAhbT1SfjZjKCj1nn/G659FgZmHAEjB4yH2i7g3MSrnMybedqHiBQzJYBC+PAd+Lfr4L4vBZ21rnki6PDVb0Bed7s8GbT6uqjilbzuR0SKkxJAvjX8F9w+HdbeD+f/ESx4Fqo+1hw3P7v2k2lIjuAzidUF2Z+IFBclgHxa9xD885fg2MHwtV/DzO9Bn/4FDeHXybOZkdjIAA4WdL8i0vspAeTLC38LD/8hjD4XvrocTp4cSxgrklPob62cn9BD40Xko5QAci2ZhOXfgce/CxMvh9//ZXAFEJNVydNo8QHMVDWQiKTpxqDz0qHWQ8HN3g3/CtOuhUtuhkS8ObaVPjydnMSFFa9grUlcOV9EQjob5MrBFrjvd4OT/2duCnr3xnzyb/dk2xQqrYVJ1hB3KCLSi/SOM1Qp+PcbYMcLcPli+NQ3cju0Qw89nZxEqyeYWaFqIBH5b0oAueAODU/DpHkweV7c0XxMCwOp89PUHFREPkIJIBfebgg6e1X9VtyRdOjJtimcnniDUTTHHYqI9BKREoCZXWJmW8ys3swWZVg+wcxeNLNDZvatlPmnhU8Ia/9rMbMbw2U3mdmulGWX5uxTFVpj+JCaAnXw6o4VyWDAOfUKFpF2XbYCMrMK4HaCxzY2AqvMbKm7b0op9jZwA3B56rruvgWYnLKdXcAjKUV+4u639iD+3mFXHfQbCJUTur2JmkWP5TCgj3vdR7ItOZLPJFZzb9vFed2XiBSHKFcA04B6d29w98PA/cCc1ALuvs/dVwFHOtnOTGCbu+/odrS9VWMdnHw2JCrijqRTv06ezfTEJo7jw7hDEZFeIEoCGAXsTJluDOdlay7wi7R5C81snZndZWZDMq1kZvPNrM7M6pqbe2H99ZGDsHc9jDon7ki61N4r+FPqFSwiROsIlqk9Y1ZPkjezfsBlwP9NmX0H8MNwWz8EbgO++rEduS8BlkDwUPhs9ptP7VU2Z9tWHul/hGufMpavyG81Tk/VJU9lvw/gM4nVLE9OizscEYlZlCuARmB0ynQVsDvL/cwGVrt7U/sMd29y9zZ3TwJ3ElQ1FZ3JiXoA1iRrY46ka0Gv4MlcWLGGBMm4wxGRmEVJAKuA8WY2NvwlPxdYmuV+5pFW/WNmI1MmvwBsyHKbvcLkxDb2+FCaGBp3KJGsaJvCMGthkm2LOxQRiVmXVUDu3mpmC4HlQAVwl7tvNLMF4fLFZjYCqANOAJJhU8+J7t5iZgMIWhBdm7bpW8xsMkEV0PYMy4vCZKsvil//7Z5OnnW0V/ArrePjDkdEYhRpMDh3XwYsS5u3OOX9XoKqoUzrHgBOzDD/yqwi7YWG0sKYxD7+5cjMuEOJrIWBrEpOYGZiNbdyRdzhiEiM1BO4ByYlgmqUNclxMUeSnSeTZ3N6Yqd6BYuUOSWAHpicqKfNjfU+Nu5QsvJs8iwApiVejTkSEYmTEkAPnG31vOajOcAxcYeSlXofxft+zNEWTCJSnpQAuslIMimxjVeK6AZwuyQJ1idPOVqFJSLlSQmgm8baXgbZAdZ4cdX/t1vjtUy0HfTncNyhiEhMlAC6abK1dwAr0gSQHEc/a+N0eyPuUEQkJkoA3TQ5sY33/RjqvTvDIsWvve+C7gOIlC8lgG6anKhnXfIUkkV6CJsYyh4fqgQgUsaK8+wVtyMfcrq9UbT1/+3WJms1JIRIGVMC6I496+hrbUU1BEQma5K1jE00MZj34g5FRGKgBNAdu4JHQL5SpDeA2631IIFNSjTEHImIxEEJoDsa69jlJ9JMxmfYFI11yVNIuh1t0SQi5UUJoDt21RV99Q/ABxzLa16lG8EiZUoJIFvvN8O7bxRt+/90a5O1YY/gXvOwNREpECWAbIX1/6WSANZ4LUPtfaptX9yhiEiBKQFkq7EOrKLoRgDtyNr2DmFqDipSdiIlADO7xMy2mFm9mS3KsHyCmb1oZofM7Ftpy7ab2XozW2NmdSnzh5rZE2a2NXwtjjuqu+pg+EQO0j/uSHJii4/mgPfXfQCRMtRlAjCzCuB2gge7TwTmmdnEtGJvAzcAt3awmQvdfbK7T02ZtwhY4e7jgRXhdO/mDrtfgZOnxB1JzrQRXM1oZFCR8hPlCmAaUO/uDe5+GLgfmJNawN33ufsq4EgW+54D3B2+vxu4PIt143HgbTi4HypPizuSnFqbrOUTtp2+tMYdiogUUJQEMArYmTLdGM6LyoHHzexlM5ufMn+4u+8BCF9PyrSymc03szozq2tujvkRhu+8HrwOKY36/3ZrkrX0tyNM0MigImUlykPhLcO8bNoMftLdd5vZScATZvaquz8TdWV3XwIsAZg6dWq32yrWLHqsu6sedVnieX7aD2bdvROo6vH2eov2G8GTEttY33ZKzNGISKFEuQJoBEanTFcBu6PuwN13h6/7gEcIqpQAmsxsJED42uvbIY6xJgDe8IwXK0VrF8No9kGcrRvBImUlSgJYBYw3s7Fm1g+YCyyNsnEzO87Mjm9/D1wMbAgXLwWuDt9fDTyaTeBxGJPYx14fwiH6xR1KjhlrNDKoSNnpsgrI3VvNbCGwHKgA7nL3jWa2IFy+2MxGAHXACUDSzG4kaDE0DHjEzNr39S/u/p/hpm8GHjSza4A3gC/n9JPlQbU1scOHxx1GXqxJjmNW39WcwAe0cFzc4YhIAUS5B4C7LwOWpc1bnPJ+L5krxVuASR1s8y1gZuRIe4Ex1sQzbWfFHUZerAlHBj0r0cBzyTNjjkZECkE9gSM6hkMMt3dL9gpgfTK4+atqIJHyoQQQUftYOW+UaAJo4TjqkyerR7BIGVECiKi9BdCOEmsBlGqt1zJZI4OKlA0lgIiqjyaA0rwCgOAJZ5W2n1G8GXcoIlIASgARjbF9tPgA3mVg3KHkTftDbiZrXCCRsqAEENEYawqrfzJ1jC4NW7yaQ96HM/WMYJGyoAQQUSn3AWh3hD5s8dGcYdvjDkVECkAJIIIK2qiyN0u2BVCqDckaPpHYjm4Ei5Q+JYAIRtpb9LW2kr8CANjoYxli7+tGsEgZUAKIoFQHgctkQ7IGILwKEJFSpgQQwZiwE9iOZOlfAbzq1bR6gjMSr8cdiojkmRJABNXWxCHvw16Gxh1K3h2iH/U+ik/oRrBIyVMCiGCMNdHolSTL5HBt9BpVAYmUgfI4o/XQGNtXFjeA221I1nCSvUsl78QdiojkkRJAl7ws+gCk2pAMnnl8hq4CREpapARgZpeY2RYzqzezRRmWTzCzF83skJl9K2X+aDN7ysw2m9lGM/t6yrKbzGyXma0J/y7NzUfKrRNpYaAdLIsWQO02+RgA3QcQKXFdPhDGzCqA24FZBM8HXmVmS919U0qxt4EbgMvTVm8F/sjdV4ePhnzZzJ5IWfcn7n5rTz9EPo0pg0Hg0n3AsWxLjgzuA7TFHY2I5EuUK4BpQL27N7j7YeB+YE5qAXff5+6rgCNp8/e4++rw/XvAZmBUTiIvkNHtTUDLKAFAcBXwCTUFFSlpURLAKGBnynQj3TiJm1kNcDbwUsrshWa2zszuMrMhHaw338zqzKyuubk529322BjbR9KNRq8s+L7jtCE5lip7k8G8F3coIpInURJApuEvsxooxswGAr8EbnT3lnD2HUAtMBnYA9yWaV13X+LuU919amVl4U/CYxJN7GUIh+hX8H3HaYPXALoRLFLKoiSARmB0ynQVsDvqDsysL8HJ/z53f7h9vrs3uXubuyeBOwmqmnqdamsqi0Hg0m0Mh4TQyKAipStKAlgFjDezsWbWD5gLLI2ycTMz4OfAZnf/cdqykSmTXwA2RAu5sMbYvrIYAiLduxxPow9ThzCREtZlKyB3bzWzhcByoAK4y903mtmCcPliMxsB1AEnAEkzuxGYCJwFXAmsN7M14Sb/xN2XAbeY2WSC6qTtwLU5/Fw5cSwHOcneLasmoKk2JMfqCkCkhHWZAADCE/aytHmLU97vJagaSvccHTxCy92vjB5mPKrDFkDlmgA2JsdwSd9VcLAFjjkh7nBEJMfUE7gT5dgHINUGD3oE09Qra+dEpIeUADpRXaZ9ANq1PxuAPWtjjUNE8kMJoBNjrIn9PoD9DIw7lFg0M4R9PlgJQKREKQF0YkyZDQKXyYZkDexZF3cYIpIHSgCdqLZ9ZdkHINUGr4HmV+HIh3GHIiI5pgTQgQraGGVvsqNMWwC125isAW+Dpk1dlhWR4qIE0IGT7U36WlvZVwFtbG8JtGdNrHGISO4pAXRgzNE+AOWdABp9GBwzWDeCRUqQEkAHjvYBKMNhID7KYOQkJQCREqQE0IFqa+KQ92UvGUepLi8jJ8G+TdB2pOuyIlI0lAA6MMb2sdMrcR2iIAG0HQ5aA4lIydDZrQPqA5Bi5KTgVdVAIiVFCSAjD58DUN5NQI8aWgv9BsLuNXFHIiI5pASQwTBaOM4O6QqgXSIBIyfDrrq4IxGRHFICyGCs7QFgu4+IOZJepHp6MCTEoffjjkREckQJIINxiV0A1PuomCPpRapnBD2CdRUgUjIiJQAzu8TMtphZvZktyrB8gpm9aGaHzOxbUdY1s6Fm9oSZbQ1fe017y3G2mwPen11+Ytyh9B6jfwsw2PFi3JGISI50mQDMrAK4HZhN8JjHeWY2Ma3Y28ANwK1ZrLsIWOHu44EV4XSvMM520eAj1QQ01TGDYMQn4A0lAJFSEeUMNw2od/cGdz8M3A/MSS3g7vvcfRWQ3lOos3XnAHeH7+8GLu/eR8i92sRu6v3kuMPofapnQGOdOoSJlIgoCWAUsDNlujGcF0Vn6w539z0A4WvGNpdmNt/M6sysrrm5OeJuu28AB6myN6lPqv7/Y6qnw5EPYO/6uCMRkRyIkgAyPdTdI26/J+sGhd2XuPtUd59aWVmZzardcortBnQDOKPR04PXN1bGG4eI5ESUBNAIjE6ZrgJ2R9x+Z+s2mdlIgPB1X8Rt5tW4owlAVUAfM2gUDK7WfQCREhElAawCxpvZWDPrB8wFlkbcfmfrLgWuDt9fDTwaPez8GZfYRasn2KE+AJlVzwiuADyrCzkR6YW6TADu3gosBJYDm4EH3X2jmS0wswUAZjbCzBqBbwLfNbNGMzuho3XDTd8MzDKzrcCscDp242w3O3w4R+gTdyi9U/V0+GAfvN0QdyQi0kORznLuvgxYljZvccr7vQTVO5HWDee/BczMJthCGGe7VP/fmerzgtc3VsKJtfHGIiI9oobuKfrQyhhrUv1/Z4adCscOgTdeiDsSEekhJYAUY6yJvtamJqCdSSSC1kBqCSRS9JQAUowzjQEUSfV0eKse3s9/vwwRyR8lgBTtTUC3qQqoc9UzgtedugoQKWZKACnGJXax24dygGPiDqV3O3kyVPRXNZBIkVMCSDHOdqn+P4o+/WHUOeoQJlLklABCRpJa26Pqn6jGzAieEXz4g7gjEZFuUgIIncxbDLBDugEcVfUMSLbCrpfjjkREukkJIDQuEY4BpCqgaKrCB8ToPoBI0VICCP13E1BVAUVy7GAYfgbsUIcwkWKlBBCqtV284wN5ixPiDqV4VE+HxlXQ1hp3JCLSDUoAoXFHnwKW6REGklH1DDj8PjRtiDsSEekGJYBQre1W/X+2qvWAGJFipgQADKGFE+091f9na1AVDBqt/gAiRUoJgNQhIHQFkLXqGcGNYD0gRqToKAEQDAEBGgSuW065IHhATNPGLouKSO8SKQGY2SVmtsXM6s1sUYblZmY/DZevM7Mp4fzTzGxNyl+Lmd0YLrvJzHalLLs0p58sC+NsNwe8P7v8xLhCKF61Fwav21bEG4eIZK3LBGBmFcDtwGxgIjDPzCamFZsNjA//5gN3ALj7Fnef7O6TgXOAA8AjKev9pH15+OSwWIyzXTT4SFwXRNk74WQ4aSJs+3XckYhIlqKc8aYB9e7e4O6HgfuBOWll5gD3eGAlMNjMRqaVmQlsc/cdPY46x2qPNgGVbqm9CHa8CIcPxB2JiGQhSgIYBexMmW4M52VbZi7wi7R5C8Mqo7vMbEimnZvZfDOrM7O65ubcP4BkAAepsjfVBLQnai+EtkN6TKRIkYmSADL1jEpv8tFpGTPrB1wGPJSy/A6gFpgM7AFuy7Rzd1/i7lPdfWplZWWEcLNzStgCSDeAe6D6vOD5APWqBhIpJlESQCMwOmW6CtidZZnZwGp3b2qf4e5N7t7m7kngToKqpoIbdzQBqAqo2/oNgDHn6T6ASJGJkgBWAePNbGz4S34usDStzFLgqrA10HRgv7vvSVk+j7Tqn7R7BF8AYhlPYFxiF62eYIePiGP3paP2ImjeDC3pvw1EpLfqMgG4eyuwEFgObAYedPeNZrbAzBaExZYBDUA9wa/569rXN7MBwCzg4bRN32Jm681sHXAh8I2efpjuGGe72eHDOUKfOHZfOmovCl51FSBSNCKd9cImmsvS5i1Oee/A9R2sewD4WAN7d78yq0jzZJztUv1/Lgw/AwYODxLA2b8fdzQiEkFZN3zvQytjrEn1/7lgFlwFbHsKksm4oxGRCMo6AYyxJvpam5qA5krtRfDh27B3bdyRiEgEZZ0AxpvGAMqpU8JhIeo1LIRIMSjrBHBO4jUOeV9e86q4QykNAythxFlBNZCI9HplnQBmJDbxcnI8h+gXdyilo/Yi2PkSHHov7khEpAtlmwAG8T4TbQcrk+nj2kmP1F4EySOw/bm4IxGRLpRtApiWeJWEOS8qAeRW9XToO0D9AUSKQNkmgBmJTRz0vqz12rhDKS19+kPNp5QARIpA2SaA6YnN1CVP5TB94w6l9NReBG/Vwzu9buRvEUlRlglgMO8xMbGDF5NnxB1KadKwECJFoSwTwLmJzQCsTJ4ecyQlatipcEKVEoBIL1eWCWB6YjMHvD/rVP+fH2bBQ2Ia/gvaWuOORkQ6UJYJYEZiE3XJUzUCaD6d+lk4tB9efzruSESkA2WXAIbSwoTETrX/z7fxF8Mxg2DtA3FHIiIdKLsE0F7/r/b/edanP5zxRXj1V3Do/bijEZEMIiUAM7vEzLaYWb2ZLcqw3Mzsp+HydWY2JWXZ9vDBL2vMrC5l/lAze8LMtoavGR8Kn2szEpv4wPuz3scWYnflbdJcOHIANv973JGISAZdJgAzqwBuJ3iu70Rgnpml/3yeDYwP/+YTPPA91YXuPtndp6bMWwSscPfxwIpwOu+mJzaxKjmBVtX/59/oc2FIDay7P+5IRCSDKFcA04B6d29w98PA/cCctDJzgHs8sBIYnPbM30zmAHeH7+8GLo8edvcMYz+nJnap+qdQzOCsK4LWQPt3xR2NiKSJkgBGATtTphvDeVHLOPC4mb1sZvNTygxvf3B8+HpSpp2b2XwzqzOzuubm5gjhdmx6YhOg9v8FddYVgMP6h+KORETSREkAlmGeZ1Hmk+4+haCa6Hoz+3QW8eHuS9x9qrtPrayszGbVj5me2MR7fiwbVP9fOCfWQtU0WPcAePrXRkTiFCUBNAKjU6argN1Ry7h7++s+4BGCKiWApvZqovB1X7bBZ2tGYhO/SU6gjYp870pSTboC9m2CvevjjkREUkRJAKuA8WY21sz6AXOBpWlllgJXha2BpgP73X2PmR1nZscDmNlxwMXAhpR1rg7fXw082sPP0qlK3qE2sUfVP3E444uQ6BtcBYhIr9FlAnD3VmAhsBzYDDzo7hvNbIGZLQiLLQMagHrgTuC6cP5w4DkzWwv8BnjM3f8zXHYzMMvMtgKzwum8maH2//EZMDToGbz+IQ0NIdKLRGoL6e7LCE7yqfMWp7x34PoM6zUAkzrY5lvAzGyC7YnpiY20+AA2eU2hdimpzroi6BTW8DSM/0zc0YgIZdQTeHpiMy8lJ5Asn4/cu5z6WThmsPoEiPQi5XE2bNnNKYm9Gv8nTn36wye+CJt/pQfGi/QS5ZEAXn8WQAkgbmfNhdYPNTSESC9RHglg+7O868exyavjjqS8jZ4GQ8bCWlUDifQG5ZEALvou1x7+Jl4mH7fXah8a4vVnYH9j3NGIlL3yGBHt+BG85Gr/3101ix7L2baqbATPHVsBz/4YPv/jnG1XRLKnn8RSUI1+Eky9Bl7+R9i3Oe5wRMqaEoAU3gWLoP/x8Pifxh2JSFlTApDCGzAUPv1/oP4JqH8y7mhEypYSgMRj2teCFkHLv6vhIURiogQg8ejTH2b9AJo3wyv3xB2NSFlSApD4nP47UH0e/Pov4GBL3NGIlB0lAImPGXz2L+DAm/CcmoSKFJoSgMRr1JRgiIgXfwbv7Ig7GpGyogQg8Zv5p2AJWPFncUciUlaUACR+g6rgvP8NG34JO38TdzQiZSNSAjCzS8xsi5nVm9miDMvNzH4aLl9nZlPC+aPN7Ckz22xmG83s6ynr3GRmu8xsTfh3ae4+lhSdT34djj8Zlt4ArYfijkakLHSZAMysArgdmA1MBOaZWfq4yrOB8eHffOCOcH4r8EfufjowHbg+bd2fuPvk8O8jTxyTMtN/IFz206BZ6NM/ijsakbIQ5QpgGlDv7g3ufhi4H5iTVmYOcI8HVgKDzWyku+9x99UA7v4ewTOFR+Uwfikl42fB2VfC838DjXVxRyNS8qIkgFHAzpTpRj5+Eu+yjJnVAGcDL6XMXhhWGd1lZkMy7dzM5ptZnZnVNTc3RwhXitpn/zKoCnpkARz5MO5oREpalARgGeZ5NmXMbCDwS+BGd2/v8XMHUAtMBvYAt2Xaubsvcfep7j61srIyQrhS1I45Aeb8Hby1FX7953FHI1LSoiSARmB0ynQVsDtqGTPrS3Dyv8/dH24v4O5N7t7m7kngToKqJhGovTAYMvrF22HHi3FHI1KyoiSAVcB4MxtrZv2AucDStDJLgavC1kDTgf3uvsfMDPg5sNndP9LV08xGpkx+AdjQ7U8hpWfWD2BwNTx6HRz+IO5oREpSlwnA3VuBhcBygpu4D7r7RjNbYGYLwmLLgAagnuDX/HXh/E8CVwIXZWjueYuZrTezdcCFwDdy9qmk+PUfCJf/DN5ugBU/iDsakZIU6ZGQYRPNZWnzFqe8d+D6DOs9R+b7A7j7lVlFKuWn5lNw7gJ4aTFM+DyMPT/uiERKinoCS+828/swtBYeuRY+eDPuaERKihKA9G79BsCX/zE4+f/yGki2xR2RSMlQApDeb+Qk+Nxt0PA0PH1z3NGIlAwlACkOU64Megk/cwu8tjzuaERKQqSbwCK5VLPosW6t15+ZPNzvGUbd9wd8/vBf0OgnAbD95s/lMjyRsqErACkah+jHgiM3Yjh39P1r+nM47pBEipoSgBSVnT6cbx75X5yZ2M73+9wddzgiRU0JQIrOiuQ53N56Gf+jz1N8ueLpuMMRKVpKAFKUftz6ZZ5vO4O/7PNzeOWf4w5HpCgpAUhRaqOCBUe+wYvJifDo9bDih5BMxh2WSFFRApCi9R4D+OqRb8OUq+HZW+HhP4QjB+MOS6RoqBmoFLVW+lDzwsUsqDjEog33U7duPV87/E3e4YRub1PNSqVc6ApASoCxuO0yrjt8A2fa6zzS7/uMtT1xByXS6ykBSMlYlpzOvMPfYaB9yKP9/pQbKh5mMO/FHZZIr6UEICVltZ/KFw7/GauSp/HNvv/KC/1v4Pt97qbK9DxpkXS6ByAlZ6cP55oj32Z8ayPzK37FVyqe5MqKJ3gsOZ0lrZ9no9fEHaJIrxDpCsDMLjGzLWZWb2aLMiw3M/tpuHydmU3pal0zG2pmT5jZ1vB1SG4+kkhgq1fx7dYFfPrQX/PzttlclHiFx/r/Cc/1v4G/6ft3XFnxOBNtOwnUfFTKU5dXAGZWAdwOzCJ4+PsqM1vq7ptSis0Gxod/5wJ3AOd2se4iYIW73xwmhkXAH+fuo4kE9nIiP2r9Cre3Xs6ciuc5N7GZcxObmVPxAgDv+bG8khxHg4/kTR8Edftg4Elw3Elw3DA4ZhAk+kBFX0j0hUQFWMYH3YkUlShVQNOAendvADCz+4E5QGoCmAPcEz4acqWZDQ4f+l7TybpzgAvC9e8GnkYJQPKoheO4t+1i7m27GHCq7E3OsS1MTbzGOYmtTEpsY5AdgF891OW2jngFbSTw8Imn//3KR6ZzbWB/1dqWrSvuhdqLcrrJKN+mUcDOlOlGgl/5XZUZ1cW6w919D4C77zGzkzLt3MzmA/PDyffNbEuEmDMZBvTGZwoqruzkLK4dwPO52FCg5I9XjimubH1nZk9iG5NpZpQEkOmnjEcsE2XdTrn7EmBJNutkYmZ17j61p9vJNcWVHcWVHcWVnd4aF+Qntig3gRuB0SnTVcDuiGU6W7cprCYifN0XPWwREempKAlgFTDezMaaWT9gLrA0rcxS4KqwNdB0YH9YvdPZukuBq8P3VwOP9vCziIhIFrqsAnL3VjNbCCwHKoC73H2jmS0Ily8GlgGXAvXAAeAPOls33PTNwINmdg3wBvDlnH6yj+txNVKeKK7sKK7sKK7s9Na4IA+xWdBwR0REyo2GghARKVNKACIiZarkEkBPhq3IY0yjzewpM9tsZhvN7OsZylxgZvvNbE349718xxXud7uZrQ/3WZdheRzH67SU47DGzFrM7Ma0MgU5XmZ2l5ntM7MNKfMiDWPS1XcxD3H9PzN7Nfx3esTMBnewbqf/5nmI6yYz25Xyb3VpB+sW+ng9kBLTdjNb08G6+TxeGc8NBfuOuXvJ/BHcaN4GnAL0A9YCE9PKXAr8B0EfhenASwWIayQwJXx/PPBahrguAH4VwzHbDgzrZHnBj1eGf9O9wJg4jhfwaWAKsCFl3i3AovD9IuCvuvNdzENcFwN9wvd/lSmuKP/meYjrJuBbEf6dC3q80pbfBnwvhuOV8dxQqO9YqV0BHB22wt0PA+1DT6Q6OmyFu68E2oetyBt33+Puq8P37wGbCXpJF4OCH680M4Ft7r6jgPs8yt2fAd5Omz2HYPgSwtfLM6wa5buY07jc/XF3bw0nVxL0uymoDo5XFAU/Xu3MzIDfA36Rq/1F1cm5oSDfsVJLAB0NSZFtmbwxsxrgbOClDItnmNlaM/sPMzujQCE58LiZvWzBsBvpYj1eBH1HOvqPGcfxgrRhTIBMw5jEfdy+SnDllklX/+b5sDCsmrqrg+qMOI/X+UCTu2/tYHlBjlfauaEg37FSSwA9GbYi78xsIPBL4EZ3b0lbvJqgmmMS8LfAvxUiJuCT7j6FYETX683s02nL4zxe/YDLgEyjs8V1vKKK87h9B2gF7uugSFf/5rl2B1ALTAb2EFS3pIvteAHz6PzXf96PVxfnhg5XyzAvq2NWagmgJ8NW5JWZ9SX4B77P3R9OX+7uLe7+fvh+GdDXzIblOy533x2+7gMeIbisTBXL8QrNBla7e1P6griOVyjKMCZxfc+uBj4PfMXDiuJ0Ef7Nc8rdm9y9zd2TwJ0d7C+u49UH+CLwQEdl8n28Ojg3FOQ7VmoJoCfDVuRNWMf4c2Czu/+4gzIjwnKY2TSCf5u38hzXcWZ2fPt7gpuIG9KKFfx4pejwl1kcxytFlGFMonwXc8rMLiEYUv0ydz/QQZko/+a5jiv1ntEXOthfwY9X6DPAq+7emGlhvo9XJ+eGwnzH8nFnO84/glYrrxHcHf9OOG8BsCB8bwQPqdkGrAemFiCmTxFcmq0D1oR/l6bFtRDYSHAnfyVwXgHiOiXc39pw373ieIX7HUBwQh+UMq/gx4sgAe0BjhD84roGOBFYAWwNX4eGZU8GlnX2XcxzXPUEdcLt37HF6XF19G+e57juDb876whOUCN7w/EK5/9T+3cqpWwhj1dH54aCfMc0FISISJkqtSogERGJSAlARKRMKQGIiJQpJQARkTKlBCAiUqaUAEREypQSgIhImfr/6+4v/qxODMoAAAAASUVORK5CYII=\n",
      "text/plain": [
       "<Figure size 432x288 with 1 Axes>"
      ]
     },
     "metadata": {
      "needs_background": "light"
     },
     "output_type": "display_data"
    }
   ],
   "source": [
    "normal = np.random.normal(p_*n, np.sqrt(n*p_*(1-p_)), (1000, ))\n",
    "density = stats.gaussian_kde(normal)\n",
    "n_, x, _ = plt.hist(normal, bins=np.linspace(0, 20, 50), \n",
    "                   histtype=u'step', density=True) \n",
    "plt.close()\n",
    "\n",
    "plt.hist(np.sum(Y_, axis=1), density=True)\n",
    "plt.plot(x, density(x));"
   ]
  },
  {
   "cell_type": "markdown",
   "id": "yellow-baseline",
   "metadata": {},
   "source": [
    "In fact our distribution is skewed to the right.\n",
    "\n",
    "Why are these conditions important? These are relevant when we need to answer questions about the probability of sampling proportions. For example, returning to our example and considering the initial information of 10% probability of receiving Rock CDs. Consider that you find on your first trial that 12% of the CDs were Rock CDs. Assuming that the true proportion is the one informed by your supplier, what would be the probability that more than 12% of the sample you searched consists of Rock CDs?\n",
    "\n",
    "We already know that the sampling distribution is approximately normal. We just need to build our normal distribution and compute $P(\\hat p>0.12)$."
   ]
  },
  {
   "cell_type": "code",
   "execution_count": 97,
   "id": "dangerous-advisory",
   "metadata": {},
   "outputs": [
    {
     "name": "stdout",
     "output_type": "stream",
     "text": [
      "Empirically calculated expected value: 0.09973800000000001\n",
      "Theoretical expected value: 0.1\n"
     ]
    }
   ],
   "source": [
    "print('Empirically calculated expected value: {}'.format(np.mean(np.mean(Y, axis=1))))\n",
    "print('Theoretical expected value: {}'.format(p))"
   ]
  },
  {
   "cell_type": "code",
   "execution_count": 98,
   "id": "supposed-institution",
   "metadata": {},
   "outputs": [
    {
     "name": "stdout",
     "output_type": "stream",
     "text": [
      "Empirically calculated standard deviation: 0.029996189024607777\n",
      "Theoretical standard deviation: 0.030000000000000002\n"
     ]
    }
   ],
   "source": [
    "print('Empirically calculated standard deviation: {}'.format(np.std(np.mean(Y, axis=1))))\n",
    "print('Theoretical standard deviation: {}'.format(np.sqrt(p*(1-p)/n)))"
   ]
  },
  {
   "cell_type": "code",
   "execution_count": 99,
   "id": "preceding-thirty",
   "metadata": {},
   "outputs": [
    {
     "name": "stdout",
     "output_type": "stream",
     "text": [
      "P(p>0.12)=0.252492537546923\n"
     ]
    }
   ],
   "source": [
    "n = 100\n",
    "p = 0.10\n",
    "p_ = 0.12\n",
    "print(f'P(p>0.12)={1-norm.cdf(p_, p, np.sqrt(p*(1-p)/n))}')"
   ]
  },
  {
   "cell_type": "markdown",
   "id": "swiss-youth",
   "metadata": {},
   "source": [
    "# Inferring Population mean"
   ]
  },
  {
   "cell_type": "markdown",
   "id": "fourth-georgia",
   "metadata": {},
   "source": [
    "In the first section, we have calculated the number o Mortys that we found in samples of our population of universes using two different approaches. The first by deriving the theoretical properties of a sampling distribution of sampling proportions. The second one by estimating the parameters using the statistics of the sampling distribution. In this section we will be understanding better the second approach.\n",
    "\n",
    "Let's start by defining the population mean $\\mu$:\n",
    "\n",
    "$$\\mu = \\frac{\\sum^N_{i=1}y_i}{N},$$\n",
    "\n",
    "where $N$ represents the population size, or the 20,000 universes. The sample mean $\\bar y$ can be defined as,\n",
    "\n",
    "$$\\bar y = \\frac{\\sum^n_{i=1}y_i}{n},$$\n",
    "\n",
    "where $n$ represents the sample size, or one the simple random samples of size 10 that we have drawn from the overall population."
   ]
  },
  {
   "cell_type": "code",
   "execution_count": 100,
   "id": "eastern-kenya",
   "metadata": {},
   "outputs": [],
   "source": [
    "p = 0.6\n",
    "n = 10\n",
    "X = bernoulli(p)\n",
    "Y = [X.rvs(n) for i in range(10000)]"
   ]
  },
  {
   "cell_type": "code",
   "execution_count": 101,
   "id": "thrown-antibody",
   "metadata": {},
   "outputs": [
    {
     "data": {
      "text/plain": [
       "0.9"
      ]
     },
     "execution_count": 101,
     "metadata": {},
     "output_type": "execute_result"
    }
   ],
   "source": [
    "# One random sample\n",
    "\n",
    "y_bar = np.mean(Y[0])\n",
    "y_bar"
   ]
  },
  {
   "cell_type": "markdown",
   "id": "chronic-catering",
   "metadata": {},
   "source": [
    "Notice that $\\bar y$ is a statistic that we use to infer the population parameter. Nevertheless, these could be different as we are randomly taking samples from the population."
   ]
  },
  {
   "cell_type": "markdown",
   "id": "recognized-wings",
   "metadata": {},
   "source": [
    "# Central Limit Theorem"
   ]
  },
  {
   "cell_type": "markdown",
   "id": "expired-species",
   "metadata": {},
   "source": [
    "We want to get the intuition on the Central Limit Theorem (CLT) and then we will get to its interest and applications. Let's define a distribution that is clearly non-normal."
   ]
  },
  {
   "cell_type": "code",
   "execution_count": 102,
   "id": "comic-ratio",
   "metadata": {},
   "outputs": [],
   "source": [
    "elements = np.arange(6)\n",
    "probabilities = [0.3, 0., 0.05, 0.05, 0.2, 0.4]\n",
    "X = np.random.choice(elements, 100, p=probabilities)"
   ]
  },
  {
   "cell_type": "code",
   "execution_count": 103,
   "id": "informative-chemistry",
   "metadata": {},
   "outputs": [
    {
     "data": {
      "image/png": "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\n",
      "text/plain": [
       "<Figure size 432x288 with 1 Axes>"
      ]
     },
     "metadata": {
      "needs_background": "light"
     },
     "output_type": "display_data"
    }
   ],
   "source": [
    "sns.histplot(X, stat='probability');"
   ]
  },
  {
   "cell_type": "markdown",
   "id": "marine-offset",
   "metadata": {},
   "source": [
    "Now, we can draw samples from it. We are going to draw samples of size 4 and calculate its mean."
   ]
  },
  {
   "cell_type": "code",
   "execution_count": 104,
   "id": "following-thursday",
   "metadata": {},
   "outputs": [
    {
     "name": "stdout",
     "output_type": "stream",
     "text": [
      "[0 5 4 0]\n",
      "2.25\n"
     ]
    }
   ],
   "source": [
    "s_1 = np.random.choice(elements, 4, p=probabilities)\n",
    "print(s_1)\n",
    "x_bar_1 = np.mean(s_1)\n",
    "print(x_bar_1)"
   ]
  },
  {
   "cell_type": "markdown",
   "id": "reflected-secretary",
   "metadata": {},
   "source": [
    "Let's do the same procedure 10,000 times."
   ]
  },
  {
   "cell_type": "code",
   "execution_count": 105,
   "id": "stunning-gambling",
   "metadata": {},
   "outputs": [],
   "source": [
    "s = []\n",
    "n=4\n",
    "for i in range(10000):\n",
    "    s.append(np.random.choice(elements, n, p=probabilities))\n",
    "s = np.mean(np.asarray(s), axis=1)"
   ]
  },
  {
   "cell_type": "code",
   "execution_count": 106,
   "id": "rubber-strain",
   "metadata": {},
   "outputs": [
    {
     "name": "stdout",
     "output_type": "stream",
     "text": [
      "Kurtosis: -0.36\n",
      "Skew: -0.27\n",
      "---\n",
      "μ=3.06\n",
      "σ=1.06\n"
     ]
    },
    {
     "data": {
      "image/png": "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\n",
      "text/plain": [
       "<Figure size 432x288 with 1 Axes>"
      ]
     },
     "metadata": {
      "needs_background": "light"
     },
     "output_type": "display_data"
    }
   ],
   "source": [
    "print('Kurtosis: ' + str(np.round(kurtosis(s),2)))\n",
    "print('Skew: ' + str(np.round(skew(s),2)))\n",
    "print('---')\n",
    "print('μ=' + str(np.round(np.mean(s), 2)))\n",
    "print('σ=' + str(np.round(np.std(s), 2)))\n",
    "sns.histplot(s, stat='probability');"
   ]
  },
  {
   "cell_type": "markdown",
   "id": "advisory-butler",
   "metadata": {},
   "source": [
    "The distribution above does not look like our original distribution anymore. What the CTL tells us is that as you take more samples and calculate their mean, the resulting distribution will approximate a normal distribution. We can measure it by the value of the skeweness and kurtosis, which for a normal distribution should be zero. A positively skewed distribution has a tail to the right, while a negative one has a tail to the left. If the distribution has positive kurtosis it means that it has fatter tails than the normal distribution; conversely, in a negative scenario the tails would be thinner.\n",
    "\n",
    "\n",
    "What the CLT also tells us is that the approximation becomes better as the sample size increases. Let's test it by increasing the sample size from 4 to 20 and then to 100."
   ]
  },
  {
   "cell_type": "code",
   "execution_count": 107,
   "id": "toxic-grammar",
   "metadata": {},
   "outputs": [],
   "source": [
    "s = []\n",
    "n=20\n",
    "for i in range(10000):\n",
    "    s.append(np.random.choice(elements, n, p=probabilities))\n",
    "s = np.mean(np.asarray(s), axis=1)"
   ]
  },
  {
   "cell_type": "code",
   "execution_count": 108,
   "id": "suffering-character",
   "metadata": {},
   "outputs": [
    {
     "name": "stdout",
     "output_type": "stream",
     "text": [
      "Kurtosis: -0.1\n",
      "Skew: -0.09\n",
      "---\n",
      "μ=3.06\n",
      "σ=0.47\n"
     ]
    },
    {
     "data": {
      "image/png": "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\n",
      "text/plain": [
       "<Figure size 432x288 with 1 Axes>"
      ]
     },
     "metadata": {
      "needs_background": "light"
     },
     "output_type": "display_data"
    }
   ],
   "source": [
    "print('Kurtosis: ' + str(np.round(kurtosis(s),2)))\n",
    "print('Skew: ' + str(np.round(skew(s),2)))\n",
    "print('---')\n",
    "print('μ=' + str(np.round(np.mean(s), 2)))\n",
    "print('σ=' + str(np.round(np.std(s), 2)))\n",
    "sns.histplot(s, stat='probability');"
   ]
  },
  {
   "cell_type": "code",
   "execution_count": 111,
   "id": "younger-billy",
   "metadata": {},
   "outputs": [],
   "source": [
    "s = []\n",
    "n=100\n",
    "for i in range(10000):\n",
    "    s.append(np.random.choice(elements, n, p=probabilities))\n",
    "s = np.mean(np.asarray(s), axis=1)"
   ]
  },
  {
   "cell_type": "code",
   "execution_count": 112,
   "id": "executive-flash",
   "metadata": {},
   "outputs": [
    {
     "name": "stdout",
     "output_type": "stream",
     "text": [
      "Kurtosis: -0.08\n",
      "Skew: -0.03\n",
      "---\n",
      "μ=3.05\n",
      "σ=0.22\n"
     ]
    },
    {
     "data": {
      "image/png": "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\n",
      "text/plain": [
       "<Figure size 432x288 with 1 Axes>"
      ]
     },
     "metadata": {
      "needs_background": "light"
     },
     "output_type": "display_data"
    }
   ],
   "source": [
    "print('Kurtosis: ' + str(np.round(kurtosis(s),2)))\n",
    "print('Skew: ' + str(np.round(skew(s),2)))\n",
    "print('---')\n",
    "print('μ=' + str(np.round(np.mean(s), 2)))\n",
    "print('σ=' + str(np.round(np.std(s), 2)))\n",
    "sns.histplot(s, stat='probability');"
   ]
  },
  {
   "cell_type": "markdown",
   "id": "general-plaintiff",
   "metadata": {},
   "source": [
    "Notice how the last plot resembles a normal distribution. Also notice that the value of mean and standard deviation of the sampling distribution that we have been plotting for the different sample sizes. Not surprisingly, the mean is the same as the original distribution. But the value for the standard deviation is indeed strange, as it has been shrinking. In fact, this is an important property to take note: the standard deviation of our sampling distribution of sample means is the square root of the standard deviation of the original population divided by the sample size. We can write it as:\n",
    "\n",
    "$$\\sigma_{\\bar x} = \\sqrt{\\frac{\\sigma^2}{n}}$$"
   ]
  },
  {
   "cell_type": "code",
   "execution_count": 113,
   "id": "considerable-underwear",
   "metadata": {},
   "outputs": [
    {
     "name": "stdout",
     "output_type": "stream",
     "text": [
      "Theoretical value: 0.20789179878003847\n",
      "Empirically computed: 0.2151977077573086\n"
     ]
    }
   ],
   "source": [
    "print(\"Theoretical value: \" + str(np.sqrt(X.var()/n)))\n",
    "print(\"Empirically computed: \" + str(s.std()))"
   ]
  },
  {
   "cell_type": "markdown",
   "id": "cleared-auditor",
   "metadata": {},
   "source": [
    "This process is not specific to the sample mean, we could be, for instance, calculate the sample sum."
   ]
  },
  {
   "cell_type": "code",
   "execution_count": 114,
   "id": "dense-election",
   "metadata": {},
   "outputs": [],
   "source": [
    "s = []\n",
    "for i in range(10000):\n",
    "    s.append(np.random.choice(elements, 100, p=probabilities))\n",
    "s = np.sum(np.asarray(s), axis=1)"
   ]
  },
  {
   "cell_type": "code",
   "execution_count": 115,
   "id": "critical-culture",
   "metadata": {},
   "outputs": [
    {
     "name": "stdout",
     "output_type": "stream",
     "text": [
      "Kurtosis: -0.04\n",
      "Skew: -0.02\n"
     ]
    },
    {
     "data": {
      "image/png": "iVBORw0KGgoAAAANSUhEUgAAAYgAAAD4CAYAAAD2FnFTAAAAOXRFWHRTb2Z0d2FyZQBNYXRwbG90bGliIHZlcnNpb24zLjMuNCwgaHR0cHM6Ly9tYXRwbG90bGliLm9yZy8QVMy6AAAACXBIWXMAAAsTAAALEwEAmpwYAAAX1klEQVR4nO3dfZBd5X3Y8e+PBSRqy10M23Srl0hYIhPGLi+VBDOu3MQTHEGpVaduC0n9QpJRqdHU1E1r4nZiu01bnMaJIQNoqFECjm2ZGdtU48ghJDa1cY25SPFiXuO1QGHN2mC7vNggYsGvf9yz68vdZ3fvvhzde3e/n5k7e89znnP3pzNH97fneZ7zPJGZSJLU7rhuByBJ6k0mCElSkQlCklRkgpAkFZkgJElFx3c7gMV06qmn5vr167sdhiT1jQMHDnwvM4dK+5ZUgli/fj333HNPt8OQpL4REYen22cTkySpyAQhSSoyQUiSikwQkqQiE4QkqcgEIUkqMkFIkopMEJKkoiX1oJzUr44cOUKj0ZhSvmXLFlauXNmFiCQThNQTGo0GV1x3K4NrNk6WPTU2ykfeBdu2betiZFrOTBBSjxhcs5GhTWd1Owxpkn0QkqQiE4QkqcgEIUkqsg9C6lBppJGjjLSUmSCkDrWPNOp0lFEpsbzwwgsArFixAoCRkRFeeskbevUWE4Q0B/MZaVQawjp28A4GVp3C8KbXVdtfZvD0LYsZqrRgJgjpGGhPLE+NjXL84PBk2VNjo90JTJqB97SSpCIThCSpyAQhSSoyQUiSikwQkqQiE4QkqcgEIUkqMkFIkop8UE6apxeP/piRkZEp5c7PpKXCBCHN07PfOcx1jzzP8OGByTJXgdNSYoKQFmDV8GmuAqclyz4ISVKRCUKSVFRrE1NEbAeuBgaAj2bmVW37o9p/IfAc8M7MPFjtexR4FngROJqZm+uMVeoHpbUlwI5x1aO2BBERA8C1wPnAGNCIiH2Z+UBLtQuATdXrXOD66ueEn8/M79UVo9RvSmtL2DGuutR5B7EVGM3MQwARsRfYAbQmiB3AzZmZwF0RMRgRw5k5XmNcUl+bz6JF0nzU2QexGnisZXusKuu0TgJ/FhEHImLndL8kInZGxD0Rcc+TTz65CGFLkqDeBBGFspxDnddn5jk0m6Euj4g3lH5JZt6QmZszc/PQ0ND8o5UkvUydCWIMWNuyvQZ4vNM6mTnx8wngszSbrCRJx0idCaIBbIqIDRFxInAxsK+tzj7g7dF0HvB0Zo5HxCsiYhVARLwCeBNwX42xSpLa1NZJnZlHI2IXcBvNYa57MvP+iLis2r8b2E9ziOsozWGul1aH/xTw2eYoWI4HPpGZf1pXrJKkqWp9DiIz99NMAq1lu1veJ3B54bhDwJl1xiZJmplPUkuSikwQkqQiZ3OV+pzrUqguJgipz7kuhepigpCWANelUB3sg5AkFZkgJElFJghJUpEJQpJUZIKQJBWZICRJRSYISVKRCUKSVGSCkCQVmSAkSUUmCElSkQlCklRkgpAkFZkgJElFTvetZeXIkSM0Go0p5S6uI01lgtCy0mg0uOK6Wxlcs3GyzMV1pDIThJadwTUbXVxH6oAJQsueazpLZSYILXuu6SyVmSAkXNNZKnGYqySpyAQhSSqqNUFExPaIeDgiRiPiysL+iIhrqv33RsQ5bfsHIuIvI+JzdcYpSZqqtj6IiBgArgXOB8aARkTsy8wHWqpdAGyqXucC11c/J7wbeBB4VV1xSsuBDwhqPurspN4KjGbmIYCI2AvsAFoTxA7g5sxM4K6IGIyI4cwcj4g1wD8G/hvwnhrjlJY8HxDUfNSZIFYDj7Vsj/Hyu4Pp6qwGxoGPAP8RWDXTL4mIncBOgHXr1i0oYGkp8wFBzVWdfRBRKMtO6kTERcATmXlgtl+SmTdk5ubM3Dw0NDSfOCVJBXUmiDFgbcv2GuDxDuu8HnhzRDwK7AXeGBF/XF+okqR2dSaIBrApIjZExInAxcC+tjr7gLdXo5nOA57OzPHM/M3MXJOZ66vjvpCZ/6rGWCVJbWrrg8jMoxGxC7gNGAD2ZOb9EXFZtX83sB+4EBgFngMurSseSdLc1DrVRmbup5kEWst2t7xP4PJZPuMO4I4awpMkzcAnqSVJRSYISVKRCUKSVGSCkCQVmSAkSUUmCElSkQlCklTUUYKIiIsiwmQiSctIp1/6FwPfjIjfiYifrTMgSVJv6ChBVPMgnQ18C/jDiPhqROyMiBmn4pYk9a+Op9rIzGci4tPAScAVwFuA/xAR12TmH9QUn6SavHj0x4yMjEwpd5U5TegoQUTEm2lOpPca4GPA1sx8IiL+Fs0lQU0QEuUv3ZGREV56qfe68J79zmGue+R5hg8PTJa5ypxadXoH8Vbg9zPzS62FmflcRPzq4ocl9afSl+7YwS8zePqWLkY1vVXDp7nKnKbVaYIYb08OEfGhzHxvZv5FDXFJfav9S/epsdHuBSMtQKcJ4nzgvW1lFxTKpCWhn5qKpLrMmCAi4t8A7wJeExH3tuxaBXylzsCkbuq3piKpDrPdQXwC+DzwP4ArW8qfzcwf1BaV1ANsKtJyN1uCyMx8NCKmrPoWEa82SaiXHDlyhEajMaXcYZvS/HRyB3ERcABIIFr2JXBaTXFJc9ZoNLjiulsZXLNxsqyfh23aD6JumzFBZOZF1c8NxyYcaWEG12xcMsM27QdRt83WSX3OTPsz8+DihiOplf0g6qbZmpg+PMO+BN64iLFIknrIbE1MP3+sApEk9ZbZmpjemJlfiIhfKu3PzM/UE5Ykqdtma2L6R8AXgH9S2JeACUKSlqjZmpjeX/289NiEI0nqFZ0uOXpKRFwTEQcj4kBEXB0Rp9QdnCSpezp94mYv8CTwz2hO/f0k8Km6gpIkdV+nCeLVmflfM/OR6vXbwOBsB0XE9oh4OCJGI+LKwv6o7kxGI+LeiecuImJlRNwdESMRcX9EfHBO/ypJ0oJ1Ot33FyPiYuCWavutwJ/MdEBEDADX0pwqfAxoRMS+zHygpdoFwKbqdS5wffXzBeCNmfnDiDgBuDMiPp+Zd3UYr5a40rxLTkMhLa7Zhrk+y0/mYHoP8MfVruOAHwLvn+HwrcBoZh6qPmsvsANoTRA7gJszM4G7ImIwIoYzc7z6fIATqlfO5R+mpa0075LTUEiLa7ZRTKsW8Nmrgcdatsdo3h3MVmc1MF7dgRwANgLXZubXSr8kInYCOwHWrVu3gHDVb9rnXXIaCmlxdXw/HhEnR8TWiHjDxGu2Qwpl7XcB09bJzBcz8yxgDbA1Il5b+iWZeUNmbs7MzUNDQ7OEJEnqVEd9EBHx68C7aX5Zfx04D/gqM8/FNAasbdleAzw+1zqZ+VRE3AFsB+7rJF5J0sJ1egfxbmALcLian+lsmkNdZ9IANkXEhog4EbgY2NdWZx/w9mo003nA05k5HhFDETEIEBEnAb8APNRhrJKkRdDpKKYjmXkkIoiIFZn5UET8zEwHZObRiNgF3AYMAHsy8/6IuKzavxvYD1wIjALPARNPbA8DN1X9EMcBt2Tm5+b8r5MkzVunCWKs+ov+VuD2iPh/TG0umiIz99NMAq1lu1veJzBlOdPMvJfmXYokqUs6ShCZ+Zbq7Qci4ovA3wb+tLaoJEld1+kdxMTqcv+Q5iijr2Tm39QWlSSp6zqdrO+3gJuAU4BTgT+MiP9cZ2CSpO7q9A7iEuDszDwCEBFXAQeB364rMElSd3WaIB4FVgJHqu0VwLfqCEjSwr149MeMjIxMbjtPleZjtrmY/oBmn8MLwP0RcXu1fT5wZ/3hSZqPZ79zmOseeZ7hwwOA81Rpfma7g7in+nkA+GxL+R21RCNp0awaPm1yrqqFzFNVmjl3y5YtrFy5ciHhqQ/MNlnfTRPvq6ehT682H87MH9cZmKTe0D5z7lNjo3zkXbBt27YuR6a6dToX08/RHMX0KM0J9tZGxDsy80u1RSapZ7TPnKvlodNO6g8Db8rMhwEi4nTgk8A/qCswSVJ3dTqs4YSJ5ACQmX9FcxEfSdIS1ekdxIGIuBH4WLX9KzQ7riVJS1SnCeIympPq/VuafRBfAq6rKyhpsfg8gDR/syaIiDgOOJCZrwV+r/6QpMXj8wDS/M2aIDLzpYgYiYh1mfnXxyIoaTEt1vMA0nLTaRPTMM0nqe8GfjRRmJlvriUqSVLXdZogPlhrFJKknjPbXEwraXZQbwS+AdyYmUePRWCSpO6abTjHTcBmmsnhApoPzEmSloHZmpjOyMzXAVTPQdxdf0iSpF4w2x3E5IR8Ni1J0vIy2x3EmRHxTPU+gJOq7QAyM19Va3SSpK6ZbbrvgWMViCSpt3Q6zFWSgKnTl0xwEaGlxwQhaU7apy8BFxFaqkwQkuasdfoSLV0mCPUc10CWekOtCSIitgNXAwPARzPzqrb9Ue2/EHgOeGdmHoyItcDNwN8FXgJuyMyr64xVvcM1kKXeUFuCiIgB4FrgfGAMaETEvsx8oKXaBcCm6nUucH318yjw76tksYrmgkW3tx2rJcw1kKXuq3PllK3AaGYeysy/AfYCO9rq7ABuzqa7gMGIGM7M8cw8CJCZzwIPAqtrjFWS1KbOBLEaeKxle4ypX/Kz1omI9cDZwNdKvyQidkbEPRFxz5NPPrnQmCVJlToTRBTKci51IuKVwKeBKzLzmUJdMvOGzNycmZuHhobmHawk6eXq7KQeA9a2bK8BHu+0TkScQDM5fDwzP1NjnJIqpYfgXMd7+aozQTSATRGxAfg2cDHwy2119gG7ImIvzc7ppzNzvBrddCPwYGa6DrZ0jJQegnMd7+WrtgSRmUcjYhdwG81hrnsy8/6IuKzavxvYT3OI6yjNYa6XVoe/Hngb8I2I+HpV9r7M3F9XvJKa2h+Ccx3v5avW5yCqL/T9bWW7W94ncHnhuDsp909Iko4Rn6RWV5WemrbNW+oNJgh1VftT02Cbt9QrTBDquvanpm3zlnqD9/GSpCIThCSpyAQhSSoyQUiSiuykVs9z+gepO0wQ6nlO/yB1hwlCfcHpH6Rjz3t0SVKRCUKSVGSCkCQV2QchacFKI80AtmzZwsqVK7sQkRaDCULSgpVGmj01NspH3gXbtm3rYmRaCBOEpEXRPtJM/c8+CElSkQlCklRkgpAkFdkHIakWjmzqfyYISbVwZFP/M0FIqo0jm/qbfRCSpCIThCSpyAQhSSqyD0K1OHLkCI1GY0q5I1ik/mGCUC0ajQZXXHcrg2s2TpY5gkXqL7U2MUXE9oh4OCJGI+LKwv6IiGuq/fdGxDkt+/ZExBMRcV+dMao+g2s2MrTprMlXa7KQ1PtqSxARMQBcC1wAnAFcEhFntFW7ANhUvXYC17fs+yNge13xSZJmVmcT01ZgNDMPAUTEXmAH8EBLnR3AzZmZwF0RMRgRw5k5nplfioj1NcanRdTe5zAyMsJLLzkGQupndSaI1cBjLdtjwLkd1FkNjHf6SyJiJ827D9atWzevQLVw7X0OYwe/zODpW7oclaSFqDNBRKEs51FnRpl5A3ADwObNm+d0rBbXRJ8DNDukpXal+Zkc2da76kwQY8Dalu01wOPzqKMlovTlYFPU8tI+P5Mj23pbnQmiAWyKiA3At4GLgV9uq7MP2FX1T5wLPJ2ZHTcvqb+UJm+zKWr5cX6m/lFbgsjMoxGxC7gNGAD2ZOb9EXFZtX83sB+4EBgFngMunTg+Ij4J/BxwakSMAe/PzBvrilfHRvuXg01RUu+q9UG5zNxPMwm0lu1ueZ/A5dMce0mdsUmSZmbjrySpyKk2NGeleZbsbJaWHhOE5qw0z5KdzdLSY4LQvLQ+8wB2NktLkQlCUk9xqvjeYYKQ1DXTPTy5585DnLx202SZD9R1hwlCUtfM9PBkaxNmKZGAdxV1M0FI6qpOHp4sJRLvKupngpDUF5yi49hz4LokqcgEIUkqMkFIkopMEJKkIhOEJKnIBCFJKjJBSJKKfA5Ck5wDR/2k9HS11+riMkEsY+0JwTlw1E/an672Wl18JohlrH1dh9IcOFIvm+3pau+KF8YEscy1rutQmgNnutk2XT1O/aC0uJV3Gp0zQWhGM822KfWD9sWt1DkThGbVyWybUrd5t7v4TBCSlgTvdhefCULSkuHd7uIyQSxBjtyQpufqdJ0zQSxBpZEbPzj8EL/2hhHOPPPMyTLbZ7UcuTpd50wQfa50tzAyMsKr/t5rptxqX/fnD9g+KzG1KcqnsstMEH2udLcw3Re/7bNSmU9ll9WaICJiO3A1MAB8NDOvatsf1f4LgeeAd2bmwU6OXWpKdwIvvPACACtWrJi2bLq7BUlz45rXU9WWICJiALgWOB8YAxoRsS8zH2ipdgGwqXqdC1wPnNvhsYtmMTt1O/miL33xl+ZBGjt4BwOrTmF40+umLbOZSFp8pSanTv5gm9D63THfP/46/az2OoupzjuIrcBoZh4CiIi9wA6g9Ut+B3BzZiZwV0QMRsQwsL6DYxdNo9Hgne/7XV5xyvBk2Y++P86/+5fnv6xTtxMjIyP8/qduf9lnfe/QfQyctIqTh3+6uD1RNnja359X/M+OH+LJV75icvuHT4wx8Pzzcy6b73F+Vm99Vj/F2qufNX7vV/jQ/32Gk//8vsk60/2/bS9r/+7o5DthIZ/1o++P80f//TdqaQ6L5nfz4ouItwLbM/PXq+23Aedm5q6WOp8DrsrMO6vtvwDeSzNBzHhsy2fsBHZWmz8DPFzLP2h6pwLfO8a/cyGMt379FrPx1qvX4/3pzBwq7ajzDiIKZe3ZaLo6nRzbLMy8AbhhbqEtnoi4JzM3d+v3z5Xx1q/fYjbeevVbvK3qTBBjwNqW7TXA4x3WObGDYyVJNarzKakGsCkiNkTEicDFwL62OvuAt0fTecDTmTne4bGSpBrVdgeRmUcjYhdwG82hqnsy8/6IuKzavxvYT3OI6yjNYa6XznRsXbEuUNeat+bJeOvXbzEbb736Ld5JtXVSS5L6mxPxSJKKTBCSpCITxAwiYm1EfDEiHoyI+yPi3VX5/4yIhyLi3oj4bEQMVuXrI+L5iPh69drdI/F+ICK+3RLXhS3H/GZEjEbEwxHxi8cy3lli/lRLvI9GxNer8m6f45URcXdEjFTxfrAqf3VE3B4R36x+ntxyTNfO8Qzx9uo1PF28vXwNTxdzT17Dc5KZvqZ5AcPAOdX7VcBfAWcAbwKOr8o/BHyoer8euK8H4/0A8BuF+mcAI8AKYAPwLWCgF2Juq/Nh4Ld65BwH8Mrq/QnA14DzgN8BrqzKr2y5Jrp6jmeIt1ev4eni7eVruBhzW52euYbn8vIOYgaZOZ7V5IGZ+SzwILA6M/8sM49W1e6i+ZxG100X7wyH7AD2ZuYLmfkIzdFkW+uP9CdmizkiAvgXwCePZVzTyaYfVpsnVK+keS5vqspvAv5p9b6r53i6eHv4Gp7u/E6nF67hGWPutWt4LkwQHYqI9cDZNP86aPWrwOdbtjdExF9GxP+JiK7NFVyId1fVnLCnpfljNfBYy2FjzJxQajXNOd4GfDczv9lS1tVzHBEDVXPBE8Dtmfk14Key+QwP1c+/U1Xv+jmeJt5WPXUNzxBvz17Ds5zjnruGO2WC6EBEvBL4NHBFZj7TUv6fgKPAx6uicWBdZp4NvAf4RES8qgfivR54DXBWFeOHJ6oWDu/KuOfpzjFwCS//y6vr5zgzX8zMs2j+1b01Il47Q/Wun+OZ4u3Fa3iaeHv6Gp7lmui5a7hTJohZRMQJNL+4Pp6Zn2kpfwdwEfArWTUsVre536/eH6DZHnp6t+PNzO9WF/BLwP/iJ7fgnUyHUrsZzvHxwC8Bn5oo64Vz3BLLU8AdwHbgu9GciZjq5xNVtZ44xzAl3p69hkvx9vo1PKFwjnv6Gp6NCWIGVdvhjcCDmfl7LeXbac46++bMfK6lfCiaa1kQEafRXOfiUA/EO9xS7S3AxBzG+4CLI2JFRGyo4r37WMVbxVaMufILwEOZOdZSv9vneKhlxM9JEzHSPJfvqKq9A/jf1fuunuPp4u3ha3i6eHv5Gp7umoAevIbnwiVHZ/Z64G3ANyaGqAHvA66hOWri9ub3G3dl5mXAG4D/EhFHgReByzLzBz0Q7yURcRbNW+9HgX8NkM2pT26huc7GUeDyzHzxGMY7bcyZuZ/mHFztHXvdPsfDwE3Vf/DjgFsy83MR8VXgloj4NeCvgX8OPXGOp4t3lN68hqeL92M9fA0XY6729eI13DGn2pAkFdnEJEkqMkFIkopMEJKkIhOEJKnIBCFJKjJBSJKKTBCSpKL/D4ogT0SlvisiAAAAAElFTkSuQmCC\n",
      "text/plain": [
       "<Figure size 432x288 with 1 Axes>"
      ]
     },
     "metadata": {
      "needs_background": "light"
     },
     "output_type": "display_data"
    }
   ],
   "source": [
    "print('Kurtosis: ' + str(np.round(kurtosis(s),2)))\n",
    "print('Skew: ' + str(np.round(skew(s),2)))\n",
    "sns.histplot(s, stat='probability');"
   ]
  },
  {
   "cell_type": "markdown",
   "id": "otherwise-checkout",
   "metadata": {},
   "source": [
    "I hope that now you see why the normal distribution is so often used to model different processes. Even if you do not know the distribution of a process that you want to describe statistically, if you add or take the mean of your measurements (assuming that they all have the same distribution), suddenly you get a normal distribution."
   ]
  },
  {
   "cell_type": "markdown",
   "id": "floppy-spending",
   "metadata": {},
   "source": [
    "# Exercises\n",
    "\n",
    "You will get the solutions on next week's article."
   ]
  },
  {
   "cell_type": "markdown",
   "id": "advisory-shopper",
   "metadata": {},
   "source": [
    "1. Rick takes an SRS of 75 citizens in a distant planet to see what proportion of citizens sampled are satisfied with their standard of living. Suppose that 60% of the 1,000,000,000 citizens that live in the planet are satisfied with their standard of living.\n",
    "What are the mean and standard deviation of the sampling distribution of the proportion of citizens who are satisfied with their standard of living?"
   ]
  },
  {
   "cell_type": "markdown",
   "id": "surface-lender",
   "metadata": {},
   "source": [
    "2. A certain planet with over 1,000,000 households has a mean household income of \\\\$1,000,000 with a standard deviation of \\\\$150,000. Rick plans to take random samples of 700 households and calculate the sample mean income. Calculate the mean and standard deviation of the sampling distribution of $\\bar x$."
   ]
  },
  {
   "cell_type": "markdown",
   "id": "included-transcription",
   "metadata": {},
   "source": [
    "3. Rick is performing quality control tests on different portal guns since there is some variability in the manufactoring process. A certain gun has a target thickness of 5mm. The distribution of thicknesses is skewed to the right with a mean of 5mm and a standard deviation of 1mm. A quality control check on this part involves taking a random sample of 35 points and calculating the mean thickness of those points. What is the shape of the sampling distribution of the sample mean thickness? What is the probability that the mean thickness in the sample is within 0.2mm of the target value?"
   ]
  },
  {
   "cell_type": "markdown",
   "id": "increasing-wednesday",
   "metadata": {},
   "source": [
    "### Answers from last week"
   ]
  },
  {
   "cell_type": "code",
   "execution_count": 33,
   "id": "mexican-dispute",
   "metadata": {},
   "outputs": [],
   "source": [
    "def geomcdf_1(p, x):\n",
    "    # implementing first approach\n",
    "    prob = 0\n",
    "    for i in range(x-1):\n",
    "        prob+=p*(1-p)**i\n",
    "    return prob"
   ]
  },
  {
   "cell_type": "code",
   "execution_count": 34,
   "id": "irish-scientist",
   "metadata": {},
   "outputs": [],
   "source": [
    "def geomcdf_2(p, x):\n",
    "    # implementing second approach\n",
    "    prob = 1-(1-p)**(x-1)\n",
    "    return prob"
   ]
  },
  {
   "cell_type": "markdown",
   "id": "refined-finger",
   "metadata": {},
   "source": [
    "1. You have a standard deck of cards and you are picking cards until you get a Queen (you replace the cards if they are not Queens). What is the probability that you need to pick 5 cards? And less than 10? And more than 12?"
   ]
  },
  {
   "cell_type": "code",
   "execution_count": 35,
   "id": "criminal-jimmy",
   "metadata": {},
   "outputs": [
    {
     "data": {
      "text/plain": [
       "0.055848076855744666"
      ]
     },
     "execution_count": 35,
     "metadata": {},
     "output_type": "execute_result"
    }
   ],
   "source": [
    "# Exactly 5\n",
    "\n",
    "p = 4/52\n",
    "\n",
    "p**1*(1-p)**4"
   ]
  },
  {
   "cell_type": "code",
   "execution_count": 36,
   "id": "antique-ranking",
   "metadata": {},
   "outputs": [
    {
     "data": {
      "text/plain": [
       "0.5134348005963145"
      ]
     },
     "execution_count": 36,
     "metadata": {},
     "output_type": "execute_result"
    }
   ],
   "source": [
    "# Less than 10\n",
    "\n",
    "geomcdf_2(p, 10)"
   ]
  },
  {
   "cell_type": "code",
   "execution_count": 37,
   "id": "selected-roller",
   "metadata": {},
   "outputs": [
    {
     "data": {
      "text/plain": [
       "0.3826967066770909"
      ]
     },
     "execution_count": 37,
     "metadata": {},
     "output_type": "execute_result"
    }
   ],
   "source": [
    "# More than 12\n",
    "\n",
    "1 - geomcdf_2(p, 13)"
   ]
  },
  {
   "cell_type": "markdown",
   "id": "animal-porter",
   "metadata": {},
   "source": [
    "2. Jorge conducts inspections on freezers. He finds that 94% of the freezers successful pass the inspection. Let C be the number of freezers Jorge inspects until a freezer fails an inspection. Assume that the results of each inspection are independent."
   ]
  },
  {
   "cell_type": "code",
   "execution_count": 38,
   "id": "joined-lotus",
   "metadata": {},
   "outputs": [
    {
     "data": {
      "text/plain": [
       "0.04684493760000003"
      ]
     },
     "execution_count": 38,
     "metadata": {},
     "output_type": "execute_result"
    }
   ],
   "source": [
    "# Our probability of success is actually the probability of failing the inspection\n",
    "\n",
    "p=1-0.94\n",
    "p**1*(1-p)**4"
   ]
  },
  {
   "cell_type": "markdown",
   "id": "concerned-specialist",
   "metadata": {},
   "source": [
    "3. Pedro makes 25% of the free kicks shots he attempts. For a warm up, Pedro likes to shoot free kicks shots until he makes one. Let M be the number of shots it takes Pedro to make his first free kick. Assume that the results of each shot are independent. Find the probability that it takes Pedro fewer than 4 attempts to make his first shot."
   ]
  },
  {
   "cell_type": "code",
   "execution_count": 39,
   "id": "capable-doctrine",
   "metadata": {},
   "outputs": [
    {
     "data": {
      "text/plain": [
       "0.578125"
      ]
     },
     "execution_count": 39,
     "metadata": {},
     "output_type": "execute_result"
    }
   ],
   "source": [
    "p=0.25\n",
    "\n",
    "# We can use our two functions\n",
    "\n",
    "geomcdf_2(p, 4)"
   ]
  },
  {
   "cell_type": "code",
   "execution_count": 40,
   "id": "continental-maintenance",
   "metadata": {},
   "outputs": [
    {
     "data": {
      "text/plain": [
       "0.578125"
      ]
     },
     "execution_count": 40,
     "metadata": {},
     "output_type": "execute_result"
    }
   ],
   "source": [
    "geomcdf_1(p, 4)"
   ]
  },
  {
   "cell_type": "code",
   "execution_count": 41,
   "id": "ruled-finish",
   "metadata": {},
   "outputs": [
    {
     "data": {
      "text/plain": [
       "0.578125"
      ]
     },
     "execution_count": 41,
     "metadata": {},
     "output_type": "execute_result"
    }
   ],
   "source": [
    "# which are computing\n",
    "\n",
    "1-0.75**3"
   ]
  },
  {
   "cell_type": "code",
   "execution_count": 42,
   "id": "popular-moldova",
   "metadata": {},
   "outputs": [
    {
     "data": {
      "text/plain": [
       "0.578125"
      ]
     },
     "execution_count": 42,
     "metadata": {},
     "output_type": "execute_result"
    }
   ],
   "source": [
    "# and\n",
    "\n",
    "0.25+0.25*0.75+0.25*0.75**2"
   ]
  },
  {
   "cell_type": "markdown",
   "id": "encouraging-round",
   "metadata": {},
   "source": [
    "4. Build a function that computes the Poisson PMF without using any functions from external packages besides `np.exp` from `numpy`. Choose some parameters and compare your result with the `pmf` function from `scipy`."
   ]
  },
  {
   "cell_type": "code",
   "execution_count": 43,
   "id": "arabic-salmon",
   "metadata": {},
   "outputs": [],
   "source": [
    "def fact(k):\n",
    "    k_ = 1\n",
    "    for i in range(1, k+1):\n",
    "        k_ *= i\n",
    "    return k_"
   ]
  },
  {
   "cell_type": "code",
   "execution_count": 44,
   "id": "accepting-dynamics",
   "metadata": {},
   "outputs": [],
   "source": [
    "def poisson_pmf(k, λ):\n",
    "    return np.exp(-λ)*λ**k/fact(k)"
   ]
  },
  {
   "cell_type": "code",
   "execution_count": 45,
   "id": "appointed-thumbnail",
   "metadata": {},
   "outputs": [
    {
     "data": {
      "text/plain": [
       "0.2706705664732254"
      ]
     },
     "execution_count": 45,
     "metadata": {},
     "output_type": "execute_result"
    }
   ],
   "source": [
    "poisson_pmf(1, 2)"
   ]
  },
  {
   "cell_type": "code",
   "execution_count": 46,
   "id": "adapted-paper",
   "metadata": {},
   "outputs": [
    {
     "data": {
      "text/plain": [
       "0.2706705664732254"
      ]
     },
     "execution_count": 46,
     "metadata": {},
     "output_type": "execute_result"
    }
   ],
   "source": [
    "poisson.pmf(1, 2)"
   ]
  },
  {
   "cell_type": "markdown",
   "id": "polyphonic-eugene",
   "metadata": {},
   "source": [
    "5. Build a function that computes the Poisson CDF without using any external package. Choose some parameters and compare your result with the `cdf` function from `scipy`."
   ]
  },
  {
   "cell_type": "code",
   "execution_count": 47,
   "id": "worth-attack",
   "metadata": {},
   "outputs": [],
   "source": [
    "def poisson_cdf(x, λ):\n",
    "    p = []\n",
    "    for i in range(x+1):\n",
    "        p.append(poisson_pmf(i, λ))\n",
    "    return sum(p)"
   ]
  },
  {
   "cell_type": "code",
   "execution_count": 48,
   "id": "provincial-retro",
   "metadata": {},
   "outputs": [
    {
     "data": {
      "text/plain": [
       "0.6766764161830635"
      ]
     },
     "execution_count": 48,
     "metadata": {},
     "output_type": "execute_result"
    }
   ],
   "source": [
    "poisson_cdf(2, 2)"
   ]
  },
  {
   "cell_type": "code",
   "execution_count": 49,
   "id": "plastic-preservation",
   "metadata": {},
   "outputs": [
    {
     "data": {
      "text/plain": [
       "0.6766764161830634"
      ]
     },
     "execution_count": 49,
     "metadata": {},
     "output_type": "execute_result"
    }
   ],
   "source": [
    "poisson.cdf(2, 2)"
   ]
  }
 ],
 "metadata": {
  "kernelspec": {
   "display_name": "Python 3",
   "language": "python",
   "name": "python3"
  },
  "language_info": {
   "codemirror_mode": {
    "name": "ipython",
    "version": 3
   },
   "file_extension": ".py",
   "mimetype": "text/x-python",
   "name": "python",
   "nbconvert_exporter": "python",
   "pygments_lexer": "ipython3",
   "version": "3.8.5"
  }
 },
 "nbformat": 4,
 "nbformat_minor": 5
}
