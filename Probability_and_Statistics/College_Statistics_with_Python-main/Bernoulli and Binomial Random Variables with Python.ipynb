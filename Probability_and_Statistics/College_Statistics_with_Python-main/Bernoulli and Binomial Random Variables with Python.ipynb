{
 "cells": [
  {
   "cell_type": "markdown",
   "id": "obvious-toyota",
   "metadata": {},
   "source": [
    "# Random Variables"
   ]
  },
  {
   "cell_type": "markdown",
   "id": "experimental-aviation",
   "metadata": {},
   "source": [
    "We are going to start by defining what exactly is a Random Variable. The first important aspect to consider is that it is not a traditional variable. A random variable can take many different values with different probabilities, so we cannot solve for them in the traditional way, for instance in the equation $y = x + 5$. It makes more sense to talk about the probability of a Random Variable being less than or greater than some value. In short, a Random Variable maps outcomes of random processes to numbers.\n",
    "\n",
    "The simplest and most traditional example for us to think about it is a coin flip.\n",
    "\n",
    "$$ X=   \\left\\{\n",
    "\\begin{array}{ll}\n",
    "      1 \\quad \\text{if \"heads\"} \\\\\n",
    "      0 \\quad \\text{if \"tails\"} \\\\\n",
    "\\end{array} \n",
    "\\right.  $$\n",
    "\n",
    "The possible outcomes are \"heads\" and \"tails\", which we have quantified to 1 and 0, respectively. "
   ]
  },
  {
   "cell_type": "markdown",
   "id": "coated-length",
   "metadata": {},
   "source": [
    "# Bernoulli Random Variable"
   ]
  },
  {
   "cell_type": "markdown",
   "id": "decimal-indiana",
   "metadata": {},
   "source": [
    "Random Variables can be either discrete or continuous. We will start by focusing on the discrete Random Variables. By definition, discrete variables can only take distinct values, such as in the example above of the flip of a coin. For these variables you can count the number of different values it can take on.\n",
    "\n",
    "Our Random Variable $X$ defined above is actually a Bernoulli Random Variable. It can take the value 1 with probability $p$, in the case of a fair coin $p$ is equal to 0.5 or 50% and the value 0 with probability $q = 1-p$. Its Probability Mass Function can then be defined as:\n",
    "\n",
    "$$P(X=k) = \\left\\{\n",
    "\\begin{array}{ll}\n",
    "      p \\quad &\\text{if k=1} \\\\\n",
    "      q=1-p \\quad &\\text{if k=0} \\\\\n",
    "\\end{array} \\right.$$\n"
   ]
  },
  {
   "cell_type": "code",
   "execution_count": 98,
   "id": "thrown-unemployment",
   "metadata": {},
   "outputs": [],
   "source": [
    "import matplotlib.pyplot as plt\n",
    "import numpy as np\n",
    "from scipy.stats import bernoulli, binom\n",
    "import seaborn as sns\n",
    "from IPython.display import Image"
   ]
  },
  {
   "cell_type": "markdown",
   "id": "similar-smell",
   "metadata": {},
   "source": [
    "Let's start by defining a Bernoulli Random Variable $X$ with success probability of $p=0.3$."
   ]
  },
  {
   "cell_type": "code",
   "execution_count": 99,
   "id": "furnished-inspiration",
   "metadata": {},
   "outputs": [],
   "source": [
    "p = 0.3\n",
    "X = bernoulli(p)"
   ]
  },
  {
   "cell_type": "markdown",
   "id": "controversial-finding",
   "metadata": {},
   "source": [
    "We can print the values for its Probability Mass Function on $0$ and $1$."
   ]
  },
  {
   "cell_type": "code",
   "execution_count": 100,
   "id": "lasting-harvey",
   "metadata": {},
   "outputs": [
    {
     "name": "stdout",
     "output_type": "stream",
     "text": [
      "0.3\n",
      "0.7\n"
     ]
    }
   ],
   "source": [
    "print(np.round(X.pmf(1),2))\n",
    "print(np.round(X.pmf(0), 2))"
   ]
  },
  {
   "cell_type": "markdown",
   "id": "beginning-minority",
   "metadata": {},
   "source": [
    "To help up visualize, let's arrive at the same values empirically, by drawing $10,000$ samples from our variable. "
   ]
  },
  {
   "cell_type": "code",
   "execution_count": 101,
   "id": "stock-longer",
   "metadata": {},
   "outputs": [],
   "source": [
    "X_samples = X.rvs(100000)"
   ]
  },
  {
   "cell_type": "code",
   "execution_count": 102,
   "id": "textile-interface",
   "metadata": {},
   "outputs": [
    {
     "data": {
      "image/png": "[encoded data removed]",
      "text/plain": [
       "<Figure size 432x288 with 1 Axes>"
      ]
     },
     "metadata": {
      "needs_background": "light"
     },
     "output_type": "display_data"
    }
   ],
   "source": [
    "sns.histplot(X_samples, stat=\"density\", discrete=True, shrink=0.2);"
   ]
  },
  {
   "cell_type": "markdown",
   "id": "binary-earthquake",
   "metadata": {},
   "source": [
    "It looks as expected, we have a $0.3$ probability of success and a $0.7$ probability of failure."
   ]
  },
  {
   "cell_type": "markdown",
   "id": "cathedral-thickness",
   "metadata": {},
   "source": [
    "Let's define the mean and variance of the distribution.\n",
    "\n",
    "$$\\begin{align}\n",
    "\\mu &= (1-p)\\cdot0+p\\cdot1=p \\\\\n",
    "\\sigma^2 &= (1-p) \\cdot (0-p)^2 + p \\cdot (1-p)^2 = \\\\\n",
    "&= (1-p) \\cdot p^2 + p(1-2p+p^2) = \\\\\n",
    "&= p^2 - p^3 + p -2p^2+p^3 = \\\\\n",
    "&= p - p^2 = \\\\\n",
    "&= p(1-p)\n",
    "\\end{align}$$"
   ]
  },
  {
   "cell_type": "markdown",
   "id": "exclusive-saying",
   "metadata": {},
   "source": [
    "We can compare our empirically calculated mean with the theoretical mean that we just derived. They are indeed very close and they would become closer as the sample size increases."
   ]
  },
  {
   "cell_type": "code",
   "execution_count": 103,
   "id": "accompanied-default",
   "metadata": {},
   "outputs": [
    {
     "name": "stdout",
     "output_type": "stream",
     "text": [
      "Empirically calculated mean: 0.29938\n",
      "Theoretical mean: 0.3\n",
      "Empirically calculated standard deviation: 0.4579864797131025\n",
      "Theoretical standard deviation: 0.458257569495584\n"
     ]
    }
   ],
   "source": [
    "print('Empirically calculated mean: {}'.format(X_samples.mean()))\n",
    "print('Theoretical mean: {}'.format(p))\n",
    "\n",
    "print('Empirically calculated standard deviation: {}'.format(X_samples.std()))\n",
    "print('Theoretical standard deviation: {}'.format((p*(1-p))**(1/2)))"
   ]
  },
  {
   "cell_type": "markdown",
   "id": "devoted-formation",
   "metadata": {},
   "source": [
    "# Binomial Random Variable"
   ]
  },
  {
   "cell_type": "markdown",
   "id": "reverse-brunswick",
   "metadata": {},
   "source": [
    "We can look at a Binomial Random Variable (RV) as a set of Bernoulli experiments or trials. This way our understanding of how the properties of the distribution are derived becomes significantly simpler.\n",
    "\n",
    "Before diving into definitions, we need to start with the main conditions that need to be fulfilled to define our RV as Binomial:\n",
    "* The trials are independent\n",
    "* Each trial can be classified as either success or failure\n",
    "* Fixed number of trials\n",
    "* The probability of success on each trial is constant\n",
    "\n",
    "Let's define the RV $Z$ as the number of success afer $n$ trials where P(success) for each trial is p.\n",
    "\n",
    "Let's also define $Y$, a Bernoulli RV with $P(Y=1)=p$ and $P(Y=0)=1-p$.\n",
    "\n",
    "Y represents each independent trial that composes Z. We already derived both the variance and expected value of Y above.\n",
    "\n",
    "$$\\begin{aligned} \n",
    "\\mathbb{E}(Y)&=p \\\\\n",
    "\\text{Var}(Y)&=p(1-p)\n",
    "\\end{aligned}$$\n",
    "\n",
    "Using the following property $\\mathbb{E}(X+Y)=\\mathbb{E}(X)+\\mathbb{E}(Y)$, we can derive the expected value of our Binomial RV $Z$:\n",
    "\n",
    "$$\\begin{aligned}\n",
    "X &= Y + Y + ... + Y \\\\\n",
    "\\mathbb{E}(Z) &= \\mathbb{E}(Y + Y + ... + Y) \\\\\n",
    "\\mathbb{E}(Z) &= \\mathbb{E}(Y) + \\mathbb{E}(Y) + ... + \\mathbb{E}(Y) \\\\\n",
    "\\mathbb{E}(Z) &= n\\mathbb{E}(Y) \\\\\n",
    "\\mathbb{E}(Z) &= np\n",
    "\\end{aligned}\n",
    "$$\n",
    "\n",
    "Recall that we have $n$ independent trials or $n$ RV $Y$ being summed.\n",
    "\n",
    "When deriving the $\\text{VAR}(Y)$, the process is the same, because $\\text{VAR}(X+Y)=\\text{VAR}(X)+\\text{VAR}(Y)$ is also true. Then we have:\n",
    "\n",
    "$$\\begin{aligned}\n",
    "\\text{VAR}(Z) &= \\text{VAR}(Y + Y + ... + Y) \\\\\n",
    "\\text{VAR}(Z) &= \\text{VAR}(Y) + \\text{VAR}(Y) + ... + \\text{VAR}(Y) \\\\\n",
    "\\text{VAR}(Z) &= n\\text{VAR}(Y) \\\\\n",
    "\\text{VAR}(Z) &= np(1-p) \\\\\n",
    "\\end{aligned}\n",
    "$$"
   ]
  },
  {
   "cell_type": "markdown",
   "id": "raised-antigua",
   "metadata": {},
   "source": [
    "Let's now test our theoretical understanding with an experiment."
   ]
  },
  {
   "cell_type": "code",
   "execution_count": 104,
   "id": "distinguished-nightmare",
   "metadata": {},
   "outputs": [],
   "source": [
    "n=6\n",
    "p = 0.3\n",
    "Y = bernoulli(p)"
   ]
  },
  {
   "cell_type": "markdown",
   "id": "innocent-executive",
   "metadata": {},
   "source": [
    "We defined our $Y$ variable. We can construct our $X$ variable from this $Y$ variable as defined above, these are the Bernoulli independent trials. Let's assume that we have 6 independent trials."
   ]
  },
  {
   "cell_type": "code",
   "execution_count": 105,
   "id": "magnetic-subject",
   "metadata": {},
   "outputs": [
    {
     "data": {
      "text/plain": [
       "[array([0, 1, 1, ..., 1, 0, 0]),\n",
       " array([0, 0, 0, ..., 0, 0, 0]),\n",
       " array([1, 1, 1, ..., 0, 0, 0]),\n",
       " array([0, 0, 1, ..., 0, 0, 1]),\n",
       " array([0, 1, 0, ..., 1, 1, 0]),\n",
       " array([0, 0, 0, ..., 0, 1, 0])]"
      ]
     },
     "execution_count": 105,
     "metadata": {},
     "output_type": "execute_result"
    }
   ],
   "source": [
    "Y_samples = [Y.rvs(1000000) for i in range(6)]\n",
    "Y_samples"
   ]
  },
  {
   "cell_type": "code",
   "execution_count": 106,
   "id": "technological-auckland",
   "metadata": {},
   "outputs": [],
   "source": [
    "Z_samples = sum(Y_samples)"
   ]
  },
  {
   "cell_type": "code",
   "execution_count": 107,
   "id": "stainless-child",
   "metadata": {},
   "outputs": [
    {
     "name": "stdout",
     "output_type": "stream",
     "text": [
      "Empirically calculated expected value: 1.801727\n",
      "Theoretical expected value: 1.7999999999999998\n"
     ]
    }
   ],
   "source": [
    "print('Empirically calculated expected value: {}'.format(Z_samples.mean()))\n",
    "print('Theoretical expected value: {}'.format(n*p))"
   ]
  },
  {
   "cell_type": "code",
   "execution_count": 108,
   "id": "ceramic-costume",
   "metadata": {},
   "outputs": [
    {
     "name": "stdout",
     "output_type": "stream",
     "text": [
      "Empirically calculated variance: 1.2590948174710004\n",
      "Theoretical variance: 1.2599999999999998\n"
     ]
    }
   ],
   "source": [
    "print('Empirically calculated variance: {}'.format(Z_samples.var()))\n",
    "print('Theoretical variance: {}'.format(n*p*(1-p)))"
   ]
  },
  {
   "cell_type": "markdown",
   "id": "resistant-semiconductor",
   "metadata": {},
   "source": [
    "We feel better about our theoretical derivations as our experiment shows that we are indeed correct.\n",
    "\n",
    "We can also plot our Binomial distribution. Remember that it is a discrete distribution."
   ]
  },
  {
   "cell_type": "code",
   "execution_count": 109,
   "id": "sized-possibility",
   "metadata": {},
   "outputs": [
    {
     "data": {
      "image/png": "[encoded data removed]",
      "text/plain": [
       "<Figure size 432x288 with 1 Axes>"
      ]
     },
     "metadata": {
      "needs_background": "light"
     },
     "output_type": "display_data"
    }
   ],
   "source": [
    "sns.histplot(Z_samples, stat=\"density\", discrete=True, shrink=0.3);"
   ]
  },
  {
   "cell_type": "markdown",
   "id": "advised-transformation",
   "metadata": {},
   "source": [
    "# Binomial PMF and CDF"
   ]
  },
  {
   "cell_type": "markdown",
   "id": "designed-bulgarian",
   "metadata": {},
   "source": [
    "The Binomial Probability Mass Function (PMF) can be written in the following way:\n",
    "\n",
    "$$P(Z=k) = {{n}\\choose{k}} p^k (1-p)^{(n-k)}$$\n",
    "\n",
    "It seems a bit daunting at first, let's try to break it down into smaller interpretable pieces.\n",
    "\n",
    "${{n}\\choose{k}}$ is just the binomial coefficient or the number of different ways we can choose $k$ items from $n$ possible ones when the order does not matter, i.e. the set ABC is the same as CBA.\n",
    "\n",
    "$${{n}\\choose{k}} = \\frac{n!}{k!(n-k)!}$$\n",
    "\n",
    "Recall that  $\\frac{n!}{(n-k)!}$ is the number of permutations or the number of different ways we can choose $k$ items from $n$ possible ones when the order matters, i.e. ABC and CBA counts as two different results. $k!$ is just the number of ways to arrange $k$ items. For example, in the case of 3 items and 3 positions we have the following possibilities:\n",
    "\n",
    "$$\\begin{aligned}\n",
    "ABC \\\\\n",
    "ACB \\\\\n",
    "BAC \\\\\n",
    "BCA \\\\\n",
    "CAB \\\\\n",
    "CBA\\end{aligned}$$\n",
    "\n",
    "Recall that $3!=3 \\cdot 2 \\cdot 1= 6$.\n",
    "\n",
    "Let's start building small functions to handle our different components, starting with a function to compute the factorial of an input argument."
   ]
  },
  {
   "cell_type": "code",
   "execution_count": 110,
   "id": "front-cartoon",
   "metadata": {},
   "outputs": [
    {
     "data": {
      "text/plain": [
       "6"
      ]
     },
     "execution_count": 110,
     "metadata": {},
     "output_type": "execute_result"
    }
   ],
   "source": [
    "def fact(n):\n",
    "    x = 1\n",
    "    for i in range(1, n+1):\n",
    "        x *= i\n",
    "    return x\n",
    "\n",
    "fact(3)"
   ]
  },
  {
   "cell_type": "markdown",
   "id": "technological-piece",
   "metadata": {},
   "source": [
    "Now, we can use our function `fact()` inside of another function that computes the binomial coefficient."
   ]
  },
  {
   "cell_type": "code",
   "execution_count": 111,
   "id": "later-dressing",
   "metadata": {},
   "outputs": [
    {
     "data": {
      "text/plain": [
       "20.0"
      ]
     },
     "execution_count": 111,
     "metadata": {},
     "output_type": "execute_result"
    }
   ],
   "source": [
    "def comb(n, k):\n",
    "    x = 1\n",
    "    return fact(n)/(fact(k)*fact(n-k))\n",
    "\n",
    "comb(6, 3)"
   ]
  },
  {
   "cell_type": "markdown",
   "id": "residential-pleasure",
   "metadata": {},
   "source": [
    "And finally, putting everything together:"
   ]
  },
  {
   "cell_type": "code",
   "execution_count": 112,
   "id": "roman-kinase",
   "metadata": {},
   "outputs": [],
   "source": [
    "def binompmf(prob, n, k):\n",
    "    return comb(n,k)*prob**k*(1-prob)**(n-k)"
   ]
  },
  {
   "cell_type": "markdown",
   "id": "native-passage",
   "metadata": {},
   "source": [
    "A useful function that you often find in statistical packages together with the PMF of a distribution is the Cumulative Distribution Function (CDF). It is nothing more than the probability that our RV takes values up to an $z$:\n",
    "\n",
    "$$P(Z\\leq z)$$"
   ]
  },
  {
   "cell_type": "code",
   "execution_count": 113,
   "id": "stopped-technology",
   "metadata": {},
   "outputs": [],
   "source": [
    "def binomcdf(prob, n, x):\n",
    "    result = 0\n",
    "    for x_ in range(0, x+1):\n",
    "        result += binompmf(prob, n, x_)\n",
    "    return result"
   ]
  },
  {
   "cell_type": "markdown",
   "id": "complicated-machinery",
   "metadata": {},
   "source": [
    "Let's try it out. "
   ]
  },
  {
   "cell_type": "code",
   "execution_count": 114,
   "id": "regional-tradition",
   "metadata": {},
   "outputs": [
    {
     "data": {
      "image/jpeg": "[encoded data removed]",
      "text/plain": [
       "<IPython.core.display.Image object>"
      ]
     },
     "execution_count": 114,
     "metadata": {},
     "output_type": "execute_result"
    }
   ],
   "source": [
    "Image(filename='picture_ronaldo.jpg')"
   ]
  },
  {
   "cell_type": "markdown",
   "id": "respiratory-nutrition",
   "metadata": {},
   "source": [
    "\n",
    "We want to assess the probability distribution that models Cristiano Ronaldo's ability to score free-kicks. We will be using the table below, which shows Ronaldo's free-kick record in La Liga and in the Champions League:"
   ]
  },
  {
   "cell_type": "code",
   "execution_count": 115,
   "id": "timely-provincial",
   "metadata": {},
   "outputs": [
    {
     "data": {
      "image/png": "[encoded data removed]",
      "text/plain": [
       "<IPython.core.display.Image object>"
      ]
     },
     "execution_count": 115,
     "metadata": {},
     "output_type": "execute_result"
    }
   ],
   "source": [
    "Image(filename='table_ronaldo.png')"
   ]
  },
  {
   "cell_type": "markdown",
   "id": "useful-personality",
   "metadata": {},
   "source": [
    "Ronaldo has a  0.094 probability of successfully convert a free-kick in the Champions League. Based on that, what is Ronaldo's probability of scoring 1 out of 7 free-kicks in the Champions League?"
   ]
  },
  {
   "cell_type": "code",
   "execution_count": 116,
   "id": "annoying-marketing",
   "metadata": {},
   "outputs": [
    {
     "data": {
      "text/plain": [
       "0.3639109131870316"
      ]
     },
     "execution_count": 116,
     "metadata": {},
     "output_type": "execute_result"
    }
   ],
   "source": [
    "binompmf(0.094, 7, 1)"
   ]
  },
  {
   "cell_type": "markdown",
   "id": "varying-equilibrium",
   "metadata": {},
   "source": [
    "What is the probability of scoring less than 2?"
   ]
  },
  {
   "cell_type": "code",
   "execution_count": 117,
   "id": "frequent-bones",
   "metadata": {},
   "outputs": [
    {
     "data": {
      "text/plain": [
       "0.8649797389430357"
      ]
     },
     "execution_count": 117,
     "metadata": {},
     "output_type": "execute_result"
    }
   ],
   "source": [
    "binomcdf(0.094, 7, 1)"
   ]
  },
  {
   "cell_type": "markdown",
   "id": "governmental-december",
   "metadata": {},
   "source": [
    "# Exercises:\n",
    "\n",
    "You will get the solutions in next week's article.\n",
    "\n",
    "1. A company produces bottles of water. In its main factory, the number of defective bottles is 5%. A quality check consists of randomly selecting and testing 1000 bottles. What are the mean and standard deviation of the number of defective bottles in these samples?"
   ]
  },
  {
   "cell_type": "markdown",
   "id": "refined-incident",
   "metadata": {},
   "source": [
    " 2. A wine company is running a promotion that says 1-in-4 boxes of the wine contain a surprise. Suppose that you are going to buy 5 boxes of this wine, and let X represent the number of surprises you can win in these boxes. Assume that these boxes represent a random sample, and assume that surprises are independent between boxes. What is the probability that you win at most 1 surprise in the 5 boxes?\n",
    "\n",
    "*(Can you solve this problem in 3 different ways? Tip: sampling, summing individual probabilities and using the CDF)*"
   ]
  },
  {
   "cell_type": "markdown",
   "id": "august-witch",
   "metadata": {},
   "source": [
    "3. A math teacher is doing an activity with her students where she gives them a 20-question multiple choice test, and they know none of the answers. Students need to guess on every question, and each question has 5 possible choices, 1 of which is correct. What are the mean and standard deviation of the number of questions that each student gets correct?\n",
    "\n",
    "*(Can you solve this problem in 2 different ways? Tip: sampling and using the theoretical derivation that we did above)*"
   ]
  }
 ],
 "metadata": {
  "kernelspec": {
   "display_name": "Python 3",
   "language": "python",
   "name": "python3"
  },
  "language_info": {
   "codemirror_mode": {
    "name": "ipython",
    "version": 3
   },
   "file_extension": ".py",
   "mimetype": "text/x-python",
   "name": "python",
   "nbconvert_exporter": "python",
   "pygments_lexer": "ipython3",
   "version": "3.6.12"
  }
 },
 "nbformat": 4,
 "nbformat_minor": 5
}
