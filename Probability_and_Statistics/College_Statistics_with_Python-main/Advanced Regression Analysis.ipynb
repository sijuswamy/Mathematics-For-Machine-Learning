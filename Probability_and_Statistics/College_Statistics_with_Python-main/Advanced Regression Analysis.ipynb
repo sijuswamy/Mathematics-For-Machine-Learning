{
 "cells": [
  {
   "cell_type": "markdown",
   "id": "smooth-harvey",
   "metadata": {},
   "source": [
    "# Introduction\n",
    "In a series of weekly articles, I will be covering some important topics of statistics with a twist.\n",
    "\n",
    "The goal is to use Python to help us get intuition on complex concepts, empirically test theoretical proofs, or build algorithms from scratch. In this series, you will find articles covering topics such as random variables, sampling distributions, confidence intervals, significance tests, and more.\n",
    "\n",
    "At the end of each article, you can find exercises to test your knowledge. The solutions will be shared in the article of the following week.\n",
    "\n",
    "Articles published so far:\n",
    "- [Bernoulli and Binomial Random Variables with Python](https://towardsdatascience.com/bernoulli-and-binomial-random-variables-d0698288dd36)\n",
    "- [From Binomial to Geometric and Poisson Random Variables with Python](https://towardsdatascience.com/geometric-and-poisson-random-variables-with-python-e5dcb63d6b55)\n",
    "- [Sampling Distribution of a Sample Proportion with Python](https://towardsdatascience.com/sampling-distributions-with-python-f5a5f268f636)\n",
    "- [Confidence Intervals with Python](https://towardsdatascience.com/confidence-intervals-with-python-bfa28ebb81c)\n",
    "- [Significance Tests with Python](https://towardsdatascience.com/significance-or-hypothesis-tests-with-python-7ed35e9ac9b6)\n",
    "- [Two-sample Inference for the Difference Between Groups with Python](https://towardsdatascience.com/two-sample-inference-for-the-difference-between-groups-with-python-de91fbee32f9)\n",
    "- [Inference for Categorical Data](https://towardsdatascience.com/inference-for-categorical-data-9f3c6034aa57)\n",
    "- Advanced Regression\n",
    "\n",
    "As usual the code is available on my [GitHub](https://github.com/luisroque/College_Statistics_with_Python)."
   ]
  },
  {
   "cell_type": "markdown",
   "id": "vital-voice",
   "metadata": {},
   "source": [
    "# Inference about Slope in Linear Regression"
   ]
  },
  {
   "cell_type": "markdown",
   "id": "alien-catalyst",
   "metadata": {},
   "source": [
    "Imagine that you want to predict the salary of a Data Scientist based on the number of years he has been coding. To be able to build this relationship, we can sample 20 random people from the population of Data Scientists and plot the relationship (notice that the salary unit  is 10,000€). At the same time we can calculate the line of best fit."
   ]
  },
  {
   "cell_type": "code",
   "execution_count": 280,
   "id": "chief-springfield",
   "metadata": {},
   "outputs": [],
   "source": [
    "import pandas as pd\n",
    "import matplotlib.pyplot as plt\n",
    "import numpy as np\n",
    "from scipy.stats import t, chi2"
   ]
  },
  {
   "cell_type": "code",
   "execution_count": 281,
   "id": "needed-curve",
   "metadata": {},
   "outputs": [],
   "source": [
    "salaries = [[4, 5.5, 3.5, 6, 7, 9, 3.4, 5.3, 4.3, 5.3, 6, 6.2, 6.5, 7, 7.1, 4.3, 5.2, 5, 5.7, 3.2]]\n",
    "yearsCoding = [[2, 5, 1, 4, 5, 10, 2, 2, 4, 3, 4, 6, 5, 6, 7, 4, 3, 4, 4, 3]]\n",
    "n = 20"
   ]
  },
  {
   "cell_type": "code",
   "execution_count": 282,
   "id": "academic-steel",
   "metadata": {},
   "outputs": [
    {
     "data": {
      "image/png": "[encoded data removed]",
      "text/plain": [
       "<Figure size 432x288 with 1 Axes>"
      ]
     },
     "metadata": {
      "needs_background": "light"
     },
     "output_type": "display_data"
    }
   ],
   "source": [
    "plt.scatter(yearsCoding[0], salaries[0])\n",
    "plt.xlabel('Years Coding')\n",
    "plt.ylabel('Salary');"
   ]
  },
  {
   "cell_type": "markdown",
   "id": "outdoor-discrimination",
   "metadata": {},
   "source": [
    "The line of best fit can be calculated by minimizing the squared distance between the data points and the line. The equation for the regression line is the following:\n",
    "\n",
    "$$\\begin{align}\n",
    "\\hat y = b \\cdot X + a ,\n",
    "\\end{align}$$\n",
    "\n",
    "where $b$ is the slope and $a$ is the intercept of the regression line. Notice that by calculating this line for our data, we are calculating the line of best fit for a single sample of 20 Data Scientists. We could calculate a different line of best fit for a different sample that we took from our population. This happens because we are estimating parameters for a population. In the case that you could get the salaries and number of years coding for all the Data Scientists in the world to build your model, you would be estimating the true population parameters. In that case we replace $a$ and $b$ by $\\alpha$ and $\\beta$:\n",
    "\n",
    "$$\\begin{align}\n",
    "\\hat y = \\beta \\cdot X + \\alpha\n",
    "\\end{align}$$\n",
    "\n",
    "Since we are using samples to estimate the population parameters, we can make inferences based on those samples. With that in mind, we know that $b$ will not be exactly equal to $\\beta$, but can we say that there is a positive linear relationship or a non-zero linear relationship between salaries and years of coding? As a matter of fact we can do it by defining a confidence interval around this statistic. This way we will have a good sense of where the true parameter might actually be. In previous articles we saw how to compute such interval: we subtract/add the critical value $t^*$ multiplied by the standard error of b.\n",
    "\n",
    "$$\\begin{align}\n",
    "b \\pm t^* SE_b\n",
    "\\end{align}$$\n",
    "\n",
    "In the same way, we could define a hypothesis test for the slope parameter. One that states that there is no relationship between the variables as a null hypothesis and, as the alternative, that there is a relationship between the variables (you could also be more specific and define the alternative hypothesis as considering only a positive linear relationship between the variables).\n",
    "\n",
    "$$\\begin{align}\n",
    "H_0: \\beta = 0 \\\\\n",
    "H_1: \\beta \\neq 0\n",
    "\\end{align}$$\n",
    "\n",
    "As in any other inference procedure we must respect the conditions to assure that the results that we get are valid. In this case, for the slope of a linear regression we must ensure that:\n",
    "* The data must be randomly generated;\n",
    "* The individual observations should be independent (or approximately independent - remember the 10% rule);\n",
    "* The relationship between the variables must be a linear relationship;\n",
    "* For any given x in the population, the distribution of y must be normal;\n",
    "* The variance should be constant for any given x."
   ]
  },
  {
   "cell_type": "markdown",
   "id": "latest-distance",
   "metadata": {},
   "source": [
    "# Fitting a Regression Line from Scratch"
   ]
  },
  {
   "cell_type": "markdown",
   "id": "polyphonic-resort",
   "metadata": {},
   "source": [
    "We already defined our equation for the regression line, now we need to define our cost function and a method to update our parameters. For our cost function we will be using the Mean Squared Error:\n",
    "\n",
    "$$MSE = J(a, b) = \\frac{1}{N} \\sum^n_{i=1}(y_i-(b x_i + a))^2$$\n",
    "\n",
    "To update our parameters we will be using gradient descent. I will not cover in depth the method, I just want to give some intuition. The first step is to compute the gradient of the cost function with respect to each parameter:\n",
    "\n",
    "$$\\begin{align}\n",
    "\\frac{\\partial}{\\partial a} {J} = \\frac{1}{N}\\sum -2(y_i - (b x_i + a)) \\\\\n",
    "\\frac{\\partial}{\\partial b} {J} = \\frac{1}{N}\\sum -2 x_i(y_i - (b x_i + a)) \n",
    "\\end{align}$$\n",
    "\n",
    "Then we update the parameters accordingly:\n",
    "\n",
    "$$\\begin{align}\n",
    "a = a - \\alpha \\cdot da \\\\\n",
    "b = b - \\alpha \\cdot db,\n",
    "\\end{align}$$\n",
    "\n",
    "where $\\alpha$ represents the learning rate."
   ]
  },
  {
   "cell_type": "code",
   "execution_count": 283,
   "id": "romantic-masters",
   "metadata": {},
   "outputs": [],
   "source": [
    "def fit_lr(X, y, num_iter=1000, lr=0.01):\n",
    "    n_samples = X.shape[0]\n",
    "    slope = 0\n",
    "    intercept = 0\n",
    "\n",
    "    for _ in range(num_iter):\n",
    "        y_predicted = np.dot(X, slope) + intercept\n",
    "\n",
    "        ds = (1/n_samples) * np.dot(X.T, (y_predicted - y))\n",
    "        di = (1/n_samples) * np.sum(y_predicted - y)\n",
    "\n",
    "        slope -= lr * ds\n",
    "        intercept -= lr * di\n",
    "        \n",
    "    return (slope, intercept)"
   ]
  },
  {
   "cell_type": "code",
   "execution_count": 284,
   "id": "explicit-change",
   "metadata": {},
   "outputs": [],
   "source": [
    "slope, intercept = fit_lr(np.array(yearsCoding[0]), np.array(salaries[0]))"
   ]
  },
  {
   "cell_type": "code",
   "execution_count": 285,
   "id": "defensive-terminal",
   "metadata": {},
   "outputs": [
    {
     "data": {
      "image/png": "[encoded data removed]",
      "text/plain": [
       "<Figure size 432x288 with 1 Axes>"
      ]
     },
     "metadata": {
      "needs_background": "light"
     },
     "output_type": "display_data"
    }
   ],
   "source": [
    "plt.scatter(yearsCoding[0], salaries[0])\n",
    "plt.xlabel('Years Coding')\n",
    "plt.ylabel('Salary')\n",
    "plt.plot(yearsCoding[0],slope*np.array(yearsCoding[0]) + intercept, color='r');"
   ]
  },
  {
   "cell_type": "code",
   "execution_count": 286,
   "id": "functional-talent",
   "metadata": {},
   "outputs": [
    {
     "name": "stdout",
     "output_type": "stream",
     "text": [
      "Slope=0.7096702503648314\n",
      "Intercept=2.4147010493601404\n"
     ]
    }
   ],
   "source": [
    "print('Slope=' + str(slope))\n",
    "print('Intercept=' + str(intercept))"
   ]
  },
  {
   "cell_type": "markdown",
   "id": "noticed-minimum",
   "metadata": {},
   "source": [
    "What would be the salary of a Data Scientist that codes for 15 years?"
   ]
  },
  {
   "cell_type": "code",
   "execution_count": 287,
   "id": "aggregate-mainland",
   "metadata": {},
   "outputs": [
    {
     "data": {
      "text/plain": [
       "13.059754804832611"
      ]
     },
     "execution_count": 287,
     "metadata": {},
     "output_type": "execute_result"
    }
   ],
   "source": [
    "slope * 15 + intercept"
   ]
  },
  {
   "cell_type": "markdown",
   "id": "immediate-player",
   "metadata": {},
   "source": [
    "It would be around 130,000€."
   ]
  },
  {
   "cell_type": "markdown",
   "id": "leading-involvement",
   "metadata": {},
   "source": [
    "# Confidence Interval of the Slope"
   ]
  },
  {
   "cell_type": "markdown",
   "id": "dried-sweet",
   "metadata": {},
   "source": [
    "We can treat the slope $\\hat b$ as a normally distributed random variable with a mean of $b$ and a variance equal to $\\sigma^2$ divided by the sum of squares of X.\n",
    "\n",
    "$$\n",
    "\\hat b \\sim \\mathcal{N}(b, \\frac{\\sigma^2}{SS_{xx}})$$\n",
    "\n",
    "As we do not know the population variance, we use the sampling variance to calculate the Standard Error (SE):\n",
    "\n",
    "$$SE_{\\hat b} = \\frac{ \\sqrt{\\frac{\\sum{(y_i - \\hat y)}^2}{n-2}}}{\\sqrt{SS_{xx}}}$$\n",
    "\n",
    "We can describe the SE as the standard deviation of the sampling distribution of the slope of the regression line."
   ]
  },
  {
   "cell_type": "code",
   "execution_count": 288,
   "id": "capable-beach",
   "metadata": {},
   "outputs": [
    {
     "data": {
      "text/plain": [
       "79.20000000000002"
      ]
     },
     "execution_count": 288,
     "metadata": {},
     "output_type": "execute_result"
    }
   ],
   "source": [
    "SS_xx = np.sum((np.array(yearsCoding[0]) - np.mean(np.array(yearsCoding[0])))**2)\n",
    "SS_xx"
   ]
  },
  {
   "cell_type": "code",
   "execution_count": 289,
   "id": "under-donor",
   "metadata": {},
   "outputs": [
    {
     "data": {
      "text/plain": [
       "0.08687984291368046"
      ]
     },
     "execution_count": 289,
     "metadata": {},
     "output_type": "execute_result"
    }
   ],
   "source": [
    "SE_b = (np.sqrt(np.sum((np.array(salaries[0])-(np.array(yearsCoding[0])*slope+intercept))**2)/(n-2))) / np.sqrt(SS_xx)\n",
    "SE_b"
   ]
  },
  {
   "cell_type": "markdown",
   "id": "british-marketing",
   "metadata": {},
   "source": [
    "We can finally calculate the 95% confidence interval for the slope of our linear regression."
   ]
  },
  {
   "cell_type": "code",
   "execution_count": 290,
   "id": "equal-vienna",
   "metadata": {},
   "outputs": [
    {
     "name": "stdout",
     "output_type": "stream",
     "text": [
      "95% Confidence interval=[0.53,0.89]\n"
     ]
    }
   ],
   "source": [
    "print('95% Confidence interval=[' + str(np.round(slope - t.ppf(0.975, df=n-2)*SE_b,2)) + ',' + str(np.round(slope + t.ppf(0.975, df=n-2)*SE_b,2)) + ']')"
   ]
  },
  {
   "cell_type": "markdown",
   "id": "editorial-characteristic",
   "metadata": {},
   "source": [
    "Recall that a 95% confidence interval means that the true slope is contained in our confidence intervals 95% of the times.\n",
    "\n",
    "We can use this interval to test the following hypothesis at the $\\alpha = 0.05$ level of significance:\n",
    "\n",
    "$$\\begin{align}\n",
    "H_0: \\beta = 0 \\\\\n",
    "H_1: \\beta \\neq 0\n",
    "\\end{align}$$\n",
    "\n",
    "What can we conclude then? Assuming that $H_0$ is true, we are facing the situation where $\\beta$ does not overlaps with the 95% interval and that happens with probability less than 5%. Thus, we reject $H_0$ and accept the suggested $H_1$. It states that there is some relationship (non-zero) between number of years coding and the salary of a Data Scientist."
   ]
  },
  {
   "cell_type": "markdown",
   "id": "secondary-anchor",
   "metadata": {},
   "source": [
    "# Nonlinear Regression"
   ]
  },
  {
   "cell_type": "markdown",
   "id": "governing-seattle",
   "metadata": {},
   "source": [
    "Now, suppose that the relationship between the salary of a Data Scientist and the number of years of coding is not linear. In this case we see that it is closer to an exponential relationship. What happens if we try to fit a line to these data?"
   ]
  },
  {
   "cell_type": "code",
   "execution_count": 291,
   "id": "referenced-conservative",
   "metadata": {},
   "outputs": [],
   "source": [
    "salaries =    [[3.5, 7.5, 2.5, 7, 9, 40, 3.4, 4.3, 5.3, 5.3, 4, 12.2, 8.5, 10, 18.1, 4.3, 5.2, 5, 5.7, 5.2]]\n",
    "yearsCoding = [[2, 5,   1  , 4, 5, 10, 2  , 2  , 4,   3  , 4, 6  , 5  , 6 , 7   , 4   , 3  , 4, 4  , 3  ]]\n",
    "n = 20"
   ]
  },
  {
   "cell_type": "code",
   "execution_count": 292,
   "id": "reliable-memorabilia",
   "metadata": {},
   "outputs": [
    {
     "data": {
      "image/png": "[encoded data removed]",
      "text/plain": [
       "<Figure size 432x288 with 1 Axes>"
      ]
     },
     "metadata": {
      "needs_background": "light"
     },
     "output_type": "display_data"
    }
   ],
   "source": [
    "plt.scatter(yearsCoding[0], salaries[0])\n",
    "plt.xlabel('Years Coding')\n",
    "plt.ylabel('Salary');"
   ]
  },
  {
   "cell_type": "code",
   "execution_count": 293,
   "id": "fixed-skating",
   "metadata": {},
   "outputs": [],
   "source": [
    "slope, intercept = fit_lr(np.array(yearsCoding[0]), np.array(salaries[0]))"
   ]
  },
  {
   "cell_type": "code",
   "execution_count": 294,
   "id": "afraid-shelter",
   "metadata": {},
   "outputs": [
    {
     "data": {
      "image/png": "[encoded data removed]",
      "text/plain": [
       "<Figure size 432x288 with 1 Axes>"
      ]
     },
     "metadata": {
      "needs_background": "light"
     },
     "output_type": "display_data"
    }
   ],
   "source": [
    "plt.scatter(yearsCoding[0], salaries[0])\n",
    "plt.xlabel('Years Coding')\n",
    "plt.ylabel('Salary')\n",
    "plt.plot(yearsCoding[0],slope*np.array(yearsCoding[0]) + intercept, color='r');"
   ]
  },
  {
   "cell_type": "code",
   "execution_count": 295,
   "id": "raised-pilot",
   "metadata": {},
   "outputs": [
    {
     "name": "stdout",
     "output_type": "stream",
     "text": [
      "Slope=3.35501894004377\n",
      "Intercept=-5.5729005963397205\n"
     ]
    }
   ],
   "source": [
    "print('Slope=' + str(slope))\n",
    "print('Intercept=' + str(intercept))"
   ]
  },
  {
   "cell_type": "markdown",
   "id": "alleged-major",
   "metadata": {},
   "source": [
    "We see that the line that we fit does not explain the data at all. We even get a negative salary for someone that just started coding and we would heavily underestimate the salary of someone that codes for 10 years. We have two options here. The first is to fit an exponential line to the data. The problem with this approach is that we lose the tools that we have been developing to fit and analyze a linear relationship between two variables. On the other hand, we can transform our data prior to fit the regression line."
   ]
  },
  {
   "cell_type": "code",
   "execution_count": 296,
   "id": "plastic-priority",
   "metadata": {},
   "outputs": [
    {
     "data": {
      "image/png": "[encoded data removed]",
      "text/plain": [
       "<Figure size 432x288 with 1 Axes>"
      ]
     },
     "metadata": {
      "needs_background": "light"
     },
     "output_type": "display_data"
    }
   ],
   "source": [
    "plt.scatter(yearsCoding[0], np.log(salaries[0]))\n",
    "plt.xlabel('Years Coding')\n",
    "plt.ylabel('ln(Salary)');"
   ]
  },
  {
   "cell_type": "code",
   "execution_count": 297,
   "id": "enabling-apache",
   "metadata": {},
   "outputs": [],
   "source": [
    "slope, intercept = fit_lr(np.array(yearsCoding[0]), np.log(np.array(salaries[0])))"
   ]
  },
  {
   "cell_type": "code",
   "execution_count": 298,
   "id": "thermal-husband",
   "metadata": {},
   "outputs": [
    {
     "data": {
      "image/png": "[encoded data removed]",
      "text/plain": [
       "<Figure size 432x288 with 1 Axes>"
      ]
     },
     "metadata": {
      "needs_background": "light"
     },
     "output_type": "display_data"
    }
   ],
   "source": [
    "plt.scatter(yearsCoding[0], np.log(salaries[0]))\n",
    "plt.xlabel('Years Coding')\n",
    "plt.ylabel('ln(Salary)')\n",
    "plt.plot(yearsCoding[0],slope*np.array(yearsCoding[0]) + intercept, color='r');"
   ]
  },
  {
   "cell_type": "code",
   "execution_count": 299,
   "id": "occupied-large",
   "metadata": {},
   "outputs": [
    {
     "name": "stdout",
     "output_type": "stream",
     "text": [
      "Slope=0.3173211894646696\n",
      "Intercept=0.5195321580809141\n"
     ]
    }
   ],
   "source": [
    "print('Slope=' + str(slope))\n",
    "print('Intercept=' + str(intercept))"
   ]
  },
  {
   "cell_type": "markdown",
   "id": "stuffed-italic",
   "metadata": {},
   "source": [
    "With the transformation we see that the line of best fit actually explains the relationship between the variable years of coding and the transformed variable salary. But notice that the relationship between the original variables is not linear, but seems to be exponential."
   ]
  },
  {
   "cell_type": "markdown",
   "id": "external-disposition",
   "metadata": {},
   "source": [
    "What would be the salary of a Data Scientist that codes for 15 years in this scenario?"
   ]
  },
  {
   "cell_type": "code",
   "execution_count": 300,
   "id": "comparative-navigation",
   "metadata": {},
   "outputs": [
    {
     "data": {
      "text/plain": [
       "196.24227641696947"
      ]
     },
     "execution_count": 300,
     "metadata": {},
     "output_type": "execute_result"
    }
   ],
   "source": [
    "np.exp(slope * 15+intercept)"
   ]
  },
  {
   "cell_type": "markdown",
   "id": "specific-messenger",
   "metadata": {},
   "source": [
    "It would be almost 2M€! Compare it with the result from the linear dataset that we used before."
   ]
  },
  {
   "cell_type": "markdown",
   "id": "civil-institute",
   "metadata": {},
   "source": [
    "# Conclusion"
   ]
  },
  {
   "cell_type": "markdown",
   "id": "appropriate-stranger",
   "metadata": {},
   "source": [
    "This article covered how to solve a linear regression problem and then \n",
    "use our line of best fit to make inferences about our parameters. In this case we focus on the slope parameter, using confidence intervals and hypothesis testing to evaluate the type of association between two variables of interest. Finally, we introduced the concept of transforming variables to deal with the fact that the data can have nonlinear patterns."
   ]
  },
  {
   "cell_type": "markdown",
   "id": "optical-certification",
   "metadata": {},
   "source": [
    "# Exercises\n",
    "\n",
    "You will get the solutions in next week's article."
   ]
  },
  {
   "cell_type": "markdown",
   "id": "tamil-vegetarian",
   "metadata": {},
   "source": [
    "1. Márcia collected data on the battery life and price of a random sample of Portable Computers. Based on the data presented below, what is the test statistic for the null hypothesis that the population slope is 0? "
   ]
  },
  {
   "cell_type": "markdown",
   "id": "periodic-departure",
   "metadata": {},
   "source": [
    "2. Rui obtained a random sample of colleagues at work and noticed a positive linear relationship between their ages and the number of kilometers they said they walked yesterday. A 95%, percent confidence interval for the slope of the regression line was (15.4, 155.2). Rui wants to use this interval to test $H_0: \\beta=0$ vs. $H_1: \\beta \\neq 0$ at the 5% level of significance. Assume that all conditions for inference have been met. What should Rui conclude?"
   ]
  },
  {
   "cell_type": "markdown",
   "id": "floating-malawi",
   "metadata": {},
   "source": [
    "### Answers from last week"
   ]
  },
  {
   "cell_type": "markdown",
   "id": "mechanical-shopping",
   "metadata": {},
   "source": [
    "1. According to a distributor of surf boards, 66% of the boards are common, 25% are uncommon, and 9% are rare. José wondered if the rarity levels of the boards he and his friends owned followed this distribution, so he took a random sample of 500 boards and recorded their rarity levels. The results are presented in the table below. Carry out a goodness-of-fit test to determine if the distribution of rarity levels of surf boards José and his friends own disagrees with the claimed percentages."
   ]
  },
  {
   "cell_type": "code",
   "execution_count": 301,
   "id": "sticky-religion",
   "metadata": {},
   "outputs": [
    {
     "data": {
      "text/html": [
       "<div>\n",
       "<style scoped>\n",
       "    .dataframe tbody tr th:only-of-type {\n",
       "        vertical-align: middle;\n",
       "    }\n",
       "\n",
       "    .dataframe tbody tr th {\n",
       "        vertical-align: top;\n",
       "    }\n",
       "\n",
       "    .dataframe thead th {\n",
       "        text-align: right;\n",
       "    }\n",
       "</style>\n",
       "<table border=\"1\" class=\"dataframe\">\n",
       "  <thead>\n",
       "    <tr style=\"text-align: right;\">\n",
       "      <th></th>\n",
       "      <th>Common</th>\n",
       "      <th>Uncommon</th>\n",
       "      <th>Rare</th>\n",
       "    </tr>\n",
       "    <tr>\n",
       "      <th>Rarity level</th>\n",
       "      <th></th>\n",
       "      <th></th>\n",
       "      <th></th>\n",
       "    </tr>\n",
       "  </thead>\n",
       "  <tbody>\n",
       "    <tr>\n",
       "      <th>Cards</th>\n",
       "      <td>345</td>\n",
       "      <td>125</td>\n",
       "      <td>30</td>\n",
       "    </tr>\n",
       "  </tbody>\n",
       "</table>\n",
       "</div>"
      ],
      "text/plain": [
       "              Common  Uncommon  Rare\n",
       "Rarity level                        \n",
       "Cards            345       125    30"
      ]
     },
     "execution_count": 301,
     "metadata": {},
     "output_type": "execute_result"
    }
   ],
   "source": [
    "table = [['Cards', 345, 125, 30]]\n",
    "alpha = 0.05\n",
    "df = pd.DataFrame(table)\n",
    "df.columns = ['Rarity level', 'Common', 'Uncommon', 'Rare']\n",
    "df = df.set_index('Rarity level')\n",
    "df"
   ]
  },
  {
   "cell_type": "code",
   "execution_count": 302,
   "id": "manufactured-paper",
   "metadata": {},
   "outputs": [],
   "source": [
    "arr = df.to_numpy()\n",
    "\n",
    "arr = np.concatenate((arr, (np.sum(arr)*np.asarray([0.66, 0.25, 0.09])).reshape(1,-1)))"
   ]
  },
  {
   "cell_type": "code",
   "execution_count": 303,
   "id": "controversial-message",
   "metadata": {},
   "outputs": [
    {
     "data": {
      "text/plain": [
       "5.681818181818182"
      ]
     },
     "execution_count": 303,
     "metadata": {},
     "output_type": "execute_result"
    }
   ],
   "source": [
    "chi_sq_statistic = np.sum((arr[0]-arr[1])**2/arr[1])\n",
    "chi_sq_statistic"
   ]
  },
  {
   "cell_type": "code",
   "execution_count": 304,
   "id": "confirmed-greeting",
   "metadata": {},
   "outputs": [
    {
     "name": "stdout",
     "output_type": "stream",
     "text": [
      "P-value = 0.0584\n"
     ]
    }
   ],
   "source": [
    "print('P-value = ' + str(np.round(1-chi2.cdf(chi_sq_statistic, df =2), 4)))"
   ]
  },
  {
   "cell_type": "code",
   "execution_count": 305,
   "id": "annual-rochester",
   "metadata": {},
   "outputs": [
    {
     "name": "stdout",
     "output_type": "stream",
     "text": [
      "Fail to reject H_0\n"
     ]
    }
   ],
   "source": [
    "if 1-chi2.cdf(chi_sq_statistic, df =2) < alpha:\n",
    "    print('Reject H_0')\n",
    "else:\n",
    "    print('Fail to reject H_0')"
   ]
  }
 ],
 "metadata": {
  "kernelspec": {
   "display_name": "Python 3",
   "language": "python",
   "name": "python3"
  },
  "language_info": {
   "codemirror_mode": {
    "name": "ipython",
    "version": 3
   },
   "file_extension": ".py",
   "mimetype": "text/x-python",
   "name": "python",
   "nbconvert_exporter": "python",
   "pygments_lexer": "ipython3",
   "version": "3.8.5"
  }
 },
 "nbformat": 4,
 "nbformat_minor": 5
}
