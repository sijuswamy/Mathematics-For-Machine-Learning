{
  "nbformat": 4,
  "nbformat_minor": 0,
  "metadata": {
    "colab": {
      "name": "Simplex Method with Python.ipynb",
      "provenance": [],
      "authorship_tag": "ABX9TyMyDEuAjwyhmY92TN7JMB20",
      "include_colab_link": true
    },
    "kernelspec": {
      "name": "python3",
      "display_name": "Python 3"
    },
    "language_info": {
      "name": "python"
    }
  },
  "cells": [
    {
      "cell_type": "markdown",
      "metadata": {
        "id": "view-in-github",
        "colab_type": "text"
      },
      "source": [
        "<a href=\"https://colab.research.google.com/github/sijuswamy/Mathematics-For-Machine-Learning/blob/main/Simplex_Method_with_Python.ipynb\" target=\"_parent\"><img src=\"https://colab.research.google.com/assets/colab-badge.svg\" alt=\"Open In Colab\"/></a>"
      ]
    },
    {
      "cell_type": "markdown",
      "metadata": {
        "id": "3GMYjuRLshBL"
      },
      "source": [
        "# `Python` Method to Solve LPP using simplex method\n",
        "\n",
        "Linear Programming is the simplex matrix method to solve a linear constrained optimization problem. Linear programming (also referred as LP) is an operations research technique used when all the objectives and constraints are linear (in the variables) and when all the decision variables are continuous. In hierarchy, linear programming could be considered as the easiest operations research technique.\n",
        "\n",
        " The most popular approch to solve an LPP is `simplex` method. Befor discussing the simplex method, let's go through the basics of optimization models.\n",
        "\n",
        "An optimization model seeks to find the values of the decision variables that optimize (maximize or minimize) an objective function among the set of all values for the decision variables that satisfy the given constraints. Its three main components are:\n",
        "\n",
        ">Objective function: a function to be optimized (maximized or minimized)\n",
        "Decision variables: controllable variables that influence the performance of the system\n",
        "\n",
        ">Constraints: set of restrictions (i.e. linear inequalities or equalities) of decision variables. A non-negativity constraint limits the decision variables to take positive values (e.g. you cannot produce negative number of items $x_1, x_2$ and $x_3$).\n",
        "\n",
        ">The solution of the optimization model is called the optimal feasible solution.\n"
      ]
    },
    {
      "cell_type": "markdown",
      "metadata": {
        "id": "TZwVLnG-trx5"
      },
      "source": [
        "## Modelling an LPP in `Python`\n",
        "\n",
        "Python’s `SciPy` library contains the `linprog` function to solve linear programming problems. While using `linprog`, there are two considerations to be taken into account while writing the code:\n",
        "1. The problem must be formulated as a minimization problem\n",
        "2. The inequalities must be expressed as ≤"
      ]
    },
    {
      "cell_type": "markdown",
      "metadata": {
        "id": "8Ie8UqZYuAVJ"
      },
      "source": [
        "## Solving a minimization problem\n",
        "\n",
        "Minimization Problem\n",
        "Let’s consider the following minimization problem to be solved:\n",
        "$$ \\text{Minimize}\\quad z=10x_1+15x_2+25x_3$$\n",
        "Subject to the constraints:\n",
        "\\begin{array}{lcl}\n",
        "x_1+x_2+x_3&\\geq& 1000\\\\\n",
        "x_1-2x_2&\\geq& 0\\\\\n",
        "x_3&\\geq&340\\\\ \n",
        "x_1,x_2,x_3&\\geq &0\n",
        "\\end{array}"
      ]
    },
    {
      "cell_type": "markdown",
      "metadata": {
        "id": "wUe30vsTu8k6"
      },
      "source": [
        "# Solution Procedure\n",
        "\n",
        "**Step 1:** Loading required libraries"
      ]
    },
    {
      "cell_type": "code",
      "metadata": {
        "id": "GSFuQKkGqYJj"
      },
      "source": [
        "# Import required libraries\n",
        "import numpy as np\n",
        "from scipy.optimize import linprog\n"
      ],
      "execution_count": 1,
      "outputs": []
    },
    {
      "cell_type": "markdown",
      "metadata": {
        "id": "qdI4vOfpvGoZ"
      },
      "source": [
        "**Step 2:** Create the LPP model in `Python`."
      ]
    },
    {
      "cell_type": "code",
      "metadata": {
        "id": "JH0lRuzqvQSx"
      },
      "source": [
        "# assigning the coefficient matrix to A after converting all constraints to less than or equal type\n",
        "A = np.array([[-1, -1, -1], [-1, 2, 0], [0, 0, -1], [-1, 0, 0], [0, -1, 0], [0, 0, -1]])\n",
        "\n",
        "# Set the cnstants of RHS of constraint to b\n",
        "b = np.array([-1000, 0, -340, 0, 0, 0])\n",
        "\n",
        "# Set the coefficients of the linear objective function vector\n",
        "c = np.array([10, 15, 25])\n"
      ],
      "execution_count": 2,
      "outputs": []
    },
    {
      "cell_type": "markdown",
      "metadata": {
        "id": "HjCYOblGvq5S"
      },
      "source": [
        "**Step 3:** Solution of the problem by invoking solver function."
      ]
    },
    {
      "cell_type": "code",
      "metadata": {
        "colab": {
          "base_uri": "https://localhost:8080/"
        },
        "id": "OqyCiw1Nv0jp",
        "outputId": "65f30527-1e67-488d-d9f2-db613e701b25"
      },
      "source": [
        "# Solve linear programming problem\n",
        "res = linprog(c, A_ub=A, b_ub=b)\n"
      ],
      "execution_count": 3,
      "outputs": [
        {
          "output_type": "stream",
          "name": "stderr",
          "text": [
            "/usr/local/lib/python3.7/dist-packages/numpy/core/fromnumeric.py:87: VisibleDeprecationWarning: Creating an ndarray from ragged nested sequences (which is a list-or-tuple of lists-or-tuples-or ndarrays with different lengths or shapes) is deprecated. If you meant to do this, you must specify 'dtype=object' when creating the ndarray\n",
            "  return ufunc.reduce(obj, axis, dtype, out, **passkwargs)\n"
          ]
        }
      ]
    },
    {
      "cell_type": "markdown",
      "metadata": {
        "id": "NNKnb-svv6wB"
      },
      "source": [
        "**Step 4:** Display the output."
      ]
    },
    {
      "cell_type": "code",
      "metadata": {
        "colab": {
          "base_uri": "https://localhost:8080/"
        },
        "id": "BZmt1Tbmv-4h",
        "outputId": "def3e5da-d350-49f0-c514-5df8934ad0c8"
      },
      "source": [
        "# Print results\n",
        "print('Optimal value:', round(res.fun, ndigits=2),\n",
        "      '\\nx values:', res.x,\n",
        "      '\\nNumber of iterations performed:', res.nit,\n",
        "      '\\nStatus:', res.message)"
      ],
      "execution_count": 4,
      "outputs": [
        {
          "output_type": "stream",
          "name": "stdout",
          "text": [
            "Optimal value: 15100.0 \n",
            "x values: [6.59999996e+02 1.00009440e-07 3.40000000e+02] \n",
            "Number of iterations performed: 7 \n",
            "Status: Optimization terminated successfully.\n"
          ]
        }
      ]
    },
    {
      "cell_type": "markdown",
      "metadata": {
        "id": "JqXA0qp3wTJD"
      },
      "source": [
        "## Solving Maximization Problem\n",
        "\n",
        "Since the `linprog` function from Python’s `SciPy` library is programmed to solve minimization problems, it is necessary to perform a transformation to the original objective function. Every maximization problem can be transformed into a minimization problem my multiplying the coefficients of the objective function by $-1$ (i.e. by changing their signs).\n",
        "\n",
        "** Example:** \n",
        "\n",
        "$$\\text{ Maximize}\\quad z=5x_1+7x_2$$\n",
        "\n",
        "Subject to the constraints:\n",
        " \n",
        " \\begin{array}{lcl}\n",
        "x_1&\\leq&16\\\\ \n",
        "2x_1+3x_2&\\leq & 19\\\\ \n",
        "x_1+x_2&\\leq& 8\\\\ \n",
        "x_1,x_2&\\geq&0\n",
        " \\end{array}\n"
      ]
    },
    {
      "cell_type": "code",
      "metadata": {
        "id": "aymvZraZxJMJ"
      },
      "source": [
        "# Set the inequality constraints matrix\n",
        "# Note: the inequality constraints must be in the form of <=\n",
        "A = np.array([[1, 0], [2, 3], [1, 1], [-1, 0], [0, -1]])\n",
        "\n",
        "# Set the inequality constraints vector\n",
        "b = np.array([16, 19, 8, 0, 0])\n",
        "\n",
        "# Set the coefficients of the linear objective function vector\n",
        "# Note: when maximizing, change the signs of the c vector coefficient\n",
        "c = np.array([-5, -7])"
      ],
      "execution_count": 5,
      "outputs": []
    },
    {
      "cell_type": "code",
      "metadata": {
        "colab": {
          "base_uri": "https://localhost:8080/"
        },
        "id": "CZ6Ru1_WxTA5",
        "outputId": "27bb8bd7-d6ef-4fe2-a26f-1dbde0540ee1"
      },
      "source": [
        "# Solve linear programming problem\n",
        "res = linprog(c, A_ub=A, b_ub=b)"
      ],
      "execution_count": 6,
      "outputs": [
        {
          "output_type": "stream",
          "name": "stderr",
          "text": [
            "/usr/local/lib/python3.7/dist-packages/numpy/core/fromnumeric.py:87: VisibleDeprecationWarning: Creating an ndarray from ragged nested sequences (which is a list-or-tuple of lists-or-tuples-or ndarrays with different lengths or shapes) is deprecated. If you meant to do this, you must specify 'dtype=object' when creating the ndarray\n",
            "  return ufunc.reduce(obj, axis, dtype, out, **passkwargs)\n"
          ]
        }
      ]
    },
    {
      "cell_type": "code",
      "metadata": {
        "colab": {
          "base_uri": "https://localhost:8080/"
        },
        "id": "e_tNGNnBxVEJ",
        "outputId": "d9cc6ca6-9c64-49fc-95cb-aa53ea4cae1e"
      },
      "source": [
        "# Print results\n",
        "print('Optimal value:', round(res.fun*-1, ndigits=2),\n",
        "      '\\nx values:', res.x,\n",
        "      '\\nNumber of iterations performed:', res.nit,\n",
        "      '\\nStatus:', res.message)"
      ],
      "execution_count": 7,
      "outputs": [
        {
          "output_type": "stream",
          "name": "stdout",
          "text": [
            "Optimal value: 46.0 \n",
            "x values: [5. 3.] \n",
            "Number of iterations performed: 5 \n",
            "Status: Optimization terminated successfully.\n"
          ]
        }
      ]
    },
    {
      "cell_type": "markdown",
      "metadata": {
        "id": "-xF2EFRU0JSB"
      },
      "source": [
        "## Formulation problem\n",
        "\n",
        "Let’s say the company is Crocs which supplies only footwear, and the customers here are its distributors who need these crocs in bulk. The products to be supplied are uniform in nature.\n",
        "The cost of shipping matrix for Warehouse i to Customer j is as follows. Each value can also be represented as Cij suggesting Cost C to ship from Warehouse i to Customer j.\n",
        "\n",
        "![](https://miro.medium.com/max/700/1*pNF1FGt82jC-t7rgWDIadg.png)\n",
        "\n",
        "The customer demands and the warehouse availability is as follows.\n",
        "\n",
        "![](https://miro.medium.com/max/700/1*3VQ2wm5ICw3Y8LERWSX1-Q.png)\n"
      ]
    },
    {
      "cell_type": "markdown",
      "metadata": {
        "id": "7YF58l0i0kaZ"
      },
      "source": [
        "## Model formulation\n",
        "\n",
        "A mathematical model of the given problem can be written as: \n",
        "\n",
        "$$\\text{Minimize} \\quad z=x_1+2.5x_2+3y_1+5y_2+0.5z_1+1.5z_2+4w_1+2.5w_2$$\n",
        "\n",
        "Subject to the constraints: \n",
        "\n",
        "\\begin{array}{lcl}\n",
        "x_1+y_1+z_1+w_1&\\leq& 60000\\\\ \n",
        "x_2+y_2+z_2+w_2&\\leq &80000\\\\ \n",
        "x_1+x_2&\\geq& 35000\\\\ \n",
        "y_1+y_2&\\geq& 22000\\\\ \n",
        "z_1+z_2&\\geq&18000\\\\ \n",
        "w_1+w_2&\\geq&30000\\\\ \n",
        "x_1,x_2,y_1,y_2,z_1,z_2,w_1,w_2&\\geq& 0\n",
        "\\end{array}"
      ]
    },
    {
      "cell_type": "code",
      "metadata": {
        "id": "Wnr8VB2x1kFp"
      },
      "source": [
        "# Set the inequality constraints matrix\n",
        "# Note: the inequality constraints must be in the form of <=\n",
        "A = np.array([[1, 0, 1, 0, 1, 0, 1, 0], [0,1,0,1,0,1,0,1], [-1,-1,0,0,0,0,0,0], [0,0,-1,-1,0,0,0,0], [0,0,0,0,-1,-1,0,0],[0,0,0,0,0,0,-1,-1] ])\n",
        "\n",
        "# Set the inequality constraints vector\n",
        "b = np.array([60000, 80000, -35000, -22000, -18000,-30000])\n",
        "\n",
        "# Set the coefficients of the linear objective function vector\n",
        "# Note: when maximizing, change the signs of the c vector coefficient\n",
        "c = np.array([1,2.5,3,5,0.5,1.5,4,2.5])"
      ],
      "execution_count": 15,
      "outputs": []
    },
    {
      "cell_type": "code",
      "metadata": {
        "id": "aZDTFf232aVB"
      },
      "source": [
        "# Solve linear programming problem\n",
        "res = linprog(c, A_ub=A, b_ub=b,method=\"revised simplex\")"
      ],
      "execution_count": 19,
      "outputs": []
    },
    {
      "cell_type": "code",
      "metadata": {
        "colab": {
          "base_uri": "https://localhost:8080/"
        },
        "id": "eJe1XazY2dww",
        "outputId": "722995fb-788e-4d7b-a024-e098708c5b8d"
      },
      "source": [
        "# Print results\n",
        "print('Optimal value:', round(res.fun, ndigits=2),\n",
        "      '\\nx values:', res.x,\n",
        "      '\\nNumber of iterations performed:', res.nit,\n",
        "      '\\nStatus:', res.message)"
      ],
      "execution_count": 20,
      "outputs": [
        {
          "output_type": "stream",
          "name": "stdout",
          "text": [
            "Optimal value: 200000.0 \n",
            "x values: [35000.     0. 22000.     0.  3000. 15000.     0. 30000.] \n",
            "Number of iterations performed: 9 \n",
            "Status: Optimization terminated successfully.\n"
          ]
        }
      ]
    },
    {
      "cell_type": "markdown",
      "metadata": {
        "id": "PMMkjnDb5djJ"
      },
      "source": [
        "## Resourse Allocation Problem:  \n",
        "a factory produces four different products, and that the daily produced amount of the first product is $x_1$, the amount produced of the second product is $x_2$ , and so on. The goal is to determine the profit-maximizing daily production amount for each product, bearing in mind the following conditions:\n",
        "\n",
        "The profit per unit of product is \\\\$20, \\\\$12, \\\\$40, and \\\\$25 for the first, second, third, and fourth product, respectively.\n",
        "\n",
        "Due to manpower constraints, the total number of units produced per day can’t exceed fifty.\n",
        "\n",
        "For each unit of the first product, three units of the raw material A are consumed. Each unit of the second product requires two units of the raw material A and one unit of the raw material B. Each unit of the third product needs one unit of A and two units of B. Finally, each unit of the fourth product requires three units of B.\n",
        "\n",
        "Due to the transportation and storage constraints, the factory can consume up to one hundred units of the raw material A and ninety units of B per day."
      ]
    },
    {
      "cell_type": "markdown",
      "metadata": {
        "id": "xqkM2mPR54tx"
      },
      "source": [
        "## Mathematical model is ;\n",
        "\n",
        "$$\\text{maximize}\\quad z=20x_1+12x_2+40x_3+25x_4$$\n",
        "\n",
        "Subject to the conditions\n",
        "\\begin{array}{lcl}\n",
        "x_1+x_2+x_3+x_4&\\leq&50\\\\ \n",
        "3x_1+2x_2+x_3&\\leq&100\\\\ \n",
        "x_2+2x_3+3x_4&\\leq& 90\\\\ \n",
        "x_1,x_2,x_3,x_4&\\geq& 0\n",
        "\\end{array}\n"
      ]
    },
    {
      "cell_type": "markdown",
      "metadata": {
        "id": "BfICYqD769MQ"
      },
      "source": [
        "## Solution steps"
      ]
    },
    {
      "cell_type": "code",
      "metadata": {
        "id": "qcgi36z07AxA"
      },
      "source": [
        "# Set the inequality constraints matrix\n",
        "# Note: the inequality constraints must be in the form of <=\n",
        "A = np.array([[1,1,1,1], [3,2,1,0], [0,1,2,3]])\n",
        "\n",
        "# Set the inequality constraints vector\n",
        "b = np.array([50,100,90])\n",
        "\n",
        "# Set the coefficients of the linear objective function vector\n",
        "# Note: when maximizing, change the signs of the c vector coefficient\n",
        "c = np.array([-20,-12,-40,-25])"
      ],
      "execution_count": 21,
      "outputs": []
    },
    {
      "cell_type": "code",
      "metadata": {
        "id": "FSGgMLHF7Wgo"
      },
      "source": [
        "# Solve linear programming problem\n",
        "res = linprog(c, A_ub=A, b_ub=b,method=\"revised simplex\")"
      ],
      "execution_count": 22,
      "outputs": []
    },
    {
      "cell_type": "code",
      "metadata": {
        "colab": {
          "base_uri": "https://localhost:8080/"
        },
        "id": "EjY7UZge7b5A",
        "outputId": "297c6bdd-0d87-474a-c1d3-59bde435eea8"
      },
      "source": [
        "# Print results\n",
        "print('Optimal value:', round(res.fun*-1, ndigits=2),\n",
        "      '\\nx values:', res.x,\n",
        "      '\\nNumber of iterations performed:', res.nit,\n",
        "      '\\nStatus:', res.message)"
      ],
      "execution_count": 23,
      "outputs": [
        {
          "output_type": "stream",
          "name": "stdout",
          "text": [
            "Optimal value: 1900.0 \n",
            "x values: [ 5.  0. 45.  0.] \n",
            "Number of iterations performed: 2 \n",
            "Status: Optimization terminated successfully.\n"
          ]
        }
      ]
    }
  ]
}